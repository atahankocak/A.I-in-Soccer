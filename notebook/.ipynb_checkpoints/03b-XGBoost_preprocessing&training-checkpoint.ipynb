{
 "cells": [
  {
   "cell_type": "markdown",
   "metadata": {},
   "source": [
    "### More Fun\n",
    "\n",
    "Hi again! This notebook is dedicated to feature engineering and classifier training. "
   ]
  },
  {
   "cell_type": "code",
   "execution_count": 1,
   "metadata": {},
   "outputs": [],
   "source": [
    "# for data munging\n",
    "import pandas as pd\n",
    "import numpy as np\n",
    "\n",
    "# for visualization and pitch drawing\n",
    "import matplotlib.pyplot as plt\n",
    "import matplotlib.patches\n",
    "import seaborn as sns\n",
    "\n",
    "# modeling\n",
    "from sklearn.metrics import accuracy_score\n",
    "from sklearn.model_selection import train_test_split\n",
    "import xgboost as xgb\n",
    "\n",
    "# for saving the model\n",
    "import joblib\n",
    "\n",
    "%matplotlib inline"
   ]
  },
  {
   "cell_type": "code",
   "execution_count": 2,
   "metadata": {},
   "outputs": [],
   "source": [
    "# pandas setup - just the way I like it!\n",
    "pd.set_option('display.max_columns', 50)\n",
    "pd.set_option('display.max_rows', 1000)\n",
    "pd.set_option('display.precision', 3)"
   ]
  },
  {
   "cell_type": "markdown",
   "metadata": {},
   "source": [
    "I use the smaller representation of the event data to save time. As we have seen before (in the notebook 02), England data is a very good representation of the bigger dataset."
   ]
  },
  {
   "cell_type": "code",
   "execution_count": 3,
   "metadata": {},
   "outputs": [],
   "source": [
    "# read in data\n",
    "events_eng = pd.read_csv(\"../../csv_files/AI_in_Soccer/02-eventsEng.csv\", index_col=0)"
   ]
  },
  {
   "cell_type": "markdown",
   "metadata": {},
   "source": [
    "#### Usual checks"
   ]
  },
  {
   "cell_type": "code",
   "execution_count": 6,
   "metadata": {},
   "outputs": [
    {
     "data": {
      "text/html": [
       "<div>\n",
       "<style scoped>\n",
       "    .dataframe tbody tr th:only-of-type {\n",
       "        vertical-align: middle;\n",
       "    }\n",
       "\n",
       "    .dataframe tbody tr th {\n",
       "        vertical-align: top;\n",
       "    }\n",
       "\n",
       "    .dataframe thead th {\n",
       "        text-align: right;\n",
       "    }\n",
       "</style>\n",
       "<table border=\"1\" class=\"dataframe\">\n",
       "  <thead>\n",
       "    <tr style=\"text-align: right;\">\n",
       "      <th></th>\n",
       "      <th>id</th>\n",
       "      <th>matchId</th>\n",
       "      <th>gameweek</th>\n",
       "      <th>month</th>\n",
       "      <th>hour</th>\n",
       "      <th>teamHome</th>\n",
       "      <th>teamId</th>\n",
       "      <th>teamName</th>\n",
       "      <th>league</th>\n",
       "      <th>playerId</th>\n",
       "      <th>shortName</th>\n",
       "      <th>role</th>\n",
       "      <th>age</th>\n",
       "      <th>height</th>\n",
       "      <th>weight</th>\n",
       "      <th>foot</th>\n",
       "      <th>eventName</th>\n",
       "      <th>subEventName</th>\n",
       "      <th>matchPeriod</th>\n",
       "      <th>eventSec</th>\n",
       "      <th>x_start</th>\n",
       "      <th>y_start</th>\n",
       "      <th>x_end</th>\n",
       "      <th>y_end</th>\n",
       "      <th>leagueNum</th>\n",
       "      <th>footNum</th>\n",
       "      <th>matchPeriodNum</th>\n",
       "      <th>roleNum</th>\n",
       "      <th>eventMin</th>\n",
       "      <th>eventMinRounded</th>\n",
       "      <th>phyScore</th>\n",
       "      <th>phyClass</th>\n",
       "      <th>event</th>\n",
       "      <th>x_start_scaled</th>\n",
       "      <th>x_end_scaled</th>\n",
       "      <th>y_start_scaled</th>\n",
       "      <th>y_end_scaled</th>\n",
       "    </tr>\n",
       "  </thead>\n",
       "  <tbody>\n",
       "    <tr>\n",
       "      <th>0</th>\n",
       "      <td>177959171</td>\n",
       "      <td>2499719</td>\n",
       "      <td>1</td>\n",
       "      <td>8</td>\n",
       "      <td>18</td>\n",
       "      <td>Arsenal</td>\n",
       "      <td>1609</td>\n",
       "      <td>Arsenal</td>\n",
       "      <td>england</td>\n",
       "      <td>25413</td>\n",
       "      <td>A. Lacazette</td>\n",
       "      <td>FWD</td>\n",
       "      <td>26.599</td>\n",
       "      <td>175.0</td>\n",
       "      <td>73.0</td>\n",
       "      <td>right</td>\n",
       "      <td>Pass</td>\n",
       "      <td>Simple pass</td>\n",
       "      <td>1H</td>\n",
       "      <td>2.759</td>\n",
       "      <td>49</td>\n",
       "      <td>49</td>\n",
       "      <td>31</td>\n",
       "      <td>78</td>\n",
       "      <td>1</td>\n",
       "      <td>1</td>\n",
       "      <td>1</td>\n",
       "      <td>3</td>\n",
       "      <td>0.046</td>\n",
       "      <td>1</td>\n",
       "      <td>5.0</td>\n",
       "      <td>normal-normal</td>\n",
       "      <td>short_pass</td>\n",
       "      <td>58.8</td>\n",
       "      <td>37.2</td>\n",
       "      <td>39.2</td>\n",
       "      <td>62.4</td>\n",
       "    </tr>\n",
       "    <tr>\n",
       "      <th>1</th>\n",
       "      <td>177959172</td>\n",
       "      <td>2499719</td>\n",
       "      <td>1</td>\n",
       "      <td>8</td>\n",
       "      <td>18</td>\n",
       "      <td>Arsenal</td>\n",
       "      <td>1609</td>\n",
       "      <td>Arsenal</td>\n",
       "      <td>england</td>\n",
       "      <td>370224</td>\n",
       "      <td>R. Holding</td>\n",
       "      <td>DEF</td>\n",
       "      <td>22.284</td>\n",
       "      <td>189.0</td>\n",
       "      <td>75.0</td>\n",
       "      <td>right</td>\n",
       "      <td>Pass</td>\n",
       "      <td>High pass</td>\n",
       "      <td>1H</td>\n",
       "      <td>4.947</td>\n",
       "      <td>31</td>\n",
       "      <td>78</td>\n",
       "      <td>51</td>\n",
       "      <td>75</td>\n",
       "      <td>1</td>\n",
       "      <td>1</td>\n",
       "      <td>1</td>\n",
       "      <td>1</td>\n",
       "      <td>0.082</td>\n",
       "      <td>1</td>\n",
       "      <td>8.0</td>\n",
       "      <td>tall-normal</td>\n",
       "      <td>long_pass</td>\n",
       "      <td>37.2</td>\n",
       "      <td>61.2</td>\n",
       "      <td>62.4</td>\n",
       "      <td>60.0</td>\n",
       "    </tr>\n",
       "    <tr>\n",
       "      <th>2</th>\n",
       "      <td>177959173</td>\n",
       "      <td>2499719</td>\n",
       "      <td>1</td>\n",
       "      <td>8</td>\n",
       "      <td>18</td>\n",
       "      <td>Arsenal</td>\n",
       "      <td>1609</td>\n",
       "      <td>Arsenal</td>\n",
       "      <td>england</td>\n",
       "      <td>3319</td>\n",
       "      <td>M. \\u00d6zil</td>\n",
       "      <td>MID</td>\n",
       "      <td>29.213</td>\n",
       "      <td>180.0</td>\n",
       "      <td>76.0</td>\n",
       "      <td>left</td>\n",
       "      <td>Pass</td>\n",
       "      <td>Head pass</td>\n",
       "      <td>1H</td>\n",
       "      <td>6.542</td>\n",
       "      <td>51</td>\n",
       "      <td>75</td>\n",
       "      <td>35</td>\n",
       "      <td>71</td>\n",
       "      <td>1</td>\n",
       "      <td>2</td>\n",
       "      <td>1</td>\n",
       "      <td>2</td>\n",
       "      <td>0.109</td>\n",
       "      <td>1</td>\n",
       "      <td>6.0</td>\n",
       "      <td>normal-stocky</td>\n",
       "      <td>short_pass</td>\n",
       "      <td>61.2</td>\n",
       "      <td>42.0</td>\n",
       "      <td>60.0</td>\n",
       "      <td>56.8</td>\n",
       "    </tr>\n",
       "  </tbody>\n",
       "</table>\n",
       "</div>"
      ],
      "text/plain": [
       "          id  matchId  gameweek  month  hour  teamHome  teamId teamName  \\\n",
       "0  177959171  2499719         1      8    18  Arsenal     1609  Arsenal   \n",
       "1  177959172  2499719         1      8    18  Arsenal     1609  Arsenal   \n",
       "2  177959173  2499719         1      8    18  Arsenal     1609  Arsenal   \n",
       "\n",
       "    league  playerId     shortName role     age  height  weight   foot  \\\n",
       "0  england     25413  A. Lacazette  FWD  26.599   175.0    73.0  right   \n",
       "1  england    370224    R. Holding  DEF  22.284   189.0    75.0  right   \n",
       "2  england      3319  M. \\u00d6zil  MID  29.213   180.0    76.0   left   \n",
       "\n",
       "  eventName subEventName matchPeriod  eventSec  x_start  y_start  x_end  \\\n",
       "0      Pass  Simple pass          1H     2.759       49       49     31   \n",
       "1      Pass    High pass          1H     4.947       31       78     51   \n",
       "2      Pass    Head pass          1H     6.542       51       75     35   \n",
       "\n",
       "   y_end  leagueNum  footNum  matchPeriodNum  roleNum  eventMin  \\\n",
       "0     78          1        1               1        3     0.046   \n",
       "1     75          1        1               1        1     0.082   \n",
       "2     71          1        2               1        2     0.109   \n",
       "\n",
       "   eventMinRounded  phyScore       phyClass       event  x_start_scaled  \\\n",
       "0                1       5.0  normal-normal  short_pass            58.8   \n",
       "1                1       8.0    tall-normal   long_pass            37.2   \n",
       "2                1       6.0  normal-stocky  short_pass            61.2   \n",
       "\n",
       "   x_end_scaled  y_start_scaled  y_end_scaled  \n",
       "0          37.2            39.2          62.4  \n",
       "1          61.2            62.4          60.0  \n",
       "2          42.0            60.0          56.8  "
      ]
     },
     "execution_count": 6,
     "metadata": {},
     "output_type": "execute_result"
    }
   ],
   "source": [
    "events_eng.head(3)"
   ]
  },
  {
   "cell_type": "code",
   "execution_count": 7,
   "metadata": {},
   "outputs": [
    {
     "data": {
      "text/plain": [
       "(565909, 37)"
      ]
     },
     "execution_count": 7,
     "metadata": {},
     "output_type": "execute_result"
    }
   ],
   "source": [
    "events_eng.shape"
   ]
  },
  {
   "cell_type": "code",
   "execution_count": 8,
   "metadata": {},
   "outputs": [
    {
     "name": "stdout",
     "output_type": "stream",
     "text": [
      "<class 'pandas.core.frame.DataFrame'>\n",
      "Int64Index: 565909 entries, 0 to 643149\n",
      "Data columns (total 37 columns):\n",
      "id                 565909 non-null int64\n",
      "matchId            565909 non-null int64\n",
      "gameweek           565909 non-null int64\n",
      "month              565909 non-null int64\n",
      "hour               565909 non-null int64\n",
      "teamHome           565909 non-null object\n",
      "teamId             565909 non-null int64\n",
      "teamName           565909 non-null object\n",
      "league             565909 non-null object\n",
      "playerId           565909 non-null int64\n",
      "shortName          565909 non-null object\n",
      "role               565909 non-null object\n",
      "age                565909 non-null float64\n",
      "height             565909 non-null float64\n",
      "weight             565909 non-null float64\n",
      "foot               565909 non-null object\n",
      "eventName          565909 non-null object\n",
      "subEventName       565909 non-null object\n",
      "matchPeriod        565909 non-null object\n",
      "eventSec           565909 non-null float64\n",
      "x_start            565909 non-null int64\n",
      "y_start            565909 non-null int64\n",
      "x_end              565909 non-null int64\n",
      "y_end              565909 non-null int64\n",
      "leagueNum          565909 non-null int64\n",
      "footNum            565909 non-null int64\n",
      "matchPeriodNum     565909 non-null int64\n",
      "roleNum            565909 non-null int64\n",
      "eventMin           565909 non-null float64\n",
      "eventMinRounded    565909 non-null int64\n",
      "phyScore           565909 non-null float64\n",
      "phyClass           565909 non-null object\n",
      "event              565909 non-null object\n",
      "x_start_scaled     565909 non-null float64\n",
      "x_end_scaled       565909 non-null float64\n",
      "y_start_scaled     565909 non-null float64\n",
      "y_end_scaled       565909 non-null float64\n",
      "dtypes: float64(10), int64(16), object(11)\n",
      "memory usage: 164.1+ MB\n"
     ]
    }
   ],
   "source": [
    "events_eng.info()"
   ]
  },
  {
   "cell_type": "markdown",
   "metadata": {},
   "source": [
    "Looks good!\n",
    "\n",
    "#### Train - Validation Split"
   ]
  },
  {
   "cell_type": "markdown",
   "metadata": {},
   "source": [
    "I will just validate the model this book. The field testing is done in the notebook 04, where I link the LSTM and Xgboost models.\n",
    "\n",
    "Also, I will not use the automated train/val split mechanism for this project. It will be manual for the completeness of the study. In other words, everything about the soccer league is sequential; the matches, the players' physical condition, the grounds' status... everything is impacted by the previous state. I want to honor that and split the dataset by the gameweeks.\n",
    "\n",
    "There are 38 gameweeks English league. Let's go for something like 80-20. That means, about 31 gameweeks to train and 7 gameweeks to validate."
   ]
  },
  {
   "cell_type": "code",
   "execution_count": 5,
   "metadata": {},
   "outputs": [],
   "source": [
    "# define the splitter (dataframe, lower validation limit - exclusive, upper validation limit - inclusive)\n",
    "def data_splitter(df, week_beg, week_end):\n",
    "    # train set\n",
    "    train_ds = df[df['gameweek'] < week_beg]\n",
    "    # validation set\n",
    "    val_ds = df[(df['gameweek'] >= week_beg) & (df['gameweek'] <= week_end)]\n",
    "    \n",
    "    # ratio info\n",
    "    print(f\"Validation set is {(val_ds.shape[0] / df.shape[0]) * 100:.2f}% of train set.\")\n",
    "    \n",
    "    return train_ds, val_ds\n"
   ]
  },
  {
   "cell_type": "code",
   "execution_count": 33,
   "metadata": {
    "scrolled": false
   },
   "outputs": [
    {
     "name": "stdout",
     "output_type": "stream",
     "text": [
      "Validation set is 21.11% of train set.\n"
     ]
    }
   ],
   "source": [
    "eng_train, eng_val = data_splitter(events_eng, 31, 38)"
   ]
  },
  {
   "cell_type": "markdown",
   "metadata": {},
   "source": [
    "Looks good! Let's define our sets and model!\n",
    "\n",
    "#### Model Building"
   ]
  },
  {
   "cell_type": "markdown",
   "metadata": {},
   "source": [
    "Let's see what XGBoost classifier can do. \n",
    "\n",
    "Ok, but why XGBoost? In my most humble opinion, the events data does not signify a high variance but high bias towards certain events at certain parts of the field such as the dominance of pass around the midfield area (see book 02 for events distribution visualizations of Arsenal). This idea would go along with the method of Xgboost algorithm in a way, starting with high bias (small depth) and corrects the mistakes as it goes by fitting these weak leraners to the residuals of the current predictions. This can work with the dynamic nature of the game of soccer, where the predictibility of the events can also be related to issues additional to coordiantes and roles.  And these issues (such as coach interaction, player wage, real-time reactions of fans, betting) can impact the nature of the game by making it more artifical than natural. To illustrate, a news paper article about the Arsenal midfielder not passing enought and the fans being not happy about it at all can push this player's event chain in the next match towards the passing more than he usually does. That does not help to my prediction parameter because I have no way of accounting for such measures. My only defence would be a model to handle that part. \n",
    "\n",
    "This may be very true and on the point or it may be exremely wrong, but it is my reason. There is much learn (people give their years to understand and design such models and I respect that) about the models I work with. If you are an expert in Xgboost and you have corrections or additions, please do not hesistate to contact me about them. I will gladly listen/read.\n",
    "\n",
    "About the model performance measurement: I use accuracy. Beacuse wrong classification of all the targets (Events: Short pass, Long pass, Game Break, Shot, and Control) are equally costly in both ways. For example, predicting a shot rather than a short pass can pull the defense up to block the shot and create an opening for a short pass and resulting a conceded goal is equally costly as the reverse case where a shot is not predicted and actually happens can end up with a conceded goal. There is an interesting balance in the game.\n",
    "\n",
    "That's being said, I start with a humble version and build on it. And, I adjusted a few parameters and added an extra function to monitor the model performance:\n",
    "\n",
    "    1) I keep the tree numbers high for more chances in better foresting and set a limitatin around 20 to 50 to capture the best quality trees. \n",
    "    2) I constructed an eval set to keep track of the how the model performs. Let's not forget to set an evaluation platform to screen our model.\n",
    "    3) Since I deal with a multi-class problem, I make sure to set the number of classes to 6 (number of the target classes) and ojective to multiple softmax. Also, I adjust the evaluation metric to account for multi-class error.\n",
    "    \n",
    "Let's define the model first. Then we can modify the sets and the parameters for faster application."
   ]
  },
  {
   "cell_type": "code",
   "execution_count": 38,
   "metadata": {},
   "outputs": [],
   "source": [
    "def model_base(X_train, X_val, y_train, y_val, n_estimators, early_stopping_rounds):\n",
    "    \n",
    "    # assign sets\n",
    "    X_train, X_val, y_train, y_val = X_train, X_val, y_train, y_val\n",
    "    \n",
    "    # define model\n",
    "    gbm = xgb.XGBClassifier( \n",
    "                           n_estimators=n_estimators,\n",
    "                           objective=\"multi:softmax\",\n",
    "                           num_class=5, \n",
    "                           random_state=42,\n",
    "                           n_jobs=-1\n",
    "                          )\n",
    "    # setup evaluation set\n",
    "    eval_set=[(X_train,y_train),(X_val,y_val)] #tracking train/val error as we go\n",
    "\n",
    "    # fit with evaluation set\n",
    "    model = gbm.fit( \n",
    "                        X_train, y_train,\n",
    "                        eval_set=eval_set,\n",
    "                        eval_metric='merror',\n",
    "                        early_stopping_rounds=early_stopping_rounds,\n",
    "                        verbose=False #gives output log as below.I set it false for presentation purposes.\n",
    "                       )\n",
    "    print(f\"Train Score: {accuracy_score(y_train, model.predict(X_train, ntree_limit=gbm.best_ntree_limit))}.\")\n",
    "    print(f\"Validation Score: {accuracy_score(y_val, model.predict(X_val, ntree_limit=gbm.best_ntree_limit))}.\")\n",
    "    xgb.plot_importance(model);"
   ]
  },
  {
   "cell_type": "markdown",
   "metadata": {},
   "source": [
    "I set the verbose to False to avoid crowded looks, if you ever want to monitor the performance tree by tree set it to True.\n",
    "\n",
    "#### Trial (a) - Simple\n",
    "First, I try the 2 feature set of just coordinates and observe the performance "
   ]
  },
  {
   "cell_type": "code",
   "execution_count": 37,
   "metadata": {},
   "outputs": [],
   "source": [
    "# train features and target sets\n",
    "X_train_a = eng_train[['x_start', 'y_start']]\n",
    "y_train_a = eng_train['event']\n",
    "\n",
    "# validation features and target sets\n",
    "X_val_a = eng_val[['x_start', 'y_start']]\n",
    "y_val_a = eng_val['event']"
   ]
  },
  {
   "cell_type": "markdown",
   "metadata": {},
   "source": [
    "I can use the scaled coordinates as input features. But, it will not change the score (scaling by multiplication and division)."
   ]
  },
  {
   "cell_type": "code",
   "execution_count": 321,
   "metadata": {
    "scrolled": true
   },
   "outputs": [
    {
     "name": "stdout",
     "output_type": "stream",
     "text": [
      "Train Score: 0.5896621432765581.\n",
      "Validation Score: 0.591337586940277.\n"
     ]
    },
    {
     "data": {
      "image/png": "[encoded data removed]",
      "text/plain": [
       "<Figure size 432x288 with 1 Axes>"
      ]
     },
     "metadata": {
      "needs_background": "light"
     },
     "output_type": "display_data"
    }
   ],
   "source": [
    "# base model a fit\n",
    "model_base(X_train_a, X_val_a, y_train_a, y_val_a, 30000, 30)"
   ]
  },
  {
   "cell_type": "markdown",
   "metadata": {},
   "source": [
    "#### Trial (b) - Time factor\n",
    "Let's increase the complexity by adding the time factor (`eventSec`) and the match period to signify the seperation of time (`matchPeriodNum`)."
   ]
  },
  {
   "cell_type": "code",
   "execution_count": 39,
   "metadata": {},
   "outputs": [],
   "source": [
    "# train features and target sets\n",
    "X_train_b = eng_train[['x_start', 'y_start', \n",
    "                       'eventSec', 'matchPeriodNum']]\n",
    "y_train_b = eng_train['event']\n",
    "\n",
    "# validation features and target sets\n",
    "X_val_b = eng_val[['x_start', 'y_start',\n",
    "                   'eventSec', 'matchPeriodNum']]\n",
    "y_val_b = eng_val['event']"
   ]
  },
  {
   "cell_type": "code",
   "execution_count": 40,
   "metadata": {},
   "outputs": [
    {
     "name": "stdout",
     "output_type": "stream",
     "text": [
      "Train Score: 0.590417847263442.\n",
      "Validation Score: 0.5918010280107824.\n"
     ]
    },
    {
     "data": {
      "image/png": "[encoded data removed]",
      "text/plain": [
       "<Figure size 432x288 with 1 Axes>"
      ]
     },
     "metadata": {
      "needs_background": "light"
     },
     "output_type": "display_data"
    }
   ],
   "source": [
    "# base model b fit\n",
    "model_base(X_train_b, X_val_b, y_train_b, y_val_b, 30000, 30)"
   ]
  },
  {
   "cell_type": "markdown",
   "metadata": {},
   "source": [
    "#### Trial (c) - Linking coordinates\n",
    "Not much of a progress. Let's add the end coordinates of events. This may actually improve the score. Because it will link the observations in the same match period in a given match. "
   ]
  },
  {
   "cell_type": "code",
   "execution_count": 41,
   "metadata": {},
   "outputs": [],
   "source": [
    "# train features and target sets\n",
    "X_train_c = eng_train[['x_start', 'y_start', \n",
    "                       'x_end', 'y_end',\n",
    "                       'eventSec', 'matchPeriodNum']]\n",
    "y_train_c = eng_train['event']\n",
    "\n",
    "# validation features and target sets\n",
    "X_val_c = eng_val[['x_start', 'y_start', \n",
    "                   'x_end', 'y_end',\n",
    "                   'eventSec', 'matchPeriodNum']]\n",
    "y_val_c = eng_val['event']"
   ]
  },
  {
   "cell_type": "code",
   "execution_count": 42,
   "metadata": {},
   "outputs": [
    {
     "name": "stdout",
     "output_type": "stream",
     "text": [
      "Train Score: 0.7151403836892856.\n",
      "Validation Score: 0.710641753310898.\n"
     ]
    },
    {
     "data": {
      "image/png": "[encoded data removed]",
      "text/plain": [
       "<Figure size 432x288 with 1 Axes>"
      ]
     },
     "metadata": {
      "needs_background": "light"
     },
     "output_type": "display_data"
    }
   ],
   "source": [
    "# base model c fit\n",
    "model_base(X_train_c, X_val_c, y_train_c, y_val_c, 30000, 30)"
   ]
  },
  {
   "cell_type": "markdown",
   "metadata": {},
   "source": [
    "#### Trial (d) - Adding roles\n",
    "Much better! Let's take the match period and event second off the set. Match period is already indirectly accounted by bringing in the corrdinates where events end. And the events second does not add much to the performance.  My personal choice would be the role of the player. It will have direct impat on the location. I believe I have three graphs that say so in notebook 02. If not, I will add them. I add the quantified role (1: DEF, 2: MID, and 3: FWD)"
   ]
  },
  {
   "cell_type": "code",
   "execution_count": 52,
   "metadata": {},
   "outputs": [],
   "source": [
    "# train features and target sets\n",
    "X_train_d = eng_train[['x_start', 'y_start', 'x_end', 'y_end',\n",
    "                       'roleNum']]\n",
    "y_train_d = eng_train['event']\n",
    "\n",
    "# validation features and target sets\n",
    "X_val_d = eng_val[['x_start', 'y_start', 'x_end', 'y_end',\n",
    "                   'roleNum']]\n",
    "y_val_d = eng_val['event']"
   ]
  },
  {
   "cell_type": "code",
   "execution_count": 45,
   "metadata": {},
   "outputs": [
    {
     "name": "stdout",
     "output_type": "stream",
     "text": [
      "Train Score: 0.728523591403389.\n",
      "Validation Score: 0.7230134611170917.\n"
     ]
    },
    {
     "data": {
      "image/png": "[encoded data removed]",
      "text/plain": [
       "<Figure size 432x288 with 1 Axes>"
      ]
     },
     "metadata": {
      "needs_background": "light"
     },
     "output_type": "display_data"
    }
   ],
   "source": [
    "# base model 1d fit\n",
    "model_base(X_train_d, X_val_d, y_train_d, y_val_d, 30000, 30)"
   ]
  },
  {
   "cell_type": "markdown",
   "metadata": {},
   "source": [
    "Just a little better. \n",
    "\n",
    "In an old version of this notebook, I tried putting more emphasis on the match period by seperating datasets into 2 pieces, 1st half events data and 2nd half events data. I defined 2 seperate XGBoost models based on each match period. However, the accuracy score was 1% lower than the best. I did not include that part here. It was very crowded and confusing. Only thing you need to know is, it did not improve anything."
   ]
  },
  {
   "cell_type": "markdown",
   "metadata": {},
   "source": [
    "#### Trial (e) - Categorical coordinates\n",
    "I try to generalize the coordinates hoping that it may improve the model's performance. I start by generating starting and ending zones of events. Then I recalibrate the train and validation sets.\n",
    "\n",
    "Let's define the zoner.  The idea is to divide the field into 100 zones starting from lower left corder (0,0) and going from left to right (100, 0) and then up by 10 units (0, 10) and repeat (100, 10)..."
   ]
  },
  {
   "cell_type": "code",
   "execution_count": 44,
   "metadata": {},
   "outputs": [],
   "source": [
    "def zoner(df, x, y):  \n",
    "    # tens\n",
    "    df.loc[(df[y] >= 0) & (df[y] <= 10), \"tens\"] = 0\n",
    "    df.loc[(df[y] > 10) & (df[y] <= 20), \"tens\"] = 10\n",
    "    df.loc[(df[y] > 20) & (df[y] <= 30), \"tens\"] = 20\n",
    "    df.loc[(df[y] > 30) & (df[y] <= 40), \"tens\"] = 30\n",
    "    df.loc[(df[y] > 40) & (df[y] <= 50), \"tens\"] = 40\n",
    "    df.loc[(df[y] > 50) & (df[y] <= 60), \"tens\"] = 50\n",
    "    df.loc[(df[y] > 60) & (df[y] <= 70), \"tens\"] = 60\n",
    "    df.loc[(df[y] > 70) & (df[y] <= 80), \"tens\"] = 70\n",
    "    df.loc[(df[y] > 80) & (df[y] <= 90), \"tens\"] = 80\n",
    "    df.loc[(df[y] > 90) & (df[y] <= 100), \"tens\"] = 90\n",
    "    \n",
    "    # ones\n",
    "    df.loc[(df[x] >= 0) & (df[x] <= 10), \"ones\"] = 1\n",
    "    df.loc[(df[x] > 10) & (df[x] <= 20), \"ones\"] = 2\n",
    "    df.loc[(df[x]> 20) & (df[x] <= 30), \"ones\"] = 3\n",
    "    df.loc[(df[x] > 30) & (df[x] <= 40), \"ones\"] = 4\n",
    "    df.loc[(df[x] > 40) & (df[x] <= 50), \"ones\"] = 5\n",
    "    df.loc[(df[x] > 50) & (df[x] <= 60), \"ones\"] = 6\n",
    "    df.loc[(df[x] > 60) & (df[x] <= 70), \"ones\"] = 7\n",
    "    df.loc[(df[x] > 70) & (df[x] <= 80), \"ones\"] = 8\n",
    "    df.loc[(df[x] > 80) & (df[x] <= 90), \"ones\"] = 9\n",
    "    df.loc[(df[x] > 90) & (df[x] <= 100), \"ones\"] = 10\n",
    "    \n",
    "    df['zone'] = df['tens'] + df['ones']"
   ]
  },
  {
   "cell_type": "code",
   "execution_count": 45,
   "metadata": {},
   "outputs": [],
   "source": [
    "# event's starting zone\n",
    "zoner(events_eng, 'x_start', 'y_start')\n",
    "events_eng['zone_start'] = events_eng['zone']"
   ]
  },
  {
   "cell_type": "code",
   "execution_count": 46,
   "metadata": {},
   "outputs": [],
   "source": [
    "# event's ending zone\n",
    "zoner(events_eng, 'x_end', 'y_end')\n",
    "events_eng['zone_end'] = events_eng['zone']"
   ]
  },
  {
   "cell_type": "code",
   "execution_count": 47,
   "metadata": {},
   "outputs": [
    {
     "data": {
      "text/html": [
       "<div>\n",
       "<style scoped>\n",
       "    .dataframe tbody tr th:only-of-type {\n",
       "        vertical-align: middle;\n",
       "    }\n",
       "\n",
       "    .dataframe tbody tr th {\n",
       "        vertical-align: top;\n",
       "    }\n",
       "\n",
       "    .dataframe thead th {\n",
       "        text-align: right;\n",
       "    }\n",
       "</style>\n",
       "<table border=\"1\" class=\"dataframe\">\n",
       "  <thead>\n",
       "    <tr style=\"text-align: right;\">\n",
       "      <th></th>\n",
       "      <th>id</th>\n",
       "      <th>matchId</th>\n",
       "      <th>gameweek</th>\n",
       "      <th>month</th>\n",
       "      <th>hour</th>\n",
       "      <th>teamHome</th>\n",
       "      <th>teamId</th>\n",
       "      <th>teamName</th>\n",
       "      <th>league</th>\n",
       "      <th>playerId</th>\n",
       "      <th>shortName</th>\n",
       "      <th>role</th>\n",
       "      <th>age</th>\n",
       "      <th>height</th>\n",
       "      <th>weight</th>\n",
       "      <th>foot</th>\n",
       "      <th>eventName</th>\n",
       "      <th>subEventName</th>\n",
       "      <th>matchPeriod</th>\n",
       "      <th>eventSec</th>\n",
       "      <th>x_start</th>\n",
       "      <th>y_start</th>\n",
       "      <th>x_end</th>\n",
       "      <th>y_end</th>\n",
       "      <th>leagueNum</th>\n",
       "      <th>footNum</th>\n",
       "      <th>matchPeriodNum</th>\n",
       "      <th>roleNum</th>\n",
       "      <th>eventMin</th>\n",
       "      <th>eventMinRounded</th>\n",
       "      <th>phyScore</th>\n",
       "      <th>phyClass</th>\n",
       "      <th>event</th>\n",
       "      <th>x_start_scaled</th>\n",
       "      <th>x_end_scaled</th>\n",
       "      <th>y_start_scaled</th>\n",
       "      <th>y_end_scaled</th>\n",
       "      <th>tens</th>\n",
       "      <th>ones</th>\n",
       "      <th>zone</th>\n",
       "      <th>zone_start</th>\n",
       "      <th>zone_end</th>\n",
       "    </tr>\n",
       "  </thead>\n",
       "  <tbody>\n",
       "    <tr>\n",
       "      <th>0</th>\n",
       "      <td>177959171</td>\n",
       "      <td>2499719</td>\n",
       "      <td>1</td>\n",
       "      <td>8</td>\n",
       "      <td>18</td>\n",
       "      <td>Arsenal</td>\n",
       "      <td>1609</td>\n",
       "      <td>Arsenal</td>\n",
       "      <td>england</td>\n",
       "      <td>25413</td>\n",
       "      <td>A. Lacazette</td>\n",
       "      <td>FWD</td>\n",
       "      <td>26.599</td>\n",
       "      <td>175.0</td>\n",
       "      <td>73.0</td>\n",
       "      <td>right</td>\n",
       "      <td>Pass</td>\n",
       "      <td>Simple pass</td>\n",
       "      <td>1H</td>\n",
       "      <td>2.759</td>\n",
       "      <td>49</td>\n",
       "      <td>49</td>\n",
       "      <td>31</td>\n",
       "      <td>78</td>\n",
       "      <td>1</td>\n",
       "      <td>1</td>\n",
       "      <td>1</td>\n",
       "      <td>3</td>\n",
       "      <td>0.046</td>\n",
       "      <td>1</td>\n",
       "      <td>5.0</td>\n",
       "      <td>normal-normal</td>\n",
       "      <td>short_pass</td>\n",
       "      <td>58.8</td>\n",
       "      <td>37.2</td>\n",
       "      <td>39.2</td>\n",
       "      <td>62.4</td>\n",
       "      <td>70.0</td>\n",
       "      <td>4.0</td>\n",
       "      <td>74.0</td>\n",
       "      <td>45.0</td>\n",
       "      <td>74.0</td>\n",
       "    </tr>\n",
       "    <tr>\n",
       "      <th>1</th>\n",
       "      <td>177959172</td>\n",
       "      <td>2499719</td>\n",
       "      <td>1</td>\n",
       "      <td>8</td>\n",
       "      <td>18</td>\n",
       "      <td>Arsenal</td>\n",
       "      <td>1609</td>\n",
       "      <td>Arsenal</td>\n",
       "      <td>england</td>\n",
       "      <td>370224</td>\n",
       "      <td>R. Holding</td>\n",
       "      <td>DEF</td>\n",
       "      <td>22.284</td>\n",
       "      <td>189.0</td>\n",
       "      <td>75.0</td>\n",
       "      <td>right</td>\n",
       "      <td>Pass</td>\n",
       "      <td>High pass</td>\n",
       "      <td>1H</td>\n",
       "      <td>4.947</td>\n",
       "      <td>31</td>\n",
       "      <td>78</td>\n",
       "      <td>51</td>\n",
       "      <td>75</td>\n",
       "      <td>1</td>\n",
       "      <td>1</td>\n",
       "      <td>1</td>\n",
       "      <td>1</td>\n",
       "      <td>0.082</td>\n",
       "      <td>1</td>\n",
       "      <td>8.0</td>\n",
       "      <td>tall-normal</td>\n",
       "      <td>long_pass</td>\n",
       "      <td>37.2</td>\n",
       "      <td>61.2</td>\n",
       "      <td>62.4</td>\n",
       "      <td>60.0</td>\n",
       "      <td>70.0</td>\n",
       "      <td>6.0</td>\n",
       "      <td>76.0</td>\n",
       "      <td>74.0</td>\n",
       "      <td>76.0</td>\n",
       "    </tr>\n",
       "  </tbody>\n",
       "</table>\n",
       "</div>"
      ],
      "text/plain": [
       "          id  matchId  gameweek  month  hour  teamHome  teamId teamName  \\\n",
       "0  177959171  2499719         1      8    18  Arsenal     1609  Arsenal   \n",
       "1  177959172  2499719         1      8    18  Arsenal     1609  Arsenal   \n",
       "\n",
       "    league  playerId     shortName role     age  height  weight   foot  \\\n",
       "0  england     25413  A. Lacazette  FWD  26.599   175.0    73.0  right   \n",
       "1  england    370224    R. Holding  DEF  22.284   189.0    75.0  right   \n",
       "\n",
       "  eventName subEventName matchPeriod  eventSec  x_start  y_start  x_end  \\\n",
       "0      Pass  Simple pass          1H     2.759       49       49     31   \n",
       "1      Pass    High pass          1H     4.947       31       78     51   \n",
       "\n",
       "   y_end  leagueNum  footNum  matchPeriodNum  roleNum  eventMin  \\\n",
       "0     78          1        1               1        3     0.046   \n",
       "1     75          1        1               1        1     0.082   \n",
       "\n",
       "   eventMinRounded  phyScore       phyClass       event  x_start_scaled  \\\n",
       "0                1       5.0  normal-normal  short_pass            58.8   \n",
       "1                1       8.0    tall-normal   long_pass            37.2   \n",
       "\n",
       "   x_end_scaled  y_start_scaled  y_end_scaled  tens  ones  zone  zone_start  \\\n",
       "0          37.2            39.2          62.4  70.0   4.0  74.0        45.0   \n",
       "1          61.2            62.4          60.0  70.0   6.0  76.0        74.0   \n",
       "\n",
       "   zone_end  \n",
       "0      74.0  \n",
       "1      76.0  "
      ]
     },
     "execution_count": 47,
     "metadata": {},
     "output_type": "execute_result"
    }
   ],
   "source": [
    "# check\n",
    "events_eng.head(2)"
   ]
  },
  {
   "cell_type": "code",
   "execution_count": 49,
   "metadata": {},
   "outputs": [
    {
     "name": "stdout",
     "output_type": "stream",
     "text": [
      "Validation set is 21.11% of train set.\n"
     ]
    }
   ],
   "source": [
    "# split again\n",
    "eng_train_e, eng_val_e = data_splitter(events_eng, 31, 38)"
   ]
  },
  {
   "cell_type": "code",
   "execution_count": 50,
   "metadata": {},
   "outputs": [],
   "source": [
    "# train features and target sets\n",
    "X_train_e = eng_train_e[['zone_start', 'zone_end',\n",
    "                       'roleNum']]\n",
    "y_train_e = eng_train_e['event']\n",
    "\n",
    "# validation features and target sets\n",
    "X_val_e = eng_val_e[['zone_start', 'zone_end',\n",
    "                   'roleNum']]\n",
    "y_val_e = eng_val_e['event']"
   ]
  },
  {
   "cell_type": "markdown",
   "metadata": {},
   "source": [
    "Ok. Let's see if this works as I thought it would."
   ]
  },
  {
   "cell_type": "code",
   "execution_count": 51,
   "metadata": {},
   "outputs": [
    {
     "name": "stdout",
     "output_type": "stream",
     "text": [
      "Train Score: 0.6649583944630478.\n",
      "Validation Score: 0.6645403251460813.\n"
     ]
    },
    {
     "data": {
      "image/png": "[encoded data removed]",
      "text/plain": [
       "<Figure size 432x288 with 1 Axes>"
      ]
     },
     "metadata": {
      "needs_background": "light"
     },
     "output_type": "display_data"
    }
   ],
   "source": [
    "# model e fit\n",
    "model_base(X_train_e, X_val_e, y_train_e, y_val_e, 30000, 30)"
   ]
  },
  {
   "cell_type": "markdown",
   "metadata": {},
   "source": [
    "Nope! Not good. This practice reduces the accuracy by 5%. I am back to model version (d). At this point I will stop trials and get inot some hyper-parameter tuning.\n",
    "\n",
    "This does not mean the features are perfect. There isn't a perfect scenario. However, times is what I do not have with this project. Therefore, I must conculde it temporarily and move on. 73% accuracy is not bad for a soccer event prediction:).\n",
    "\n",
    "One last thing. Where did all the features we worked in notebook 02 go?  There isn't a rule about using them in the final version just because I worked them. Yes, I tried them in a previous version of this notebook. They did not add any value to the accuracy of the model. Then why have them? I believe that covers it."
   ]
  },
  {
   "cell_type": "markdown",
   "metadata": {},
   "source": [
    "### Hyper-Parameter Tuning - Cross Validation with GridSearch"
   ]
  },
  {
   "cell_type": "markdown",
   "metadata": {},
   "source": [
    "Here I plan to test the model through some ranges of tree depth and learning rate. My aim is to get the best mixture, test it on the small set, and scale it to finalize the model.\n",
    "\n",
    "I manually tested different values of subsamples, minimum child weight and colsample by tree. They did not impact the model's performance by a considerable amount. Therefore, I leave them at their default values.\n",
    "\n",
    "Now lest do some gridsearch on the very base feature set by modifying the max_depth. Then I scale the model. I use a very small n_estimators for speed."
   ]
  },
  {
   "cell_type": "code",
   "execution_count": 414,
   "metadata": {},
   "outputs": [],
   "source": [
    "from sklearn.model_selection import GridSearchCV"
   ]
  },
  {
   "cell_type": "code",
   "execution_count": 416,
   "metadata": {},
   "outputs": [
    {
     "name": "stdout",
     "output_type": "stream",
     "text": [
      "{'max_depth': range(3, 13)}\n"
     ]
    },
    {
     "data": {
      "text/plain": [
       "GridSearchCV(cv=5, error_score=nan,\n",
       "             estimator=XGBClassifier(base_score=0.5, booster='gbtree',\n",
       "                                     colsample_bylevel=1, colsample_bynode=1,\n",
       "                                     colsample_bytree=1, gamma=0,\n",
       "                                     learning_rate=0.05, max_delta_step=0,\n",
       "                                     max_depth=3, min_child_weight=1,\n",
       "                                     missing=None, n_estimators=30, n_jobs=-1,\n",
       "                                     nthread=None, num_class=5,\n",
       "                                     objective='multi:softmax', random_state=42,\n",
       "                                     reg_alpha=0, reg_lambda=1,\n",
       "                                     scale_pos_weight=1, seed=None, silent=None,\n",
       "                                     subsample=1, verbosity=1),\n",
       "             iid='deprecated', n_jobs=None,\n",
       "             param_grid={'max_depth': range(3, 13)}, pre_dispatch='2*n_jobs',\n",
       "             refit=True, return_train_score=True, scoring='accuracy',\n",
       "             verbose=0)"
      ]
     },
     "execution_count": 416,
     "metadata": {},
     "output_type": "execute_result"
    }
   ],
   "source": [
    "xgbm = xgb.XGBClassifier( \n",
    "                       n_estimators=30,   # Small number of trees for speedy Gridsearch\n",
    "                       objective=\"multi:softmax\",    # multi-class problem \n",
    "                       subsample=1,\n",
    "                       learning_rate=.05,\n",
    "                       min_child_weight=1,\n",
    "                       colsample_bytree=1,\n",
    "                       num_class=5, \n",
    "                       random_state=42,\n",
    "                       n_jobs=-1)       # engage all the cores\n",
    "\n",
    "# hyper-paramter grid\n",
    "max_depth_range = range(3, 13)\n",
    "param_grid = dict(max_depth=max_depth_range)\n",
    "print(param_grid)\n",
    "\n",
    "# set the search parameters!\n",
    "grid = GridSearchCV(xgbm,\n",
    "                    param_grid,\n",
    "                    cv=5,\n",
    "                    scoring='accuracy',\n",
    "                    return_train_score=True)\n",
    "# fit and search!\n",
    "grid.fit(X_val_d, y_val_d)"
   ]
  },
  {
   "cell_type": "code",
   "execution_count": 420,
   "metadata": {},
   "outputs": [
    {
     "data": {
      "text/plain": [
       "array([0.62674604, 0.64382746, 0.66149337, 0.66727022, 0.67133222,\n",
       "       0.67421586, 0.67759768, 0.68008854, 0.68188003, 0.68360448])"
      ]
     },
     "execution_count": 420,
     "metadata": {},
     "output_type": "execute_result"
    }
   ],
   "source": [
    "grid_mean_scores = grid.cv_results_[\"mean_test_score\"]\n",
    "grid_mean_scores"
   ]
  },
  {
   "cell_type": "code",
   "execution_count": 421,
   "metadata": {},
   "outputs": [
    {
     "data": {
      "image/png": "[encoded data removed]",
      "text/plain": [
       "<Figure size 432x288 with 1 Axes>"
      ]
     },
     "metadata": {
      "needs_background": "light"
     },
     "output_type": "display_data"
    }
   ],
   "source": [
    "# plot the results\n",
    "sns.mpl.pyplot.plot(max_depth_range, grid_mean_scores)\n",
    "sns.mpl.pyplot.xlabel('max_depth')\n",
    "sns.mpl.pyplot.ylabel('Cross-Validated Mean Test Set Accuracy');"
   ]
  },
  {
   "cell_type": "code",
   "execution_count": 422,
   "metadata": {},
   "outputs": [
    {
     "name": "stdout",
     "output_type": "stream",
     "text": [
      "Best score: 0.6836044750031487\n",
      "Best params: {'max_depth': 12}\n",
      "Best estimator: XGBClassifier(base_score=0.5, booster='gbtree', colsample_bylevel=1,\n",
      "              colsample_bynode=1, colsample_bytree=1, gamma=0,\n",
      "              learning_rate=0.05, max_delta_step=0, max_depth=12,\n",
      "              min_child_weight=1, missing=None, n_estimators=30, n_jobs=-1,\n",
      "              nthread=None, num_class=5, objective='multi:softprob',\n",
      "              random_state=42, reg_alpha=0, reg_lambda=1, scale_pos_weight=1,\n",
      "              seed=None, silent=None, subsample=1, verbosity=1)\n"
     ]
    }
   ],
   "source": [
    "# what is best model?\n",
    "print(\"Best score:\",grid.best_score_)\n",
    "print(\"Best params:\",grid.best_params_)\n",
    "print(\"Best estimator:\",grid.best_estimator_)"
   ]
  },
  {
   "cell_type": "markdown",
   "metadata": {},
   "source": [
    "I see the suggested max_depth for the simple set \"a\" is 12. It may cause over fitting in the set \"d\" due to high depth and more features. I will set it to 10 and increase the learning rate to 0.3 and rerun the model on set \"d\"."
   ]
  },
  {
   "cell_type": "code",
   "execution_count": 54,
   "metadata": {},
   "outputs": [
    {
     "name": "stdout",
     "output_type": "stream",
     "text": [
      "[0]\tvalidation_0-merror:0.328465\tvalidation_1-merror:0.330387\n",
      "Multiple eval metrics have been passed: 'validation_1-merror' will be used for early stopping.\n",
      "\n",
      "Will train until validation_1-merror hasn't improved in 30 rounds.\n",
      "[1]\tvalidation_0-merror:0.323529\tvalidation_1-merror:0.326502\n",
      "[2]\tvalidation_0-merror:0.325238\tvalidation_1-merror:0.328151\n",
      "[3]\tvalidation_0-merror:0.322763\tvalidation_1-merror:0.32574\n",
      "[4]\tvalidation_0-merror:0.322111\tvalidation_1-merror:0.325062\n",
      "[5]\tvalidation_0-merror:0.320971\tvalidation_1-merror:0.323698\n",
      "[6]\tvalidation_0-merror:0.3204\tvalidation_1-merror:0.323254\n",
      "[7]\tvalidation_0-merror:0.319636\tvalidation_1-merror:0.322995\n",
      "[8]\tvalidation_0-merror:0.318823\tvalidation_1-merror:0.322291\n",
      "[9]\tvalidation_0-merror:0.318556\tvalidation_1-merror:0.322208\n",
      "[10]\tvalidation_0-merror:0.317907\tvalidation_1-merror:0.321546\n",
      "[11]\tvalidation_0-merror:0.317237\tvalidation_1-merror:0.321195\n",
      "[12]\tvalidation_0-merror:0.316805\tvalidation_1-merror:0.320919\n",
      "[13]\tvalidation_0-merror:0.315732\tvalidation_1-merror:0.320341\n",
      "[14]\tvalidation_0-merror:0.315196\tvalidation_1-merror:0.31988\n",
      "[15]\tvalidation_0-merror:0.314269\tvalidation_1-merror:0.31942\n",
      "[16]\tvalidation_0-merror:0.313734\tvalidation_1-merror:0.319119\n",
      "[17]\tvalidation_0-merror:0.313086\tvalidation_1-merror:0.318566\n",
      "[18]\tvalidation_0-merror:0.312161\tvalidation_1-merror:0.317871\n",
      "[19]\tvalidation_0-merror:0.311402\tvalidation_1-merror:0.317269\n",
      "[20]\tvalidation_0-merror:0.310636\tvalidation_1-merror:0.316783\n",
      "[21]\tvalidation_0-merror:0.309572\tvalidation_1-merror:0.315879\n",
      "[22]\tvalidation_0-merror:0.309153\tvalidation_1-merror:0.315519\n",
      "[23]\tvalidation_0-merror:0.308286\tvalidation_1-merror:0.315067\n",
      "[24]\tvalidation_0-merror:0.307713\tvalidation_1-merror:0.314514\n",
      "[25]\tvalidation_0-merror:0.307182\tvalidation_1-merror:0.313945\n",
      "[26]\tvalidation_0-merror:0.306253\tvalidation_1-merror:0.313058\n",
      "[27]\tvalidation_0-merror:0.305065\tvalidation_1-merror:0.311794\n",
      "[28]\tvalidation_0-merror:0.303645\tvalidation_1-merror:0.310094\n",
      "[29]\tvalidation_0-merror:0.302736\tvalidation_1-merror:0.309391\n",
      "[30]\tvalidation_0-merror:0.301983\tvalidation_1-merror:0.308713\n",
      "[31]\tvalidation_0-merror:0.301258\tvalidation_1-merror:0.307792\n",
      "[32]\tvalidation_0-merror:0.300516\tvalidation_1-merror:0.307415\n",
      "[33]\tvalidation_0-merror:0.300064\tvalidation_1-merror:0.307122\n",
      "[34]\tvalidation_0-merror:0.299609\tvalidation_1-merror:0.306762\n",
      "[35]\tvalidation_0-merror:0.299042\tvalidation_1-merror:0.306386\n",
      "[36]\tvalidation_0-merror:0.298348\tvalidation_1-merror:0.305875\n",
      "[37]\tvalidation_0-merror:0.297676\tvalidation_1-merror:0.305197\n",
      "[38]\tvalidation_0-merror:0.297\tvalidation_1-merror:0.304879\n",
      "[39]\tvalidation_0-merror:0.29657\tvalidation_1-merror:0.304569\n",
      "[40]\tvalidation_0-merror:0.296115\tvalidation_1-merror:0.304042\n",
      "[41]\tvalidation_0-merror:0.295279\tvalidation_1-merror:0.30328\n",
      "[42]\tvalidation_0-merror:0.294679\tvalidation_1-merror:0.302828\n",
      "[43]\tvalidation_0-merror:0.293736\tvalidation_1-merror:0.302267\n",
      "[44]\tvalidation_0-merror:0.2928\tvalidation_1-merror:0.301346\n",
      "[45]\tvalidation_0-merror:0.29198\tvalidation_1-merror:0.30071\n",
      "[46]\tvalidation_0-merror:0.291523\tvalidation_1-merror:0.300358\n",
      "[47]\tvalidation_0-merror:0.290482\tvalidation_1-merror:0.299839\n",
      "[48]\tvalidation_0-merror:0.289604\tvalidation_1-merror:0.299178\n",
      "[49]\tvalidation_0-merror:0.288551\tvalidation_1-merror:0.2986\n",
      "[50]\tvalidation_0-merror:0.287863\tvalidation_1-merror:0.298215\n",
      "[51]\tvalidation_0-merror:0.28699\tvalidation_1-merror:0.297336\n",
      "[52]\tvalidation_0-merror:0.286253\tvalidation_1-merror:0.297152\n",
      "[53]\tvalidation_0-merror:0.285597\tvalidation_1-merror:0.296775\n",
      "[54]\tvalidation_0-merror:0.284609\tvalidation_1-merror:0.295679\n",
      "[55]\tvalidation_0-merror:0.283856\tvalidation_1-merror:0.295118\n",
      "[56]\tvalidation_0-merror:0.28311\tvalidation_1-merror:0.294749\n",
      "[57]\tvalidation_0-merror:0.282355\tvalidation_1-merror:0.294214\n",
      "[58]\tvalidation_0-merror:0.281397\tvalidation_1-merror:0.293661\n",
      "[59]\tvalidation_0-merror:0.280573\tvalidation_1-merror:0.293134\n",
      "[60]\tvalidation_0-merror:0.279742\tvalidation_1-merror:0.292539\n",
      "[61]\tvalidation_0-merror:0.278687\tvalidation_1-merror:0.29192\n",
      "[62]\tvalidation_0-merror:0.277871\tvalidation_1-merror:0.291309\n",
      "[63]\tvalidation_0-merror:0.277159\tvalidation_1-merror:0.290999\n",
      "[64]\tvalidation_0-merror:0.276323\tvalidation_1-merror:0.290271\n",
      "[65]\tvalidation_0-merror:0.275356\tvalidation_1-merror:0.289593\n",
      "[66]\tvalidation_0-merror:0.274832\tvalidation_1-merror:0.289048\n",
      "[67]\tvalidation_0-merror:0.274021\tvalidation_1-merror:0.288429\n",
      "[68]\tvalidation_0-merror:0.27323\tvalidation_1-merror:0.288203\n",
      "[69]\tvalidation_0-merror:0.272746\tvalidation_1-merror:0.287759\n",
      "[70]\tvalidation_0-merror:0.271962\tvalidation_1-merror:0.287625\n",
      "[71]\tvalidation_0-merror:0.271282\tvalidation_1-merror:0.287073\n",
      "[72]\tvalidation_0-merror:0.270327\tvalidation_1-merror:0.286328\n",
      "[73]\tvalidation_0-merror:0.269622\tvalidation_1-merror:0.28565\n",
      "[74]\tvalidation_0-merror:0.269037\tvalidation_1-merror:0.285348\n",
      "[75]\tvalidation_0-merror:0.268379\tvalidation_1-merror:0.284829\n",
      "[76]\tvalidation_0-merror:0.267469\tvalidation_1-merror:0.284469\n",
      "[77]\tvalidation_0-merror:0.266777\tvalidation_1-merror:0.284084\n",
      "[78]\tvalidation_0-merror:0.265906\tvalidation_1-merror:0.283649\n",
      "[79]\tvalidation_0-merror:0.26529\tvalidation_1-merror:0.282921\n",
      "[80]\tvalidation_0-merror:0.26475\tvalidation_1-merror:0.282854\n",
      "[81]\tvalidation_0-merror:0.264266\tvalidation_1-merror:0.282577\n",
      "[82]\tvalidation_0-merror:0.26357\tvalidation_1-merror:0.28215\n",
      "[83]\tvalidation_0-merror:0.262788\tvalidation_1-merror:0.281615\n",
      "[84]\tvalidation_0-merror:0.26234\tvalidation_1-merror:0.281556\n",
      "[85]\tvalidation_0-merror:0.261484\tvalidation_1-merror:0.281506\n",
      "[86]\tvalidation_0-merror:0.260877\tvalidation_1-merror:0.280962\n",
      "[87]\tvalidation_0-merror:0.260313\tvalidation_1-merror:0.280568\n",
      "[88]\tvalidation_0-merror:0.259527\tvalidation_1-merror:0.280083\n",
      "[89]\tvalidation_0-merror:0.258944\tvalidation_1-merror:0.279882\n",
      "[90]\tvalidation_0-merror:0.258254\tvalidation_1-merror:0.279539\n",
      "[91]\tvalidation_0-merror:0.257703\tvalidation_1-merror:0.279179\n",
      "[92]\tvalidation_0-merror:0.257244\tvalidation_1-merror:0.279145\n",
      "[93]\tvalidation_0-merror:0.256554\tvalidation_1-merror:0.27881\n",
      "[94]\tvalidation_0-merror:0.255979\tvalidation_1-merror:0.27876\n",
      "[95]\tvalidation_0-merror:0.255434\tvalidation_1-merror:0.278567\n",
      "[96]\tvalidation_0-merror:0.255004\tvalidation_1-merror:0.278442\n",
      "[97]\tvalidation_0-merror:0.254503\tvalidation_1-merror:0.2785\n",
      "[98]\tvalidation_0-merror:0.253862\tvalidation_1-merror:0.278132\n",
      "[99]\tvalidation_0-merror:0.253495\tvalidation_1-merror:0.277923\n",
      "[100]\tvalidation_0-merror:0.252892\tvalidation_1-merror:0.277622\n",
      "[101]\tvalidation_0-merror:0.252227\tvalidation_1-merror:0.276826\n",
      "[102]\tvalidation_0-merror:0.251795\tvalidation_1-merror:0.276667\n",
      "[103]\tvalidation_0-merror:0.251456\tvalidation_1-merror:0.276642\n",
      "[104]\tvalidation_0-merror:0.250776\tvalidation_1-merror:0.276223\n",
      "[105]\tvalidation_0-merror:0.250525\tvalidation_1-merror:0.276048\n",
      "[106]\tvalidation_0-merror:0.249517\tvalidation_1-merror:0.275035\n",
      "[107]\tvalidation_0-merror:0.248881\tvalidation_1-merror:0.274985\n",
      "[108]\tvalidation_0-merror:0.248233\tvalidation_1-merror:0.274566\n",
      "[109]\tvalidation_0-merror:0.247803\tvalidation_1-merror:0.27439\n",
      "[110]\tvalidation_0-merror:0.247595\tvalidation_1-merror:0.274399\n",
      "[111]\tvalidation_0-merror:0.247369\tvalidation_1-merror:0.274273\n",
      "[112]\tvalidation_0-merror:0.247022\tvalidation_1-merror:0.273938\n",
      "[113]\tvalidation_0-merror:0.246688\tvalidation_1-merror:0.273838\n",
      "[114]\tvalidation_0-merror:0.246531\tvalidation_1-merror:0.273771\n",
      "[115]\tvalidation_0-merror:0.246159\tvalidation_1-merror:0.273704\n",
      "[116]\tvalidation_0-merror:0.246047\tvalidation_1-merror:0.27367\n",
      "[117]\tvalidation_0-merror:0.245823\tvalidation_1-merror:0.273653\n",
      "[118]\tvalidation_0-merror:0.245713\tvalidation_1-merror:0.273494\n",
      "[119]\tvalidation_0-merror:0.245407\tvalidation_1-merror:0.273402\n",
      "[120]\tvalidation_0-merror:0.245153\tvalidation_1-merror:0.273528\n",
      "[121]\tvalidation_0-merror:0.245006\tvalidation_1-merror:0.273511\n",
      "[122]\tvalidation_0-merror:0.244748\tvalidation_1-merror:0.27336\n",
      "[123]\tvalidation_0-merror:0.24458\tvalidation_1-merror:0.273293\n",
      "[124]\tvalidation_0-merror:0.24439\tvalidation_1-merror:0.273151\n",
      "[125]\tvalidation_0-merror:0.244186\tvalidation_1-merror:0.272925\n",
      "[126]\tvalidation_0-merror:0.243872\tvalidation_1-merror:0.273093\n",
      "[127]\tvalidation_0-merror:0.243713\tvalidation_1-merror:0.273101\n"
     ]
    },
    {
     "name": "stdout",
     "output_type": "stream",
     "text": [
      "[128]\tvalidation_0-merror:0.243406\tvalidation_1-merror:0.272833\n",
      "[129]\tvalidation_0-merror:0.243274\tvalidation_1-merror:0.272707\n",
      "[130]\tvalidation_0-merror:0.243044\tvalidation_1-merror:0.272791\n",
      "[131]\tvalidation_0-merror:0.242636\tvalidation_1-merror:0.272691\n",
      "[132]\tvalidation_0-merror:0.242401\tvalidation_1-merror:0.27259\n",
      "[133]\tvalidation_0-merror:0.242148\tvalidation_1-merror:0.27254\n",
      "[134]\tvalidation_0-merror:0.241856\tvalidation_1-merror:0.272507\n",
      "[135]\tvalidation_0-merror:0.241503\tvalidation_1-merror:0.272389\n",
      "[136]\tvalidation_0-merror:0.240898\tvalidation_1-merror:0.272281\n",
      "[137]\tvalidation_0-merror:0.240524\tvalidation_1-merror:0.272264\n",
      "[138]\tvalidation_0-merror:0.240112\tvalidation_1-merror:0.272205\n",
      "[139]\tvalidation_0-merror:0.239912\tvalidation_1-merror:0.272239\n",
      "[140]\tvalidation_0-merror:0.239536\tvalidation_1-merror:0.272172\n",
      "[141]\tvalidation_0-merror:0.23931\tvalidation_1-merror:0.272096\n",
      "[142]\tvalidation_0-merror:0.239012\tvalidation_1-merror:0.271971\n",
      "[143]\tvalidation_0-merror:0.238694\tvalidation_1-merror:0.271669\n",
      "[144]\tvalidation_0-merror:0.23845\tvalidation_1-merror:0.271828\n",
      "[145]\tvalidation_0-merror:0.238161\tvalidation_1-merror:0.271778\n",
      "[146]\tvalidation_0-merror:0.237809\tvalidation_1-merror:0.271653\n",
      "[147]\tvalidation_0-merror:0.237531\tvalidation_1-merror:0.271778\n",
      "[148]\tvalidation_0-merror:0.23733\tvalidation_1-merror:0.271636\n",
      "[149]\tvalidation_0-merror:0.236879\tvalidation_1-merror:0.271711\n",
      "[150]\tvalidation_0-merror:0.236517\tvalidation_1-merror:0.271686\n",
      "[151]\tvalidation_0-merror:0.236268\tvalidation_1-merror:0.271519\n",
      "[152]\tvalidation_0-merror:0.236006\tvalidation_1-merror:0.271443\n",
      "[153]\tvalidation_0-merror:0.235733\tvalidation_1-merror:0.271276\n",
      "[154]\tvalidation_0-merror:0.235544\tvalidation_1-merror:0.271418\n",
      "[155]\tvalidation_0-merror:0.235271\tvalidation_1-merror:0.271326\n",
      "[156]\tvalidation_0-merror:0.23507\tvalidation_1-merror:0.27136\n",
      "[157]\tvalidation_0-merror:0.234855\tvalidation_1-merror:0.271351\n",
      "[158]\tvalidation_0-merror:0.234691\tvalidation_1-merror:0.271276\n",
      "[159]\tvalidation_0-merror:0.234465\tvalidation_1-merror:0.271159\n",
      "[160]\tvalidation_0-merror:0.234299\tvalidation_1-merror:0.271259\n",
      "[161]\tvalidation_0-merror:0.234068\tvalidation_1-merror:0.271268\n",
      "[162]\tvalidation_0-merror:0.23384\tvalidation_1-merror:0.271251\n",
      "[163]\tvalidation_0-merror:0.23362\tvalidation_1-merror:0.271301\n",
      "[164]\tvalidation_0-merror:0.233493\tvalidation_1-merror:0.271268\n",
      "[165]\tvalidation_0-merror:0.233228\tvalidation_1-merror:0.271335\n",
      "[166]\tvalidation_0-merror:0.232957\tvalidation_1-merror:0.271343\n",
      "[167]\tvalidation_0-merror:0.232729\tvalidation_1-merror:0.271343\n",
      "[168]\tvalidation_0-merror:0.232675\tvalidation_1-merror:0.271351\n",
      "[169]\tvalidation_0-merror:0.232458\tvalidation_1-merror:0.271259\n",
      "[170]\tvalidation_0-merror:0.232431\tvalidation_1-merror:0.271259\n",
      "[171]\tvalidation_0-merror:0.232337\tvalidation_1-merror:0.271268\n",
      "[172]\tvalidation_0-merror:0.232225\tvalidation_1-merror:0.271343\n",
      "[173]\tvalidation_0-merror:0.232048\tvalidation_1-merror:0.271368\n",
      "[174]\tvalidation_0-merror:0.231916\tvalidation_1-merror:0.271276\n",
      "[175]\tvalidation_0-merror:0.231806\tvalidation_1-merror:0.271276\n",
      "[176]\tvalidation_0-merror:0.231696\tvalidation_1-merror:0.271393\n",
      "[177]\tvalidation_0-merror:0.231445\tvalidation_1-merror:0.271268\n",
      "[178]\tvalidation_0-merror:0.231334\tvalidation_1-merror:0.271301\n",
      "[179]\tvalidation_0-merror:0.231116\tvalidation_1-merror:0.271226\n",
      "[180]\tvalidation_0-merror:0.230959\tvalidation_1-merror:0.271176\n",
      "[181]\tvalidation_0-merror:0.230715\tvalidation_1-merror:0.271075\n",
      "[182]\tvalidation_0-merror:0.230464\tvalidation_1-merror:0.270983\n",
      "[183]\tvalidation_0-merror:0.230124\tvalidation_1-merror:0.271167\n",
      "[184]\tvalidation_0-merror:0.229853\tvalidation_1-merror:0.271293\n",
      "[185]\tvalidation_0-merror:0.229582\tvalidation_1-merror:0.271335\n",
      "[186]\tvalidation_0-merror:0.229452\tvalidation_1-merror:0.271284\n",
      "[187]\tvalidation_0-merror:0.22934\tvalidation_1-merror:0.271301\n",
      "[188]\tvalidation_0-merror:0.229156\tvalidation_1-merror:0.271234\n",
      "[189]\tvalidation_0-merror:0.229082\tvalidation_1-merror:0.271226\n",
      "[190]\tvalidation_0-merror:0.228959\tvalidation_1-merror:0.271226\n",
      "[191]\tvalidation_0-merror:0.228899\tvalidation_1-merror:0.27115\n",
      "[192]\tvalidation_0-merror:0.228823\tvalidation_1-merror:0.27115\n",
      "[193]\tvalidation_0-merror:0.228679\tvalidation_1-merror:0.271209\n",
      "[194]\tvalidation_0-merror:0.2285\tvalidation_1-merror:0.270991\n",
      "[195]\tvalidation_0-merror:0.22837\tvalidation_1-merror:0.271025\n",
      "[196]\tvalidation_0-merror:0.228178\tvalidation_1-merror:0.271125\n",
      "[197]\tvalidation_0-merror:0.228025\tvalidation_1-merror:0.271058\n",
      "[198]\tvalidation_0-merror:0.227875\tvalidation_1-merror:0.271\n",
      "[199]\tvalidation_0-merror:0.22753\tvalidation_1-merror:0.271109\n",
      "[200]\tvalidation_0-merror:0.227297\tvalidation_1-merror:0.271016\n",
      "[201]\tvalidation_0-merror:0.227042\tvalidation_1-merror:0.270933\n",
      "[202]\tvalidation_0-merror:0.226883\tvalidation_1-merror:0.270891\n",
      "[203]\tvalidation_0-merror:0.226753\tvalidation_1-merror:0.270832\n",
      "[204]\tvalidation_0-merror:0.226587\tvalidation_1-merror:0.27079\n",
      "[205]\tvalidation_0-merror:0.226448\tvalidation_1-merror:0.270757\n",
      "[206]\tvalidation_0-merror:0.226365\tvalidation_1-merror:0.270765\n",
      "[207]\tvalidation_0-merror:0.226191\tvalidation_1-merror:0.270866\n",
      "[208]\tvalidation_0-merror:0.226036\tvalidation_1-merror:0.270841\n",
      "[209]\tvalidation_0-merror:0.225982\tvalidation_1-merror:0.270765\n",
      "[210]\tvalidation_0-merror:0.225929\tvalidation_1-merror:0.270782\n",
      "[211]\tvalidation_0-merror:0.22575\tvalidation_1-merror:0.270765\n",
      "[212]\tvalidation_0-merror:0.225566\tvalidation_1-merror:0.270824\n",
      "[213]\tvalidation_0-merror:0.225407\tvalidation_1-merror:0.27079\n",
      "[214]\tvalidation_0-merror:0.225351\tvalidation_1-merror:0.270857\n",
      "[215]\tvalidation_0-merror:0.225263\tvalidation_1-merror:0.270908\n",
      "[216]\tvalidation_0-merror:0.225154\tvalidation_1-merror:0.270966\n",
      "[217]\tvalidation_0-merror:0.225084\tvalidation_1-merror:0.271033\n",
      "[218]\tvalidation_0-merror:0.224903\tvalidation_1-merror:0.270958\n",
      "[219]\tvalidation_0-merror:0.224717\tvalidation_1-merror:0.270832\n",
      "[220]\tvalidation_0-merror:0.224558\tvalidation_1-merror:0.270841\n",
      "[221]\tvalidation_0-merror:0.224428\tvalidation_1-merror:0.270883\n",
      "[222]\tvalidation_0-merror:0.224247\tvalidation_1-merror:0.271008\n",
      "[223]\tvalidation_0-merror:0.224034\tvalidation_1-merror:0.271058\n",
      "[224]\tvalidation_0-merror:0.223924\tvalidation_1-merror:0.271016\n",
      "[225]\tvalidation_0-merror:0.223689\tvalidation_1-merror:0.271125\n",
      "[226]\tvalidation_0-merror:0.223554\tvalidation_1-merror:0.271293\n",
      "[227]\tvalidation_0-merror:0.223342\tvalidation_1-merror:0.271301\n",
      "[228]\tvalidation_0-merror:0.223104\tvalidation_1-merror:0.271251\n",
      "[229]\tvalidation_0-merror:0.222862\tvalidation_1-merror:0.271234\n",
      "[230]\tvalidation_0-merror:0.222753\tvalidation_1-merror:0.271184\n",
      "[231]\tvalidation_0-merror:0.222517\tvalidation_1-merror:0.271134\n",
      "[232]\tvalidation_0-merror:0.222408\tvalidation_1-merror:0.271192\n",
      "[233]\tvalidation_0-merror:0.222078\tvalidation_1-merror:0.271176\n",
      "[234]\tvalidation_0-merror:0.222034\tvalidation_1-merror:0.271209\n",
      "[235]\tvalidation_0-merror:0.221742\tvalidation_1-merror:0.271142\n",
      "Stopping. Best iteration:\n",
      "[205]\tvalidation_0-merror:0.226448\tvalidation_1-merror:0.270757\n",
      "\n"
     ]
    }
   ],
   "source": [
    "# Final Model\n",
    "\n",
    "# define model\n",
    "gbm = xgb.XGBClassifier( \n",
    "                       n_estimators=30000,  # high number\n",
    "                       max_depth=10,\n",
    "                       objective=\"multi:softmax\",\n",
    "                       learning_rate=0.1, \n",
    "                       subsample=1,\n",
    "                       min_child_weight=.1,\n",
    "                       colsample_bytree=1,\n",
    "                       num_class=5, \n",
    "                       random_state=42,\n",
    "                       n_jobs=-1, \n",
    "                      )\n",
    "# setup evaluation set\n",
    "eval_set=[(X_train_d,y_train_d),(X_val_d,y_val_d)] #tracking train/val error as we go\n",
    "\n",
    "# fit with evaluation set\n",
    "model_final = gbm.fit( \n",
    "                    X_train_d, y_train_d,\n",
    "                    eval_set=eval_set,\n",
    "                    eval_metric='merror',\n",
    "                    early_stopping_rounds=30,  # time saver with high tree numbers\n",
    "                    verbose=True \n",
    "                   )\n"
   ]
  },
  {
   "cell_type": "code",
   "execution_count": 55,
   "metadata": {},
   "outputs": [
    {
     "name": "stdout",
     "output_type": "stream",
     "text": [
      "Train Score: 0.7735516457425721.\n",
      "Validation Score: 0.7292430559043649.\n"
     ]
    },
    {
     "data": {
      "image/png": "[encoded data removed]",
      "text/plain": [
       "<Figure size 432x288 with 1 Axes>"
      ]
     },
     "metadata": {
      "needs_background": "light"
     },
     "output_type": "display_data"
    }
   ],
   "source": [
    "print(f\"Train Score: {accuracy_score(y_train_d, model_final.predict(X_train_d, ntree_limit=gbm.best_ntree_limit))}.\")\n",
    "print(f\"Validation Score: {accuracy_score(y_val_d, model_final.predict(X_val_d, ntree_limit=gbm.best_ntree_limit))}.\")\n",
    "xgb.plot_importance(model_final);"
   ]
  },
  {
   "cell_type": "markdown",
   "metadata": {},
   "source": [
    "Excellent! \n",
    "\n",
    "I am happy with this (for now). Of course, there are a lot of room for improvement. I have much to learn about the depths of this model and how it is actually perfected on a given data. Xgboost hyper-paramter tuning is not an easy task. I plan to discover it more in the coming days. But for now I have to stop here and train the model on all events and save it for the field test in notebook 04.\n",
    "\n",
    "Now with the big boy!"
   ]
  },
  {
   "cell_type": "code",
   "execution_count": 6,
   "metadata": {},
   "outputs": [],
   "source": [
    "# read in data\n",
    "events = pd.read_csv(\"../../csv_files/AI_in_Soccer/02-eventsAll.csv\", index_col=0)"
   ]
  },
  {
   "cell_type": "code",
   "execution_count": 7,
   "metadata": {},
   "outputs": [
    {
     "name": "stdout",
     "output_type": "stream",
     "text": [
      "Validation set is 19.46% of train set.\n"
     ]
    }
   ],
   "source": [
    "train, val = data_splitter(events, 31, 38)"
   ]
  },
  {
   "cell_type": "markdown",
   "metadata": {},
   "source": [
    "Little less than England version. Well, thanks Germany!!"
   ]
  },
  {
   "cell_type": "code",
   "execution_count": 10,
   "metadata": {},
   "outputs": [],
   "source": [
    "# train features and target sets\n",
    "X_train = train[['x_start', 'y_start', 'x_end', 'y_end','roleNum']]\n",
    "y_train = train['event']\n",
    "\n",
    "# validation features and target sets\n",
    "X_val = val[['x_start', 'y_start', 'x_end', 'y_end', 'roleNum']]\n",
    "y_val = val['event']"
   ]
  },
  {
   "cell_type": "code",
   "execution_count": 11,
   "metadata": {},
   "outputs": [
    {
     "name": "stdout",
     "output_type": "stream",
     "text": [
      "[0]\tvalidation_0-merror:0.340257\tvalidation_1-merror:0.339791\n",
      "Multiple eval metrics have been passed: 'validation_1-merror' will be used for early stopping.\n",
      "\n",
      "Will train until validation_1-merror hasn't improved in 30 rounds.\n",
      "[1]\tvalidation_0-merror:0.339927\tvalidation_1-merror:0.339431\n",
      "[2]\tvalidation_0-merror:0.339486\tvalidation_1-merror:0.339258\n",
      "[3]\tvalidation_0-merror:0.338254\tvalidation_1-merror:0.338393\n",
      "[4]\tvalidation_0-merror:0.33783\tvalidation_1-merror:0.337918\n",
      "[5]\tvalidation_0-merror:0.337553\tvalidation_1-merror:0.337747\n",
      "[6]\tvalidation_0-merror:0.337229\tvalidation_1-merror:0.337385\n",
      "[7]\tvalidation_0-merror:0.336584\tvalidation_1-merror:0.337007\n",
      "[8]\tvalidation_0-merror:0.335627\tvalidation_1-merror:0.335992\n",
      "[9]\tvalidation_0-merror:0.335393\tvalidation_1-merror:0.335649\n",
      "[10]\tvalidation_0-merror:0.334472\tvalidation_1-merror:0.334822\n",
      "[11]\tvalidation_0-merror:0.33376\tvalidation_1-merror:0.33406\n",
      "[12]\tvalidation_0-merror:0.333251\tvalidation_1-merror:0.333516\n",
      "[13]\tvalidation_0-merror:0.33296\tvalidation_1-merror:0.333215\n",
      "[14]\tvalidation_0-merror:0.33248\tvalidation_1-merror:0.332778\n",
      "[15]\tvalidation_0-merror:0.331898\tvalidation_1-merror:0.332314\n",
      "[16]\tvalidation_0-merror:0.3316\tvalidation_1-merror:0.331924\n",
      "[17]\tvalidation_0-merror:0.330914\tvalidation_1-merror:0.331451\n",
      "[18]\tvalidation_0-merror:0.330422\tvalidation_1-merror:0.330964\n",
      "[19]\tvalidation_0-merror:0.329281\tvalidation_1-merror:0.329846\n",
      "[20]\tvalidation_0-merror:0.328388\tvalidation_1-merror:0.328856\n",
      "[21]\tvalidation_0-merror:0.327395\tvalidation_1-merror:0.328\n",
      "[22]\tvalidation_0-merror:0.326416\tvalidation_1-merror:0.327097\n",
      "[23]\tvalidation_0-merror:0.325025\tvalidation_1-merror:0.325701\n",
      "[24]\tvalidation_0-merror:0.324168\tvalidation_1-merror:0.324868\n",
      "[25]\tvalidation_0-merror:0.323767\tvalidation_1-merror:0.324465\n",
      "[26]\tvalidation_0-merror:0.323299\tvalidation_1-merror:0.324007\n",
      "[27]\tvalidation_0-merror:0.322095\tvalidation_1-merror:0.32278\n",
      "[28]\tvalidation_0-merror:0.320501\tvalidation_1-merror:0.320993\n",
      "[29]\tvalidation_0-merror:0.319497\tvalidation_1-merror:0.320001\n",
      "[30]\tvalidation_0-merror:0.318743\tvalidation_1-merror:0.319231\n",
      "[31]\tvalidation_0-merror:0.31815\tvalidation_1-merror:0.318645\n",
      "[32]\tvalidation_0-merror:0.317481\tvalidation_1-merror:0.317966\n",
      "[33]\tvalidation_0-merror:0.316796\tvalidation_1-merror:0.317401\n",
      "[34]\tvalidation_0-merror:0.31619\tvalidation_1-merror:0.316974\n",
      "[35]\tvalidation_0-merror:0.315636\tvalidation_1-merror:0.316586\n",
      "[36]\tvalidation_0-merror:0.31516\tvalidation_1-merror:0.316156\n",
      "[37]\tvalidation_0-merror:0.314524\tvalidation_1-merror:0.315536\n",
      "[38]\tvalidation_0-merror:0.313888\tvalidation_1-merror:0.315051\n",
      "[39]\tvalidation_0-merror:0.313293\tvalidation_1-merror:0.314473\n",
      "[40]\tvalidation_0-merror:0.312827\tvalidation_1-merror:0.314038\n",
      "[41]\tvalidation_0-merror:0.312374\tvalidation_1-merror:0.31369\n",
      "[42]\tvalidation_0-merror:0.311788\tvalidation_1-merror:0.31307\n",
      "[43]\tvalidation_0-merror:0.311113\tvalidation_1-merror:0.312562\n",
      "[44]\tvalidation_0-merror:0.310738\tvalidation_1-merror:0.312169\n",
      "[45]\tvalidation_0-merror:0.310169\tvalidation_1-merror:0.31168\n",
      "[46]\tvalidation_0-merror:0.309465\tvalidation_1-merror:0.311049\n",
      "[47]\tvalidation_0-merror:0.308846\tvalidation_1-merror:0.310465\n",
      "[48]\tvalidation_0-merror:0.308018\tvalidation_1-merror:0.309729\n",
      "[49]\tvalidation_0-merror:0.307215\tvalidation_1-merror:0.308978\n",
      "[50]\tvalidation_0-merror:0.306466\tvalidation_1-merror:0.308375\n",
      "[51]\tvalidation_0-merror:0.305554\tvalidation_1-merror:0.307533\n",
      "[52]\tvalidation_0-merror:0.304725\tvalidation_1-merror:0.306582\n",
      "[53]\tvalidation_0-merror:0.303789\tvalidation_1-merror:0.305862\n",
      "[54]\tvalidation_0-merror:0.302781\tvalidation_1-merror:0.304955\n",
      "[55]\tvalidation_0-merror:0.301833\tvalidation_1-merror:0.30409\n",
      "[56]\tvalidation_0-merror:0.300725\tvalidation_1-merror:0.303329\n",
      "[57]\tvalidation_0-merror:0.299904\tvalidation_1-merror:0.302631\n",
      "[58]\tvalidation_0-merror:0.299112\tvalidation_1-merror:0.301926\n",
      "[59]\tvalidation_0-merror:0.298267\tvalidation_1-merror:0.301112\n",
      "[60]\tvalidation_0-merror:0.297305\tvalidation_1-merror:0.299981\n",
      "[61]\tvalidation_0-merror:0.296169\tvalidation_1-merror:0.29903\n",
      "[62]\tvalidation_0-merror:0.295392\tvalidation_1-merror:0.298393\n",
      "[63]\tvalidation_0-merror:0.294702\tvalidation_1-merror:0.297777\n",
      "[64]\tvalidation_0-merror:0.293999\tvalidation_1-merror:0.297225\n",
      "[65]\tvalidation_0-merror:0.293174\tvalidation_1-merror:0.296556\n",
      "[66]\tvalidation_0-merror:0.292417\tvalidation_1-merror:0.29587\n",
      "[67]\tvalidation_0-merror:0.291621\tvalidation_1-merror:0.295195\n",
      "[68]\tvalidation_0-merror:0.291009\tvalidation_1-merror:0.294748\n",
      "[69]\tvalidation_0-merror:0.290353\tvalidation_1-merror:0.294001\n",
      "[70]\tvalidation_0-merror:0.289808\tvalidation_1-merror:0.29343\n",
      "[71]\tvalidation_0-merror:0.289073\tvalidation_1-merror:0.292784\n",
      "[72]\tvalidation_0-merror:0.288245\tvalidation_1-merror:0.292179\n",
      "[73]\tvalidation_0-merror:0.287341\tvalidation_1-merror:0.291272\n",
      "[74]\tvalidation_0-merror:0.286661\tvalidation_1-merror:0.290704\n",
      "[75]\tvalidation_0-merror:0.286196\tvalidation_1-merror:0.290171\n",
      "[76]\tvalidation_0-merror:0.285463\tvalidation_1-merror:0.28946\n",
      "[77]\tvalidation_0-merror:0.284832\tvalidation_1-merror:0.288905\n",
      "[78]\tvalidation_0-merror:0.284088\tvalidation_1-merror:0.28835\n",
      "[79]\tvalidation_0-merror:0.283545\tvalidation_1-merror:0.287924\n",
      "[80]\tvalidation_0-merror:0.28288\tvalidation_1-merror:0.287414\n",
      "[81]\tvalidation_0-merror:0.282273\tvalidation_1-merror:0.286779\n",
      "[82]\tvalidation_0-merror:0.281782\tvalidation_1-merror:0.286332\n",
      "[83]\tvalidation_0-merror:0.280765\tvalidation_1-merror:0.285593\n",
      "[84]\tvalidation_0-merror:0.280021\tvalidation_1-merror:0.284956\n",
      "[85]\tvalidation_0-merror:0.279562\tvalidation_1-merror:0.284573\n",
      "[86]\tvalidation_0-merror:0.278973\tvalidation_1-merror:0.284077\n",
      "[87]\tvalidation_0-merror:0.278055\tvalidation_1-merror:0.283385\n",
      "[88]\tvalidation_0-merror:0.27737\tvalidation_1-merror:0.28294\n",
      "[89]\tvalidation_0-merror:0.27673\tvalidation_1-merror:0.282275\n",
      "[90]\tvalidation_0-merror:0.276217\tvalidation_1-merror:0.281934\n",
      "[91]\tvalidation_0-merror:0.27547\tvalidation_1-merror:0.281428\n",
      "[92]\tvalidation_0-merror:0.275188\tvalidation_1-merror:0.28116\n",
      "[93]\tvalidation_0-merror:0.274833\tvalidation_1-merror:0.280757\n",
      "[94]\tvalidation_0-merror:0.274374\tvalidation_1-merror:0.280312\n",
      "[95]\tvalidation_0-merror:0.273878\tvalidation_1-merror:0.279951\n",
      "[96]\tvalidation_0-merror:0.273465\tvalidation_1-merror:0.279582\n",
      "[97]\tvalidation_0-merror:0.273163\tvalidation_1-merror:0.279396\n",
      "[98]\tvalidation_0-merror:0.272787\tvalidation_1-merror:0.279116\n",
      "[99]\tvalidation_0-merror:0.272348\tvalidation_1-merror:0.278892\n",
      "[100]\tvalidation_0-merror:0.272032\tvalidation_1-merror:0.278654\n",
      "[101]\tvalidation_0-merror:0.271836\tvalidation_1-merror:0.278479\n",
      "[102]\tvalidation_0-merror:0.271466\tvalidation_1-merror:0.278128\n",
      "[103]\tvalidation_0-merror:0.271145\tvalidation_1-merror:0.277696\n",
      "[104]\tvalidation_0-merror:0.270747\tvalidation_1-merror:0.277502\n",
      "[105]\tvalidation_0-merror:0.270432\tvalidation_1-merror:0.277335\n",
      "[106]\tvalidation_0-merror:0.270142\tvalidation_1-merror:0.27719\n",
      "[107]\tvalidation_0-merror:0.269888\tvalidation_1-merror:0.277\n",
      "[108]\tvalidation_0-merror:0.2696\tvalidation_1-merror:0.276802\n",
      "[109]\tvalidation_0-merror:0.269358\tvalidation_1-merror:0.27658\n",
      "[110]\tvalidation_0-merror:0.26914\tvalidation_1-merror:0.276413\n",
      "[111]\tvalidation_0-merror:0.268811\tvalidation_1-merror:0.276127\n",
      "[112]\tvalidation_0-merror:0.268564\tvalidation_1-merror:0.275992\n",
      "[113]\tvalidation_0-merror:0.26826\tvalidation_1-merror:0.27581\n",
      "[114]\tvalidation_0-merror:0.268047\tvalidation_1-merror:0.275692\n",
      "[115]\tvalidation_0-merror:0.267898\tvalidation_1-merror:0.275658\n",
      "[116]\tvalidation_0-merror:0.267727\tvalidation_1-merror:0.275466\n",
      "[117]\tvalidation_0-merror:0.267656\tvalidation_1-merror:0.275483\n",
      "[118]\tvalidation_0-merror:0.267537\tvalidation_1-merror:0.275382\n",
      "[119]\tvalidation_0-merror:0.267354\tvalidation_1-merror:0.275291\n",
      "[120]\tvalidation_0-merror:0.267278\tvalidation_1-merror:0.275249\n",
      "[121]\tvalidation_0-merror:0.267168\tvalidation_1-merror:0.275099\n",
      "[122]\tvalidation_0-merror:0.266963\tvalidation_1-merror:0.275017\n",
      "[123]\tvalidation_0-merror:0.266845\tvalidation_1-merror:0.274918\n",
      "[124]\tvalidation_0-merror:0.266635\tvalidation_1-merror:0.27472\n",
      "[125]\tvalidation_0-merror:0.266435\tvalidation_1-merror:0.274652\n",
      "[126]\tvalidation_0-merror:0.266298\tvalidation_1-merror:0.27454\n",
      "[127]\tvalidation_0-merror:0.266125\tvalidation_1-merror:0.274509\n"
     ]
    },
    {
     "name": "stdout",
     "output_type": "stream",
     "text": [
      "[128]\tvalidation_0-merror:0.26603\tvalidation_1-merror:0.274418\n",
      "[129]\tvalidation_0-merror:0.265931\tvalidation_1-merror:0.274361\n",
      "[130]\tvalidation_0-merror:0.265733\tvalidation_1-merror:0.274283\n",
      "[131]\tvalidation_0-merror:0.265604\tvalidation_1-merror:0.274194\n",
      "[132]\tvalidation_0-merror:0.265442\tvalidation_1-merror:0.274161\n",
      "[133]\tvalidation_0-merror:0.265305\tvalidation_1-merror:0.274059\n",
      "[134]\tvalidation_0-merror:0.265167\tvalidation_1-merror:0.273988\n",
      "[135]\tvalidation_0-merror:0.265041\tvalidation_1-merror:0.273964\n",
      "[136]\tvalidation_0-merror:0.264937\tvalidation_1-merror:0.27392\n",
      "[137]\tvalidation_0-merror:0.264791\tvalidation_1-merror:0.273766\n",
      "[138]\tvalidation_0-merror:0.264714\tvalidation_1-merror:0.273775\n",
      "[139]\tvalidation_0-merror:0.264543\tvalidation_1-merror:0.273722\n",
      "[140]\tvalidation_0-merror:0.264439\tvalidation_1-merror:0.273747\n",
      "[141]\tvalidation_0-merror:0.264318\tvalidation_1-merror:0.273756\n",
      "[142]\tvalidation_0-merror:0.264194\tvalidation_1-merror:0.273714\n",
      "[143]\tvalidation_0-merror:0.264084\tvalidation_1-merror:0.273644\n",
      "[144]\tvalidation_0-merror:0.264009\tvalidation_1-merror:0.273614\n",
      "[145]\tvalidation_0-merror:0.263927\tvalidation_1-merror:0.2736\n",
      "[146]\tvalidation_0-merror:0.263852\tvalidation_1-merror:0.273585\n",
      "[147]\tvalidation_0-merror:0.263753\tvalidation_1-merror:0.273534\n",
      "[148]\tvalidation_0-merror:0.26365\tvalidation_1-merror:0.273494\n",
      "[149]\tvalidation_0-merror:0.263525\tvalidation_1-merror:0.273405\n",
      "[150]\tvalidation_0-merror:0.263444\tvalidation_1-merror:0.27338\n",
      "[151]\tvalidation_0-merror:0.263299\tvalidation_1-merror:0.273315\n",
      "[152]\tvalidation_0-merror:0.263244\tvalidation_1-merror:0.273328\n",
      "[153]\tvalidation_0-merror:0.263135\tvalidation_1-merror:0.27337\n",
      "[154]\tvalidation_0-merror:0.263074\tvalidation_1-merror:0.273357\n",
      "[155]\tvalidation_0-merror:0.262981\tvalidation_1-merror:0.273357\n",
      "[156]\tvalidation_0-merror:0.262908\tvalidation_1-merror:0.273359\n",
      "[157]\tvalidation_0-merror:0.262882\tvalidation_1-merror:0.273319\n",
      "[158]\tvalidation_0-merror:0.262756\tvalidation_1-merror:0.273306\n",
      "[159]\tvalidation_0-merror:0.26269\tvalidation_1-merror:0.273235\n",
      "[160]\tvalidation_0-merror:0.262596\tvalidation_1-merror:0.273279\n",
      "[161]\tvalidation_0-merror:0.262568\tvalidation_1-merror:0.273321\n",
      "[162]\tvalidation_0-merror:0.262541\tvalidation_1-merror:0.273254\n",
      "[163]\tvalidation_0-merror:0.262432\tvalidation_1-merror:0.273283\n",
      "[164]\tvalidation_0-merror:0.262333\tvalidation_1-merror:0.27322\n",
      "[165]\tvalidation_0-merror:0.262282\tvalidation_1-merror:0.273199\n",
      "[166]\tvalidation_0-merror:0.26221\tvalidation_1-merror:0.273249\n",
      "[167]\tvalidation_0-merror:0.262103\tvalidation_1-merror:0.273152\n",
      "[168]\tvalidation_0-merror:0.261993\tvalidation_1-merror:0.273182\n",
      "[169]\tvalidation_0-merror:0.261939\tvalidation_1-merror:0.273241\n",
      "[170]\tvalidation_0-merror:0.261831\tvalidation_1-merror:0.273159\n",
      "[171]\tvalidation_0-merror:0.261756\tvalidation_1-merror:0.273106\n",
      "[172]\tvalidation_0-merror:0.261684\tvalidation_1-merror:0.273097\n",
      "[173]\tvalidation_0-merror:0.261658\tvalidation_1-merror:0.273104\n",
      "[174]\tvalidation_0-merror:0.261594\tvalidation_1-merror:0.273152\n",
      "[175]\tvalidation_0-merror:0.261555\tvalidation_1-merror:0.273125\n",
      "[176]\tvalidation_0-merror:0.261514\tvalidation_1-merror:0.273114\n",
      "[177]\tvalidation_0-merror:0.261417\tvalidation_1-merror:0.273093\n",
      "[178]\tvalidation_0-merror:0.26134\tvalidation_1-merror:0.273142\n",
      "[179]\tvalidation_0-merror:0.261244\tvalidation_1-merror:0.273108\n",
      "[180]\tvalidation_0-merror:0.261165\tvalidation_1-merror:0.273085\n",
      "[181]\tvalidation_0-merror:0.261083\tvalidation_1-merror:0.273038\n",
      "[182]\tvalidation_0-merror:0.260984\tvalidation_1-merror:0.272948\n",
      "[183]\tvalidation_0-merror:0.260924\tvalidation_1-merror:0.27299\n",
      "[184]\tvalidation_0-merror:0.260836\tvalidation_1-merror:0.272935\n",
      "[185]\tvalidation_0-merror:0.260779\tvalidation_1-merror:0.272914\n",
      "[186]\tvalidation_0-merror:0.260722\tvalidation_1-merror:0.272899\n",
      "[187]\tvalidation_0-merror:0.260628\tvalidation_1-merror:0.272823\n",
      "[188]\tvalidation_0-merror:0.260597\tvalidation_1-merror:0.272806\n",
      "[189]\tvalidation_0-merror:0.260526\tvalidation_1-merror:0.272773\n",
      "[190]\tvalidation_0-merror:0.260448\tvalidation_1-merror:0.272726\n",
      "[191]\tvalidation_0-merror:0.260354\tvalidation_1-merror:0.272773\n",
      "[192]\tvalidation_0-merror:0.26031\tvalidation_1-merror:0.272737\n",
      "[193]\tvalidation_0-merror:0.260263\tvalidation_1-merror:0.272718\n",
      "[194]\tvalidation_0-merror:0.260173\tvalidation_1-merror:0.272769\n",
      "[195]\tvalidation_0-merror:0.260103\tvalidation_1-merror:0.272771\n",
      "[196]\tvalidation_0-merror:0.260023\tvalidation_1-merror:0.272737\n",
      "[197]\tvalidation_0-merror:0.259941\tvalidation_1-merror:0.272741\n",
      "[198]\tvalidation_0-merror:0.25987\tvalidation_1-merror:0.272707\n",
      "[199]\tvalidation_0-merror:0.259798\tvalidation_1-merror:0.272722\n",
      "[200]\tvalidation_0-merror:0.259768\tvalidation_1-merror:0.272688\n",
      "[201]\tvalidation_0-merror:0.259691\tvalidation_1-merror:0.272595\n",
      "[202]\tvalidation_0-merror:0.259605\tvalidation_1-merror:0.272598\n",
      "[203]\tvalidation_0-merror:0.259535\tvalidation_1-merror:0.272593\n",
      "[204]\tvalidation_0-merror:0.259471\tvalidation_1-merror:0.272572\n",
      "[205]\tvalidation_0-merror:0.259373\tvalidation_1-merror:0.27252\n",
      "[206]\tvalidation_0-merror:0.259305\tvalidation_1-merror:0.272555\n",
      "[207]\tvalidation_0-merror:0.259238\tvalidation_1-merror:0.272543\n",
      "[208]\tvalidation_0-merror:0.259175\tvalidation_1-merror:0.272532\n",
      "[209]\tvalidation_0-merror:0.259112\tvalidation_1-merror:0.272534\n",
      "[210]\tvalidation_0-merror:0.259063\tvalidation_1-merror:0.272517\n",
      "[211]\tvalidation_0-merror:0.258997\tvalidation_1-merror:0.272541\n",
      "[212]\tvalidation_0-merror:0.258965\tvalidation_1-merror:0.272486\n",
      "[213]\tvalidation_0-merror:0.258911\tvalidation_1-merror:0.27248\n",
      "[214]\tvalidation_0-merror:0.258897\tvalidation_1-merror:0.272429\n",
      "[215]\tvalidation_0-merror:0.258858\tvalidation_1-merror:0.272435\n",
      "[216]\tvalidation_0-merror:0.258813\tvalidation_1-merror:0.272393\n",
      "[217]\tvalidation_0-merror:0.25875\tvalidation_1-merror:0.272399\n",
      "[218]\tvalidation_0-merror:0.258718\tvalidation_1-merror:0.272406\n",
      "[219]\tvalidation_0-merror:0.258693\tvalidation_1-merror:0.272399\n",
      "[220]\tvalidation_0-merror:0.258642\tvalidation_1-merror:0.272442\n",
      "[221]\tvalidation_0-merror:0.2586\tvalidation_1-merror:0.272414\n",
      "[222]\tvalidation_0-merror:0.258563\tvalidation_1-merror:0.272406\n",
      "[223]\tvalidation_0-merror:0.258502\tvalidation_1-merror:0.272401\n",
      "[224]\tvalidation_0-merror:0.258458\tvalidation_1-merror:0.27237\n",
      "[225]\tvalidation_0-merror:0.258403\tvalidation_1-merror:0.27238\n",
      "[226]\tvalidation_0-merror:0.258335\tvalidation_1-merror:0.272395\n",
      "[227]\tvalidation_0-merror:0.258303\tvalidation_1-merror:0.27242\n",
      "[228]\tvalidation_0-merror:0.258234\tvalidation_1-merror:0.272372\n",
      "[229]\tvalidation_0-merror:0.258184\tvalidation_1-merror:0.272383\n",
      "[230]\tvalidation_0-merror:0.258102\tvalidation_1-merror:0.272347\n",
      "[231]\tvalidation_0-merror:0.258065\tvalidation_1-merror:0.272351\n",
      "[232]\tvalidation_0-merror:0.258015\tvalidation_1-merror:0.272347\n",
      "[233]\tvalidation_0-merror:0.257965\tvalidation_1-merror:0.272313\n",
      "[234]\tvalidation_0-merror:0.257923\tvalidation_1-merror:0.272307\n",
      "[235]\tvalidation_0-merror:0.257905\tvalidation_1-merror:0.272336\n",
      "[236]\tvalidation_0-merror:0.257859\tvalidation_1-merror:0.272357\n",
      "[237]\tvalidation_0-merror:0.257822\tvalidation_1-merror:0.272402\n",
      "[238]\tvalidation_0-merror:0.257777\tvalidation_1-merror:0.272454\n",
      "[239]\tvalidation_0-merror:0.257736\tvalidation_1-merror:0.272406\n",
      "[240]\tvalidation_0-merror:0.257654\tvalidation_1-merror:0.272471\n",
      "[241]\tvalidation_0-merror:0.257625\tvalidation_1-merror:0.272437\n",
      "[242]\tvalidation_0-merror:0.257571\tvalidation_1-merror:0.272406\n",
      "[243]\tvalidation_0-merror:0.257511\tvalidation_1-merror:0.272412\n",
      "[244]\tvalidation_0-merror:0.257488\tvalidation_1-merror:0.272404\n",
      "[245]\tvalidation_0-merror:0.257457\tvalidation_1-merror:0.272418\n",
      "[246]\tvalidation_0-merror:0.257423\tvalidation_1-merror:0.27244\n",
      "[247]\tvalidation_0-merror:0.257369\tvalidation_1-merror:0.272435\n",
      "[248]\tvalidation_0-merror:0.257335\tvalidation_1-merror:0.272448\n",
      "[249]\tvalidation_0-merror:0.257282\tvalidation_1-merror:0.27246\n",
      "[250]\tvalidation_0-merror:0.257238\tvalidation_1-merror:0.272477\n",
      "[251]\tvalidation_0-merror:0.25722\tvalidation_1-merror:0.272477\n",
      "[252]\tvalidation_0-merror:0.257199\tvalidation_1-merror:0.272461\n",
      "[253]\tvalidation_0-merror:0.257162\tvalidation_1-merror:0.272458\n",
      "[254]\tvalidation_0-merror:0.257129\tvalidation_1-merror:0.272479\n",
      "[255]\tvalidation_0-merror:0.257109\tvalidation_1-merror:0.272479\n",
      "[256]\tvalidation_0-merror:0.257077\tvalidation_1-merror:0.272471\n"
     ]
    },
    {
     "name": "stdout",
     "output_type": "stream",
     "text": [
      "[257]\tvalidation_0-merror:0.257028\tvalidation_1-merror:0.272475\n",
      "[258]\tvalidation_0-merror:0.256957\tvalidation_1-merror:0.272444\n",
      "[259]\tvalidation_0-merror:0.256892\tvalidation_1-merror:0.272463\n",
      "[260]\tvalidation_0-merror:0.256847\tvalidation_1-merror:0.272494\n",
      "[261]\tvalidation_0-merror:0.256788\tvalidation_1-merror:0.272498\n",
      "[262]\tvalidation_0-merror:0.256747\tvalidation_1-merror:0.272507\n",
      "[263]\tvalidation_0-merror:0.256707\tvalidation_1-merror:0.272503\n",
      "[264]\tvalidation_0-merror:0.256635\tvalidation_1-merror:0.272591\n",
      "Stopping. Best iteration:\n",
      "[234]\tvalidation_0-merror:0.257923\tvalidation_1-merror:0.272307\n",
      "\n"
     ]
    }
   ],
   "source": [
    "# Final Model\n",
    "\n",
    "# define model\n",
    "gbm = xgb.XGBClassifier( \n",
    "                       n_estimators=30000,  # high number\n",
    "                       max_depth=10,\n",
    "                       objective=\"multi:softmax\",\n",
    "                       learning_rate=0.1, \n",
    "                       subsample=1,\n",
    "                       min_child_weight=.1,\n",
    "                       colsample_bytree=1,\n",
    "                       num_class=5, \n",
    "                       random_state=42,\n",
    "                       n_jobs=-1, \n",
    "                      )\n",
    "# setup evaluation set\n",
    "eval_set=[(X_train,y_train),(X_val,y_val)] #tracking train/val error as we go\n",
    "\n",
    "# fit with evaluation set\n",
    "model_final = gbm.fit( \n",
    "                    X_train, y_train,\n",
    "                    eval_set=eval_set,\n",
    "                    eval_metric='merror',\n",
    "                    early_stopping_rounds=30,  # time saver with high tree numbers\n",
    "                    verbose=True \n",
    "                   )\n"
   ]
  },
  {
   "cell_type": "code",
   "execution_count": 12,
   "metadata": {},
   "outputs": [
    {
     "name": "stdout",
     "output_type": "stream",
     "text": [
      "Train Score: 0.742076992806476.\n",
      "Validation Score: 0.727692594367247.\n"
     ]
    },
    {
     "data": {
      "image/png": "[encoded data removed]",
      "text/plain": [
       "<Figure size 432x288 with 1 Axes>"
      ]
     },
     "metadata": {
      "needs_background": "light"
     },
     "output_type": "display_data"
    }
   ],
   "source": [
    "print(f\"Train Score: {accuracy_score(y_train, model_final.predict(X_train, ntree_limit=gbm.best_ntree_limit))}.\")\n",
    "print(f\"Validation Score: {accuracy_score(y_val, model_final.predict(X_val, ntree_limit=gbm.best_ntree_limit))}.\")\n",
    "xgb.plot_importance(model_final);"
   ]
  },
  {
   "cell_type": "markdown",
   "metadata": {},
   "source": [
    "Let's save it!"
   ]
  },
  {
   "cell_type": "code",
   "execution_count": 13,
   "metadata": {},
   "outputs": [
    {
     "name": "stdout",
     "output_type": "stream",
     "text": [
      "Final model is dumped!\n"
     ]
    }
   ],
   "source": [
    "# save the trained model\n",
    "joblib.dump(model_final, '../../Model/AI_in_Soccer/XGBoost.pkl')\n",
    "print(\"Final model is dumped!\")"
   ]
  },
  {
   "cell_type": "code",
   "execution_count": 14,
   "metadata": {},
   "outputs": [],
   "source": [
    "# convert from DataFrame to numpy array to model in Flask\n",
    "y_train_flask = y_train.values\n",
    "X_train_flask = X_train.values\n",
    "y_val_flask = y_val.values\n",
    "X_val_flask = X_val.values"
   ]
  },
  {
   "cell_type": "code",
   "execution_count": 15,
   "metadata": {},
   "outputs": [],
   "source": [
    "# Final Model - Flask version\n",
    "\n",
    "# define model\n",
    "gbm = xgb.XGBClassifier( \n",
    "                       n_estimators=30000,  # high number\n",
    "                       max_depth=10,\n",
    "                       objective=\"multi:softmax\",\n",
    "                       learning_rate=0.1, \n",
    "                       subsample=1,\n",
    "                       min_child_weight=.1,\n",
    "                       colsample_bytree=1,\n",
    "                       num_class=5, \n",
    "                       random_state=42,\n",
    "                       n_jobs=-1, \n",
    "                      )\n",
    "# setup evaluation set\n",
    "eval_set=[(X_train_flask,y_train_flask),(X_val_flask,y_val_flask)] #tracking train/val error as we go\n",
    "\n",
    "# fit with evaluation set\n",
    "model_final_flask = gbm.fit( \n",
    "                    X_train_flask, y_train_flask,\n",
    "                    eval_set=eval_set,\n",
    "                    eval_metric='merror',\n",
    "                    early_stopping_rounds=30,  # time saver with high tree numbers\n",
    "                    verbose=False \n",
    "                   )"
   ]
  },
  {
   "cell_type": "code",
   "execution_count": 16,
   "metadata": {},
   "outputs": [
    {
     "name": "stdout",
     "output_type": "stream",
     "text": [
      "model for flask is dumped!\n"
     ]
    }
   ],
   "source": [
    "# save model for Flask testing\n",
    "joblib.dump(model_final_flask, '../../Model/AI_in_Soccer/XGBoost_flask.pkl')\n",
    "print(\"model for flask is dumped!\")"
   ]
  },
  {
   "cell_type": "code",
   "execution_count": 60,
   "metadata": {},
   "outputs": [
    {
     "data": {
      "text/html": [
       "<div>\n",
       "<style scoped>\n",
       "    .dataframe tbody tr th:only-of-type {\n",
       "        vertical-align: middle;\n",
       "    }\n",
       "\n",
       "    .dataframe tbody tr th {\n",
       "        vertical-align: top;\n",
       "    }\n",
       "\n",
       "    .dataframe thead th {\n",
       "        text-align: right;\n",
       "    }\n",
       "</style>\n",
       "<table border=\"1\" class=\"dataframe\">\n",
       "  <thead>\n",
       "    <tr style=\"text-align: right;\">\n",
       "      <th></th>\n",
       "      <th>x_start</th>\n",
       "      <th>y_start</th>\n",
       "      <th>x_end</th>\n",
       "      <th>y_end</th>\n",
       "      <th>roleNum</th>\n",
       "    </tr>\n",
       "  </thead>\n",
       "  <tbody>\n",
       "    <tr>\n",
       "      <th>0</th>\n",
       "      <td>49</td>\n",
       "      <td>49</td>\n",
       "      <td>31</td>\n",
       "      <td>78</td>\n",
       "      <td>3</td>\n",
       "    </tr>\n",
       "    <tr>\n",
       "      <th>1</th>\n",
       "      <td>31</td>\n",
       "      <td>78</td>\n",
       "      <td>51</td>\n",
       "      <td>75</td>\n",
       "      <td>1</td>\n",
       "    </tr>\n",
       "    <tr>\n",
       "      <th>2</th>\n",
       "      <td>51</td>\n",
       "      <td>75</td>\n",
       "      <td>35</td>\n",
       "      <td>71</td>\n",
       "      <td>2</td>\n",
       "    </tr>\n",
       "    <tr>\n",
       "      <th>3</th>\n",
       "      <td>35</td>\n",
       "      <td>71</td>\n",
       "      <td>41</td>\n",
       "      <td>95</td>\n",
       "      <td>2</td>\n",
       "    </tr>\n",
       "    <tr>\n",
       "      <th>4</th>\n",
       "      <td>41</td>\n",
       "      <td>95</td>\n",
       "      <td>72</td>\n",
       "      <td>88</td>\n",
       "      <td>1</td>\n",
       "    </tr>\n",
       "    <tr>\n",
       "      <th>...</th>\n",
       "      <td>...</td>\n",
       "      <td>...</td>\n",
       "      <td>...</td>\n",
       "      <td>...</td>\n",
       "      <td>...</td>\n",
       "    </tr>\n",
       "    <tr>\n",
       "      <th>1137878</th>\n",
       "      <td>38</td>\n",
       "      <td>33</td>\n",
       "      <td>45</td>\n",
       "      <td>47</td>\n",
       "      <td>2</td>\n",
       "    </tr>\n",
       "    <tr>\n",
       "      <th>1137879</th>\n",
       "      <td>55</td>\n",
       "      <td>53</td>\n",
       "      <td>82</td>\n",
       "      <td>24</td>\n",
       "      <td>2</td>\n",
       "    </tr>\n",
       "    <tr>\n",
       "      <th>1137880</th>\n",
       "      <td>82</td>\n",
       "      <td>24</td>\n",
       "      <td>100</td>\n",
       "      <td>100</td>\n",
       "      <td>3</td>\n",
       "    </tr>\n",
       "    <tr>\n",
       "      <th>1137881</th>\n",
       "      <td>22</td>\n",
       "      <td>78</td>\n",
       "      <td>0</td>\n",
       "      <td>70</td>\n",
       "      <td>1</td>\n",
       "    </tr>\n",
       "    <tr>\n",
       "      <th>1137883</th>\n",
       "      <td>100</td>\n",
       "      <td>0</td>\n",
       "      <td>100</td>\n",
       "      <td>100</td>\n",
       "      <td>3</td>\n",
       "    </tr>\n",
       "  </tbody>\n",
       "</table>\n",
       "<p>2176541 rows × 5 columns</p>\n",
       "</div>"
      ],
      "text/plain": [
       "         x_start  y_start  x_end  y_end  roleNum\n",
       "0             49       49     31     78        3\n",
       "1             31       78     51     75        1\n",
       "2             51       75     35     71        2\n",
       "3             35       71     41     95        2\n",
       "4             41       95     72     88        1\n",
       "...          ...      ...    ...    ...      ...\n",
       "1137878       38       33     45     47        2\n",
       "1137879       55       53     82     24        2\n",
       "1137880       82       24    100    100        3\n",
       "1137881       22       78      0     70        1\n",
       "1137883      100        0    100    100        3\n",
       "\n",
       "[2176541 rows x 5 columns]"
      ]
     },
     "execution_count": 60,
     "metadata": {},
     "output_type": "execute_result"
    }
   ],
   "source": [
    "X_train"
   ]
  },
  {
   "cell_type": "code",
   "execution_count": null,
   "metadata": {},
   "outputs": [],
   "source": []
  },
  {
   "cell_type": "code",
   "execution_count": null,
   "metadata": {},
   "outputs": [],
   "source": []
  },
  {
   "cell_type": "code",
   "execution_count": 24,
   "metadata": {},
   "outputs": [
    {
     "ename": "NameError",
     "evalue": "name 'X_test_d' is not defined",
     "output_type": "error",
     "traceback": [
      "\u001b[0;31m---------------------------------------------------------------------------\u001b[0m",
      "\u001b[0;31mNameError\u001b[0m                                 Traceback (most recent call last)",
      "\u001b[0;32m<ipython-input-24-a3bf6bffe831>\u001b[0m in \u001b[0;36m<module>\u001b[0;34m\u001b[0m\n\u001b[1;32m      1\u001b[0m \u001b[0;31m# test the model\u001b[0m\u001b[0;34m\u001b[0m\u001b[0;34m\u001b[0m\u001b[0;34m\u001b[0m\u001b[0m\n\u001b[0;32m----> 2\u001b[0;31m \u001b[0ma\u001b[0m \u001b[0;34m=\u001b[0m \u001b[0mmodel_final\u001b[0m\u001b[0;34m.\u001b[0m\u001b[0mpredict_proba\u001b[0m\u001b[0;34m(\u001b[0m\u001b[0mX_test_d\u001b[0m\u001b[0;34m)\u001b[0m\u001b[0;34m\u001b[0m\u001b[0;34m\u001b[0m\u001b[0m\n\u001b[0m\u001b[1;32m      3\u001b[0m \u001b[0mprint\u001b[0m\u001b[0;34m(\u001b[0m\u001b[0ma\u001b[0m\u001b[0;34m[\u001b[0m\u001b[0;36m0\u001b[0m\u001b[0;34m]\u001b[0m\u001b[0;34m)\u001b[0m\u001b[0;34m\u001b[0m\u001b[0;34m\u001b[0m\u001b[0m\n\u001b[1;32m      4\u001b[0m \u001b[0mb\u001b[0m \u001b[0;34m=\u001b[0m \u001b[0mmodel_final\u001b[0m\u001b[0;34m.\u001b[0m\u001b[0mpredict\u001b[0m\u001b[0;34m(\u001b[0m\u001b[0mX_test_d\u001b[0m\u001b[0;34m)\u001b[0m\u001b[0;34m\u001b[0m\u001b[0;34m\u001b[0m\u001b[0m\n\u001b[1;32m      5\u001b[0m \u001b[0mb\u001b[0m\u001b[0;34m[\u001b[0m\u001b[0;36m0\u001b[0m\u001b[0;34m]\u001b[0m\u001b[0;34m\u001b[0m\u001b[0;34m\u001b[0m\u001b[0m\n",
      "\u001b[0;31mNameError\u001b[0m: name 'X_test_d' is not defined"
     ]
    }
   ],
   "source": [
    "# test the model\n",
    "a = model_final.predict_proba(X_test_d)\n",
    "print(a[0])\n",
    "b = model_final.predict(X_test_d)\n",
    "b[0]"
   ]
  },
  {
   "cell_type": "code",
   "execution_count": 25,
   "metadata": {},
   "outputs": [
    {
     "data": {
      "text/plain": [
       "array(['control', 'game_break', 'long_pass', 'short_pass', 'shot'],\n",
       "      dtype=object)"
      ]
     },
     "execution_count": 25,
     "metadata": {},
     "output_type": "execute_result"
    }
   ],
   "source": [
    "# check the mapping\n",
    "model_final.classes_"
   ]
  },
  {
   "cell_type": "markdown",
   "metadata": {},
   "source": [
    "#### Base model, np.array version to avoid the value error in Flask"
   ]
  },
  {
   "cell_type": "code",
   "execution_count": 17,
   "metadata": {},
   "outputs": [],
   "source": [
    "# convert from DataFrame to numpy array to model in Flask\n",
    "y_train_flask = y_train.values\n",
    "X_train_flask = X_train.values\n",
    "y_val_flask = y_val.values\n",
    "X_val_flask = X_val.values"
   ]
  },
  {
   "cell_type": "code",
   "execution_count": null,
   "metadata": {},
   "outputs": [],
   "source": []
  },
  {
   "cell_type": "code",
   "execution_count": 49,
   "metadata": {
    "scrolled": true
   },
   "outputs": [
    {
     "name": "stdout",
     "output_type": "stream",
     "text": [
      "0.08842709\n",
      "0.065008715\n",
      "0.23671763\n",
      "0.06018328\n",
      "0.49185732\n",
      "0.05780603\n"
     ]
    }
   ],
   "source": [
    "# test the model\n",
    "x = [[80, 70, 3.01]]\n",
    "x = np.matrix(x)\n",
    "xx = model_base_b.predict_proba(x)\n",
    "print(xx[0, 0])\n",
    "print(xx[0, 1])\n",
    "print(xx[0, 2])\n",
    "print(xx[0, 3])\n",
    "print(xx[0, 4])\n",
    "print(xx[0, 5])\n",
    "#xxx = model_base_b.predict(x)\n",
    "#xxx[0]"
   ]
  },
  {
   "cell_type": "code",
   "execution_count": 41,
   "metadata": {},
   "outputs": [
    {
     "data": {
      "text/plain": [
       "numpy.matrix"
      ]
     },
     "execution_count": 41,
     "metadata": {},
     "output_type": "execute_result"
    }
   ],
   "source": [
    "type(x)"
   ]
  },
  {
   "cell_type": "code",
   "execution_count": 42,
   "metadata": {},
   "outputs": [
    {
     "name": "stdout",
     "output_type": "stream",
     "text": [
      "['control' 'cross' 'duel' 'longball' 'pass' 'shot']\n"
     ]
    }
   ],
   "source": [
    "# check the mapping\n",
    "print(model_base_b.classes_)"
   ]
  },
  {
   "cell_type": "code",
   "execution_count": 43,
   "metadata": {},
   "outputs": [
    {
     "name": "stdout",
     "output_type": "stream",
     "text": [
      "gbm_base is dumped!\n"
     ]
    }
   ],
   "source": [
    "# save model for Flask testing\n",
    "# save the trained model\n",
    "joblib.dump(model_base_b, '../model/gbm_base.pkl')\n",
    "print(\"gbm_base is dumped!\")"
   ]
  },
  {
   "cell_type": "code",
   "execution_count": null,
   "metadata": {},
   "outputs": [],
   "source": []
  },
  {
   "cell_type": "markdown",
   "metadata": {},
   "source": [
    "#### First trial: added end coordinates and accrual event seconds"
   ]
  },
  {
   "cell_type": "code",
   "execution_count": null,
   "metadata": {},
   "outputs": [],
   "source": [
    "# test the model\n",
    "xx = model_first_a.predict_proba(X_test)\n",
    "print(xx[0])\n",
    "xxx = model_first_a.predict(X_test)\n",
    "xxx[0]"
   ]
  },
  {
   "cell_type": "code",
   "execution_count": null,
   "metadata": {},
   "outputs": [],
   "source": [
    "# check the mapping\n",
    "model_first_a.classes_"
   ]
  },
  {
   "cell_type": "code",
   "execution_count": null,
   "metadata": {},
   "outputs": [],
   "source": [
    " model_"
   ]
  },
  {
   "cell_type": "markdown",
   "metadata": {},
   "source": [
    "#### First Trial, np.array version to avoid the value error in Flask"
   ]
  },
  {
   "cell_type": "code",
   "execution_count": null,
   "metadata": {},
   "outputs": [],
   "source": [
    "# retrieve performance metrics\n",
    "results = gbm.evals_result()\n",
    "epochs = len(results['validation_0']['merror'])\n",
    "x_axis = range(0, epochs)"
   ]
  },
  {
   "cell_type": "code",
   "execution_count": null,
   "metadata": {},
   "outputs": [],
   "source": [
    "fig, ax = plt.subplots()\n",
    "ax.plot(x_axis, results['validation_0']['merror'], label='Train')\n",
    "ax.plot(x_axis, results['validation_1']['merror'], label='Test')\n",
    "ax.legend()\n",
    "plt.ylabel('Classification Error')\n",
    "plt.title('XGBoost Classification Error')\n",
    "plt.show()"
   ]
  },
  {
   "cell_type": "code",
   "execution_count": null,
   "metadata": {},
   "outputs": [],
   "source": [
    "# save the trained model\n",
    "joblib.dump(gbm, 'gbm_test.pkl')\n",
    "print(\"gbm_test is dumped!\")"
   ]
  },
  {
   "cell_type": "code",
   "execution_count": null,
   "metadata": {},
   "outputs": [],
   "source": [
    "# save the trained model\n",
    "joblib.dump(gbm, 'gbm.pkl')\n",
    "print(\"gbm is dumped!\")"
   ]
  },
  {
   "cell_type": "code",
   "execution_count": null,
   "metadata": {},
   "outputs": [],
   "source": [
    "probs = gbm.predict_proba(X_test)\n",
    "y_pred = gbm.predict(X_test)"
   ]
  },
  {
   "cell_type": "code",
   "execution_count": null,
   "metadata": {},
   "outputs": [],
   "source": [
    "x = [80, 80, 70, 70, 2, 230]"
   ]
  },
  {
   "cell_type": "code",
   "execution_count": null,
   "metadata": {},
   "outputs": [],
   "source": [
    "a = gbm.predict_proba(x)"
   ]
  },
  {
   "cell_type": "code",
   "execution_count": null,
   "metadata": {},
   "outputs": [],
   "source": [
    "a"
   ]
  },
  {
   "cell_type": "code",
   "execution_count": null,
   "metadata": {},
   "outputs": [],
   "source": [
    "X_test"
   ]
  },
  {
   "cell_type": "code",
   "execution_count": null,
   "metadata": {},
   "outputs": [],
   "source": [
    "y_train"
   ]
  },
  {
   "cell_type": "code",
   "execution_count": null,
   "metadata": {},
   "outputs": [],
   "source": [
    "X_train.newEventSec.min()"
   ]
  },
  {
   "cell_type": "code",
   "execution_count": null,
   "metadata": {},
   "outputs": [],
   "source": []
  },
  {
   "cell_type": "code",
   "execution_count": null,
   "metadata": {},
   "outputs": [],
   "source": [
    "_  = X_test.copy()\n",
    "_['y'] = y_test\n",
    "_['y_pred'] = y_pred"
   ]
  },
  {
   "cell_type": "code",
   "execution_count": null,
   "metadata": {},
   "outputs": [],
   "source": [
    "_.head(20)"
   ]
  },
  {
   "cell_type": "code",
   "execution_count": null,
   "metadata": {},
   "outputs": [],
   "source": [
    "_[_.y_pred == 'Shot'].shape"
   ]
  },
  {
   "cell_type": "code",
   "execution_count": null,
   "metadata": {},
   "outputs": [],
   "source": [
    "_[(_.x_start < 50) & (_.x_end == 0)]"
   ]
  },
  {
   "cell_type": "code",
   "execution_count": null,
   "metadata": {},
   "outputs": [],
   "source": [
    "xgb.to_graphviz(gbm, num_trees=2)"
   ]
  },
  {
   "cell_type": "code",
   "execution_count": null,
   "metadata": {},
   "outputs": [],
   "source": []
  },
  {
   "cell_type": "code",
   "execution_count": null,
   "metadata": {},
   "outputs": [],
   "source": []
  }
 ],
 "metadata": {
  "kernelspec": {
   "display_name": "Python 3",
   "language": "python",
   "name": "python3"
  },
  "language_info": {
   "codemirror_mode": {
    "name": "ipython",
    "version": 3
   },
   "file_extension": ".py",
   "mimetype": "text/x-python",
   "name": "python",
   "nbconvert_exporter": "python",
   "pygments_lexer": "ipython3",
   "version": "3.7.5"
  }
 },
 "nbformat": 4,
 "nbformat_minor": 2
}
