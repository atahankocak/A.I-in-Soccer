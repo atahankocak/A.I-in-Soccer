{
 "cells": [
  {
   "cell_type": "markdown",
   "metadata": {},
   "source": [
    "### Humble Beginings"
   ]
  },
  {
   "cell_type": "markdown",
   "metadata": {},
   "source": [
    "It is time to take a good look at what we have. Given that, I plan to travel back and forth between EDA and feature engineering! As usual, better hold onto something, because it will get choppier! "
   ]
  },
  {
   "cell_type": "code",
   "execution_count": 403,
   "metadata": {},
   "outputs": [],
   "source": [
    "# for data munging\n",
    "import pandas as pd\n",
    "import numpy as np\n",
    "\n",
    "# for dictionary execises\n",
    "from collections import defaultdict\n",
    "\n",
    "# for visualization and pitch drawing\n",
    "import matplotlib.pyplot as plt\n",
    "import matplotlib.patches\n",
    "import seaborn as sns\n",
    "\n",
    "%matplotlib inline"
   ]
  },
  {
   "cell_type": "code",
   "execution_count": 404,
   "metadata": {},
   "outputs": [],
   "source": [
    "# pandas setup as usual, just the way I like it!\n",
    "pd.set_option('display.max_columns', 50)\n",
    "pd.set_option('display.max_rows', 120)\n",
    "pd.set_option('display.precision', 3)"
   ]
  },
  {
   "cell_type": "code",
   "execution_count": 405,
   "metadata": {},
   "outputs": [
    {
     "data": {
      "text/html": [
       "<div>\n",
       "<style scoped>\n",
       "    .dataframe tbody tr th:only-of-type {\n",
       "        vertical-align: middle;\n",
       "    }\n",
       "\n",
       "    .dataframe tbody tr th {\n",
       "        vertical-align: top;\n",
       "    }\n",
       "\n",
       "    .dataframe thead th {\n",
       "        text-align: right;\n",
       "    }\n",
       "</style>\n",
       "<table border=\"1\" class=\"dataframe\">\n",
       "  <thead>\n",
       "    <tr style=\"text-align: right;\">\n",
       "      <th></th>\n",
       "      <th>id</th>\n",
       "      <th>matchId</th>\n",
       "      <th>gameweek</th>\n",
       "      <th>month</th>\n",
       "      <th>hour</th>\n",
       "      <th>teamHome</th>\n",
       "      <th>teamId</th>\n",
       "      <th>teamName</th>\n",
       "      <th>league</th>\n",
       "      <th>playerId</th>\n",
       "      <th>shortName</th>\n",
       "      <th>role</th>\n",
       "      <th>age</th>\n",
       "      <th>height</th>\n",
       "      <th>weight</th>\n",
       "      <th>foot</th>\n",
       "      <th>eventName</th>\n",
       "      <th>subEventName</th>\n",
       "      <th>matchPeriod</th>\n",
       "      <th>eventSec</th>\n",
       "      <th>x_start</th>\n",
       "      <th>y_start</th>\n",
       "      <th>x_end</th>\n",
       "      <th>y_end</th>\n",
       "    </tr>\n",
       "  </thead>\n",
       "  <tbody>\n",
       "    <tr>\n",
       "      <th>0</th>\n",
       "      <td>177959171</td>\n",
       "      <td>2499719</td>\n",
       "      <td>1</td>\n",
       "      <td>8</td>\n",
       "      <td>18</td>\n",
       "      <td>Arsenal</td>\n",
       "      <td>1609</td>\n",
       "      <td>Arsenal</td>\n",
       "      <td>england</td>\n",
       "      <td>25413</td>\n",
       "      <td>A. Lacazette</td>\n",
       "      <td>FWD</td>\n",
       "      <td>26.599</td>\n",
       "      <td>175.0</td>\n",
       "      <td>73.0</td>\n",
       "      <td>right</td>\n",
       "      <td>Pass</td>\n",
       "      <td>Simple pass</td>\n",
       "      <td>1H</td>\n",
       "      <td>2.759</td>\n",
       "      <td>49</td>\n",
       "      <td>49</td>\n",
       "      <td>31</td>\n",
       "      <td>78</td>\n",
       "    </tr>\n",
       "    <tr>\n",
       "      <th>1</th>\n",
       "      <td>177959172</td>\n",
       "      <td>2499719</td>\n",
       "      <td>1</td>\n",
       "      <td>8</td>\n",
       "      <td>18</td>\n",
       "      <td>Arsenal</td>\n",
       "      <td>1609</td>\n",
       "      <td>Arsenal</td>\n",
       "      <td>england</td>\n",
       "      <td>370224</td>\n",
       "      <td>R. Holding</td>\n",
       "      <td>DEF</td>\n",
       "      <td>22.284</td>\n",
       "      <td>189.0</td>\n",
       "      <td>75.0</td>\n",
       "      <td>right</td>\n",
       "      <td>Pass</td>\n",
       "      <td>High pass</td>\n",
       "      <td>1H</td>\n",
       "      <td>4.947</td>\n",
       "      <td>31</td>\n",
       "      <td>78</td>\n",
       "      <td>51</td>\n",
       "      <td>75</td>\n",
       "    </tr>\n",
       "    <tr>\n",
       "      <th>2</th>\n",
       "      <td>177959173</td>\n",
       "      <td>2499719</td>\n",
       "      <td>1</td>\n",
       "      <td>8</td>\n",
       "      <td>18</td>\n",
       "      <td>Arsenal</td>\n",
       "      <td>1609</td>\n",
       "      <td>Arsenal</td>\n",
       "      <td>england</td>\n",
       "      <td>3319</td>\n",
       "      <td>M. \\u00d6zil</td>\n",
       "      <td>MID</td>\n",
       "      <td>29.213</td>\n",
       "      <td>180.0</td>\n",
       "      <td>76.0</td>\n",
       "      <td>left</td>\n",
       "      <td>Pass</td>\n",
       "      <td>Head pass</td>\n",
       "      <td>1H</td>\n",
       "      <td>6.542</td>\n",
       "      <td>51</td>\n",
       "      <td>75</td>\n",
       "      <td>35</td>\n",
       "      <td>71</td>\n",
       "    </tr>\n",
       "    <tr>\n",
       "      <th>3</th>\n",
       "      <td>177959174</td>\n",
       "      <td>2499719</td>\n",
       "      <td>1</td>\n",
       "      <td>8</td>\n",
       "      <td>18</td>\n",
       "      <td>Arsenal</td>\n",
       "      <td>1609</td>\n",
       "      <td>Arsenal</td>\n",
       "      <td>england</td>\n",
       "      <td>120339</td>\n",
       "      <td>Mohamed Elneny</td>\n",
       "      <td>MID</td>\n",
       "      <td>25.476</td>\n",
       "      <td>180.0</td>\n",
       "      <td>70.0</td>\n",
       "      <td>right</td>\n",
       "      <td>Pass</td>\n",
       "      <td>Head pass</td>\n",
       "      <td>1H</td>\n",
       "      <td>8.143</td>\n",
       "      <td>35</td>\n",
       "      <td>71</td>\n",
       "      <td>41</td>\n",
       "      <td>95</td>\n",
       "    </tr>\n",
       "    <tr>\n",
       "      <th>4</th>\n",
       "      <td>177959175</td>\n",
       "      <td>2499719</td>\n",
       "      <td>1</td>\n",
       "      <td>8</td>\n",
       "      <td>18</td>\n",
       "      <td>Arsenal</td>\n",
       "      <td>1609</td>\n",
       "      <td>Arsenal</td>\n",
       "      <td>england</td>\n",
       "      <td>167145</td>\n",
       "      <td>Beller\\u00edn</td>\n",
       "      <td>DEF</td>\n",
       "      <td>22.790</td>\n",
       "      <td>178.0</td>\n",
       "      <td>74.0</td>\n",
       "      <td>right</td>\n",
       "      <td>Pass</td>\n",
       "      <td>Simple pass</td>\n",
       "      <td>1H</td>\n",
       "      <td>10.302</td>\n",
       "      <td>41</td>\n",
       "      <td>95</td>\n",
       "      <td>72</td>\n",
       "      <td>88</td>\n",
       "    </tr>\n",
       "  </tbody>\n",
       "</table>\n",
       "</div>"
      ],
      "text/plain": [
       "          id  matchId  gameweek  month  hour  teamHome  teamId teamName  \\\n",
       "0  177959171  2499719         1      8    18  Arsenal     1609  Arsenal   \n",
       "1  177959172  2499719         1      8    18  Arsenal     1609  Arsenal   \n",
       "2  177959173  2499719         1      8    18  Arsenal     1609  Arsenal   \n",
       "3  177959174  2499719         1      8    18  Arsenal     1609  Arsenal   \n",
       "4  177959175  2499719         1      8    18  Arsenal     1609  Arsenal   \n",
       "\n",
       "    league  playerId       shortName role     age  height  weight   foot  \\\n",
       "0  england     25413    A. Lacazette  FWD  26.599   175.0    73.0  right   \n",
       "1  england    370224      R. Holding  DEF  22.284   189.0    75.0  right   \n",
       "2  england      3319    M. \\u00d6zil  MID  29.213   180.0    76.0   left   \n",
       "3  england    120339  Mohamed Elneny  MID  25.476   180.0    70.0  right   \n",
       "4  england    167145   Beller\\u00edn  DEF  22.790   178.0    74.0  right   \n",
       "\n",
       "  eventName subEventName matchPeriod  eventSec  x_start  y_start  x_end  y_end  \n",
       "0      Pass  Simple pass          1H     2.759       49       49     31     78  \n",
       "1      Pass    High pass          1H     4.947       31       78     51     75  \n",
       "2      Pass    Head pass          1H     6.542       51       75     35     71  \n",
       "3      Pass    Head pass          1H     8.143       35       71     41     95  \n",
       "4      Pass  Simple pass          1H    10.302       41       95     72     88  "
      ]
     },
     "execution_count": 405,
     "metadata": {},
     "output_type": "execute_result"
    }
   ],
   "source": [
    "# read in data\n",
    "events = pd.read_csv(\"../csv/events.csv\", index_col=0)\n",
    "events.head()"
   ]
  },
  {
   "cell_type": "markdown",
   "metadata": {},
   "source": [
    "### Missing Values and Handling Them"
   ]
  },
  {
   "cell_type": "code",
   "execution_count": 406,
   "metadata": {},
   "outputs": [
    {
     "name": "stdout",
     "output_type": "stream",
     "text": [
      "The dataframe has total of 3071395 rows and 24 columns.\n"
     ]
    }
   ],
   "source": [
    "# rows and columns\n",
    "print(f\"The dataframe has total of {events.shape[0]} rows and {events.shape[1]} columns.\")"
   ]
  },
  {
   "cell_type": "code",
   "execution_count": 407,
   "metadata": {},
   "outputs": [
    {
     "name": "stdout",
     "output_type": "stream",
     "text": [
      "id                   0\n",
      "matchId              0\n",
      "gameweek             0\n",
      "month                0\n",
      "hour                 0\n",
      "teamHome             0\n",
      "teamId               0\n",
      "teamName             0\n",
      "league               0\n",
      "playerId             0\n",
      "shortName       226038\n",
      "role            226038\n",
      "age             226038\n",
      "height          226038\n",
      "weight          226038\n",
      "foot            226647\n",
      "eventName            0\n",
      "subEventName      7821\n",
      "matchPeriod          0\n",
      "eventSec             0\n",
      "x_start              0\n",
      "y_start              0\n",
      "x_end                0\n",
      "y_end                0\n",
      "dtype: int64\n"
     ]
    }
   ],
   "source": [
    "# let's check the nulls\n",
    "print(events.isna().sum())"
   ]
  },
  {
   "cell_type": "markdown",
   "metadata": {},
   "source": [
    "I see 226,038 player records are missing. I need the player `role` in modeling the event predictor. Therefore, I will exclude records with missing `role`."
   ]
  },
  {
   "cell_type": "code",
   "execution_count": 408,
   "metadata": {},
   "outputs": [],
   "source": [
    "events.dropna(subset=['role'], inplace=True)"
   ]
  },
  {
   "cell_type": "code",
   "execution_count": 409,
   "metadata": {},
   "outputs": [
    {
     "data": {
      "text/plain": [
       "(2845357, 24)"
      ]
     },
     "execution_count": 409,
     "metadata": {},
     "output_type": "execute_result"
    }
   ],
   "source": [
    "events.shape"
   ]
  },
  {
   "cell_type": "code",
   "execution_count": 410,
   "metadata": {},
   "outputs": [
    {
     "name": "stdout",
     "output_type": "stream",
     "text": [
      "id                 0\n",
      "matchId            0\n",
      "gameweek           0\n",
      "month              0\n",
      "hour               0\n",
      "teamHome           0\n",
      "teamId             0\n",
      "teamName           0\n",
      "league             0\n",
      "playerId           0\n",
      "shortName          0\n",
      "role               0\n",
      "age                0\n",
      "height             0\n",
      "weight             0\n",
      "foot             609\n",
      "eventName          0\n",
      "subEventName    7793\n",
      "matchPeriod        0\n",
      "eventSec           0\n",
      "x_start            0\n",
      "y_start            0\n",
      "x_end              0\n",
      "y_end              0\n",
      "dtype: int64\n"
     ]
    }
   ],
   "source": [
    "# check again\n",
    "print(events.isna().sum())"
   ]
  },
  {
   "cell_type": "markdown",
   "metadata": {},
   "source": [
    "I take a closer look at the records with mising `foot`."
   ]
  },
  {
   "cell_type": "code",
   "execution_count": 411,
   "metadata": {},
   "outputs": [
    {
     "name": "stdout",
     "output_type": "stream",
     "text": [
      "['D. McNeil' 'Mozo' 'Sergio Arribas' 'David Alba' 'Miguel'\n",
      " 'Alberto L\\\\u00f3pez' 'Mujaid Sadick' 'Juan Cruz' 'S. Sanogo'\n",
      " 'D. Alcibiade' 'N. Gandi' 'D. Lempereur' 'A. Sahibeddine']\n",
      "13\n"
     ]
    }
   ],
   "source": [
    "print(events[events['foot'].isnull()]['shortName'].unique())\n",
    "print(events[events['foot'].isnull()]['shortName'].nunique())"
   ]
  },
  {
   "cell_type": "markdown",
   "metadata": {},
   "source": [
    "There are only 13 players without preferred `foot` data. I will look them up manually and adjust accordingly."
   ]
  },
  {
   "cell_type": "code",
   "execution_count": 412,
   "metadata": {},
   "outputs": [],
   "source": [
    "# form 2 lists, one for left_foot one for right_foot\n",
    "left_foot = ['D. McNeil', 'Alberto L\\\\u00f3pez', 'Juan Cruz', 'S. Sanogo', 'D. Lempereur']\n",
    "right_foot = ['Mozo', 'Sergio Arribas', 'David Alba', 'Miguel', 'Mujaid Sadick', 'D. Alcibiade', 'N. Gandi', 'A. Sahibeddine']"
   ]
  },
  {
   "cell_type": "code",
   "execution_count": 413,
   "metadata": {},
   "outputs": [],
   "source": [
    "# fill nan's with appropriate values\n",
    "events.loc[events['shortName'].isin(pd.Series(['D. McNeil', 'Alberto L\\\\u00f3pez', 'Juan Cruz', 'S. Sanogo', 'D. Lempereur'])),'foot']='left'\n",
    "events.loc[events['shortName'].isin(pd.Series(['Mozo', 'Sergio Arribas', 'David Alba', 'Miguel', 'Mujaid Sadick', 'D. Alcibiade', \n",
    "                                           'N. Gandi', 'A. Sahibeddine'])),'foot']='right'\n",
    "#events.[events['shortName'].isin(left_foot)].fillna(\"left\", inplace=True)\n",
    "#events[events['shortName'].isin(right_foot)].fillna(\"right\", inplace=True)"
   ]
  },
  {
   "cell_type": "markdown",
   "metadata": {},
   "source": [
    "And I take a look at rows with `subEventName`missing and see which event(s) they belong to."
   ]
  },
  {
   "cell_type": "code",
   "execution_count": 414,
   "metadata": {},
   "outputs": [
    {
     "name": "stdout",
     "output_type": "stream",
     "text": [
      "['Offside']\n",
      "1\n"
     ]
    }
   ],
   "source": [
    "print(events[events['subEventName'].isnull()]['eventName'].unique())\n",
    "print(events[events['subEventName'].isnull()]['eventName'].nunique())"
   ]
  },
  {
   "cell_type": "markdown",
   "metadata": {},
   "source": [
    "Just \"offside\"! Good! Lets check if we can use any existing `subEventName` we can replace NaN with first."
   ]
  },
  {
   "cell_type": "code",
   "execution_count": 415,
   "metadata": {},
   "outputs": [
    {
     "data": {
      "text/plain": [
       "['Simple pass',\n",
       " 'High pass',\n",
       " 'Head pass',\n",
       " 'Air duel',\n",
       " 'Ground loose ball duel',\n",
       " 'Smart pass',\n",
       " 'Launch',\n",
       " 'Ground defending duel',\n",
       " 'Ground attacking duel',\n",
       " 'Foul',\n",
       " 'Cross',\n",
       " 'Shot',\n",
       " 'Reflexes',\n",
       " 'Touch',\n",
       " 'Clearance',\n",
       " 'Throw in',\n",
       " 'Goal kick',\n",
       " 'Free Kick',\n",
       " 'Corner',\n",
       " 'Goalkeeper leaving line',\n",
       " 'Hand pass',\n",
       " 'Acceleration',\n",
       " 'Save attempt',\n",
       " nan,\n",
       " 'Free kick cross',\n",
       " 'Free kick shot',\n",
       " 'Hand foul',\n",
       " 'Violent Foul',\n",
       " 'Protest',\n",
       " 'Late card foul',\n",
       " 'Out of game foul',\n",
       " 'Penalty',\n",
       " 'Time lost foul',\n",
       " 'Simulation',\n",
       " 'Whistle',\n",
       " 'Ball out of the field']"
      ]
     },
     "execution_count": 415,
     "metadata": {},
     "output_type": "execute_result"
    }
   ],
   "source": [
    "list(events.subEventName.unique())"
   ]
  },
  {
   "cell_type": "markdown",
   "metadata": {},
   "source": [
    "None of these ive me the feeling of comfort. I want to set the value for the missing ones just like the parent, \"offside\"."
   ]
  },
  {
   "cell_type": "code",
   "execution_count": 416,
   "metadata": {},
   "outputs": [],
   "source": [
    "events.subEventName.fillna(\"Offside\", inplace=True)"
   ]
  },
  {
   "cell_type": "code",
   "execution_count": 417,
   "metadata": {},
   "outputs": [
    {
     "data": {
      "text/plain": [
       "id              0\n",
       "matchId         0\n",
       "gameweek        0\n",
       "month           0\n",
       "hour            0\n",
       "teamHome        0\n",
       "teamId          0\n",
       "teamName        0\n",
       "league          0\n",
       "playerId        0\n",
       "shortName       0\n",
       "role            0\n",
       "age             0\n",
       "height          0\n",
       "weight          0\n",
       "foot            0\n",
       "eventName       0\n",
       "subEventName    0\n",
       "matchPeriod     0\n",
       "eventSec        0\n",
       "x_start         0\n",
       "y_start         0\n",
       "x_end           0\n",
       "y_end           0\n",
       "dtype: int64"
      ]
     },
     "execution_count": 417,
     "metadata": {},
     "output_type": "execute_result"
    }
   ],
   "source": [
    "#final check for missing values\n",
    "events.isna().sum()"
   ]
  },
  {
   "cell_type": "code",
   "execution_count": 418,
   "metadata": {},
   "outputs": [
    {
     "data": {
      "text/html": [
       "<div>\n",
       "<style scoped>\n",
       "    .dataframe tbody tr th:only-of-type {\n",
       "        vertical-align: middle;\n",
       "    }\n",
       "\n",
       "    .dataframe tbody tr th {\n",
       "        vertical-align: top;\n",
       "    }\n",
       "\n",
       "    .dataframe thead th {\n",
       "        text-align: right;\n",
       "    }\n",
       "</style>\n",
       "<table border=\"1\" class=\"dataframe\">\n",
       "  <thead>\n",
       "    <tr style=\"text-align: right;\">\n",
       "      <th></th>\n",
       "      <th>id</th>\n",
       "      <th>matchId</th>\n",
       "      <th>gameweek</th>\n",
       "      <th>month</th>\n",
       "      <th>hour</th>\n",
       "      <th>teamHome</th>\n",
       "      <th>teamId</th>\n",
       "      <th>teamName</th>\n",
       "      <th>league</th>\n",
       "      <th>playerId</th>\n",
       "      <th>shortName</th>\n",
       "      <th>role</th>\n",
       "      <th>age</th>\n",
       "      <th>height</th>\n",
       "      <th>weight</th>\n",
       "      <th>foot</th>\n",
       "      <th>eventName</th>\n",
       "      <th>subEventName</th>\n",
       "      <th>matchPeriod</th>\n",
       "      <th>eventSec</th>\n",
       "      <th>x_start</th>\n",
       "      <th>y_start</th>\n",
       "      <th>x_end</th>\n",
       "      <th>y_end</th>\n",
       "    </tr>\n",
       "  </thead>\n",
       "  <tbody>\n",
       "    <tr>\n",
       "      <th>0</th>\n",
       "      <td>177959171</td>\n",
       "      <td>2499719</td>\n",
       "      <td>1</td>\n",
       "      <td>8</td>\n",
       "      <td>18</td>\n",
       "      <td>Arsenal</td>\n",
       "      <td>1609</td>\n",
       "      <td>Arsenal</td>\n",
       "      <td>england</td>\n",
       "      <td>25413</td>\n",
       "      <td>A. Lacazette</td>\n",
       "      <td>FWD</td>\n",
       "      <td>26.599</td>\n",
       "      <td>175.0</td>\n",
       "      <td>73.0</td>\n",
       "      <td>right</td>\n",
       "      <td>Pass</td>\n",
       "      <td>Simple pass</td>\n",
       "      <td>1H</td>\n",
       "      <td>2.759</td>\n",
       "      <td>49</td>\n",
       "      <td>49</td>\n",
       "      <td>31</td>\n",
       "      <td>78</td>\n",
       "    </tr>\n",
       "    <tr>\n",
       "      <th>1</th>\n",
       "      <td>177959172</td>\n",
       "      <td>2499719</td>\n",
       "      <td>1</td>\n",
       "      <td>8</td>\n",
       "      <td>18</td>\n",
       "      <td>Arsenal</td>\n",
       "      <td>1609</td>\n",
       "      <td>Arsenal</td>\n",
       "      <td>england</td>\n",
       "      <td>370224</td>\n",
       "      <td>R. Holding</td>\n",
       "      <td>DEF</td>\n",
       "      <td>22.284</td>\n",
       "      <td>189.0</td>\n",
       "      <td>75.0</td>\n",
       "      <td>right</td>\n",
       "      <td>Pass</td>\n",
       "      <td>High pass</td>\n",
       "      <td>1H</td>\n",
       "      <td>4.947</td>\n",
       "      <td>31</td>\n",
       "      <td>78</td>\n",
       "      <td>51</td>\n",
       "      <td>75</td>\n",
       "    </tr>\n",
       "    <tr>\n",
       "      <th>2</th>\n",
       "      <td>177959173</td>\n",
       "      <td>2499719</td>\n",
       "      <td>1</td>\n",
       "      <td>8</td>\n",
       "      <td>18</td>\n",
       "      <td>Arsenal</td>\n",
       "      <td>1609</td>\n",
       "      <td>Arsenal</td>\n",
       "      <td>england</td>\n",
       "      <td>3319</td>\n",
       "      <td>M. \\u00d6zil</td>\n",
       "      <td>MID</td>\n",
       "      <td>29.213</td>\n",
       "      <td>180.0</td>\n",
       "      <td>76.0</td>\n",
       "      <td>left</td>\n",
       "      <td>Pass</td>\n",
       "      <td>Head pass</td>\n",
       "      <td>1H</td>\n",
       "      <td>6.542</td>\n",
       "      <td>51</td>\n",
       "      <td>75</td>\n",
       "      <td>35</td>\n",
       "      <td>71</td>\n",
       "    </tr>\n",
       "    <tr>\n",
       "      <th>3</th>\n",
       "      <td>177959174</td>\n",
       "      <td>2499719</td>\n",
       "      <td>1</td>\n",
       "      <td>8</td>\n",
       "      <td>18</td>\n",
       "      <td>Arsenal</td>\n",
       "      <td>1609</td>\n",
       "      <td>Arsenal</td>\n",
       "      <td>england</td>\n",
       "      <td>120339</td>\n",
       "      <td>Mohamed Elneny</td>\n",
       "      <td>MID</td>\n",
       "      <td>25.476</td>\n",
       "      <td>180.0</td>\n",
       "      <td>70.0</td>\n",
       "      <td>right</td>\n",
       "      <td>Pass</td>\n",
       "      <td>Head pass</td>\n",
       "      <td>1H</td>\n",
       "      <td>8.143</td>\n",
       "      <td>35</td>\n",
       "      <td>71</td>\n",
       "      <td>41</td>\n",
       "      <td>95</td>\n",
       "    </tr>\n",
       "    <tr>\n",
       "      <th>4</th>\n",
       "      <td>177959175</td>\n",
       "      <td>2499719</td>\n",
       "      <td>1</td>\n",
       "      <td>8</td>\n",
       "      <td>18</td>\n",
       "      <td>Arsenal</td>\n",
       "      <td>1609</td>\n",
       "      <td>Arsenal</td>\n",
       "      <td>england</td>\n",
       "      <td>167145</td>\n",
       "      <td>Beller\\u00edn</td>\n",
       "      <td>DEF</td>\n",
       "      <td>22.790</td>\n",
       "      <td>178.0</td>\n",
       "      <td>74.0</td>\n",
       "      <td>right</td>\n",
       "      <td>Pass</td>\n",
       "      <td>Simple pass</td>\n",
       "      <td>1H</td>\n",
       "      <td>10.302</td>\n",
       "      <td>41</td>\n",
       "      <td>95</td>\n",
       "      <td>72</td>\n",
       "      <td>88</td>\n",
       "    </tr>\n",
       "  </tbody>\n",
       "</table>\n",
       "</div>"
      ],
      "text/plain": [
       "          id  matchId  gameweek  month  hour  teamHome  teamId teamName  \\\n",
       "0  177959171  2499719         1      8    18  Arsenal     1609  Arsenal   \n",
       "1  177959172  2499719         1      8    18  Arsenal     1609  Arsenal   \n",
       "2  177959173  2499719         1      8    18  Arsenal     1609  Arsenal   \n",
       "3  177959174  2499719         1      8    18  Arsenal     1609  Arsenal   \n",
       "4  177959175  2499719         1      8    18  Arsenal     1609  Arsenal   \n",
       "\n",
       "    league  playerId       shortName role     age  height  weight   foot  \\\n",
       "0  england     25413    A. Lacazette  FWD  26.599   175.0    73.0  right   \n",
       "1  england    370224      R. Holding  DEF  22.284   189.0    75.0  right   \n",
       "2  england      3319    M. \\u00d6zil  MID  29.213   180.0    76.0   left   \n",
       "3  england    120339  Mohamed Elneny  MID  25.476   180.0    70.0  right   \n",
       "4  england    167145   Beller\\u00edn  DEF  22.790   178.0    74.0  right   \n",
       "\n",
       "  eventName subEventName matchPeriod  eventSec  x_start  y_start  x_end  y_end  \n",
       "0      Pass  Simple pass          1H     2.759       49       49     31     78  \n",
       "1      Pass    High pass          1H     4.947       31       78     51     75  \n",
       "2      Pass    Head pass          1H     6.542       51       75     35     71  \n",
       "3      Pass    Head pass          1H     8.143       35       71     41     95  \n",
       "4      Pass  Simple pass          1H    10.302       41       95     72     88  "
      ]
     },
     "execution_count": 418,
     "metadata": {},
     "output_type": "execute_result"
    }
   ],
   "source": [
    "# quick check\n",
    "events.head()"
   ]
  },
  {
   "cell_type": "markdown",
   "metadata": {},
   "source": [
    "Looks good!  Now, let's check the types and see what we can do about it."
   ]
  },
  {
   "cell_type": "markdown",
   "metadata": {},
   "source": [
    "### Data Types & Logic Checks"
   ]
  },
  {
   "cell_type": "code",
   "execution_count": 419,
   "metadata": {},
   "outputs": [
    {
     "name": "stdout",
     "output_type": "stream",
     "text": [
      "<class 'pandas.core.frame.DataFrame'>\n",
      "Int64Index: 2845357 entries, 0 to 3071394\n",
      "Data columns (total 24 columns):\n",
      "id              int64\n",
      "matchId         int64\n",
      "gameweek        int64\n",
      "month           int64\n",
      "hour            int64\n",
      "teamHome        object\n",
      "teamId          int64\n",
      "teamName        object\n",
      "league          object\n",
      "playerId        int64\n",
      "shortName       object\n",
      "role            object\n",
      "age             float64\n",
      "height          float64\n",
      "weight          float64\n",
      "foot            object\n",
      "eventName       object\n",
      "subEventName    object\n",
      "matchPeriod     object\n",
      "eventSec        float64\n",
      "x_start         int64\n",
      "y_start         int64\n",
      "x_end           int64\n",
      "y_end           int64\n",
      "dtypes: float64(4), int64(11), object(9)\n",
      "memory usage: 542.7+ MB\n",
      "None\n"
     ]
    }
   ],
   "source": [
    "print(events.info())"
   ]
  },
  {
   "cell_type": "markdown",
   "metadata": {},
   "source": [
    "Based on the info, here is what I can do:\n",
    "- Quantify\n",
    "    - `league` as `leagueNum`\n",
    "    - `foot` as `footNum`\n",
    "    - `matchPeriod` as `matchPeriodNum`\n",
    "    - `role` as `roleNum`\n",
    "- Round `age` to be integer\n",
    "- Convert `x_start` and `y_start` to float\n",
    "- Add `eventMin` as minute version of `eventSec` and round it up. I want to add a rounded version becuase the time measurements in football are done in minutes; goal in minute 34 means a goal happened somehwere between minutes 33:00 and 33:59.\n",
    "    "
   ]
  },
  {
   "cell_type": "markdown",
   "metadata": {},
   "source": [
    "I start by checking the unique values of each fields I want to quantify and then create dictionaries."
   ]
  },
  {
   "cell_type": "code",
   "execution_count": 420,
   "metadata": {},
   "outputs": [
    {
     "name": "stdout",
     "output_type": "stream",
     "text": [
      "Unique values of league:  ['england' 'spain' 'italy' 'germany' 'france']\n",
      "Unique values of foot:  ['right' 'left' 'both']\n",
      "Unique values of matchPeriod:  ['1H' '2H']\n",
      "Unique values of role:  ['FWD' 'DEF' 'MID' 'GKP']\n"
     ]
    }
   ],
   "source": [
    "# check the unique values of league, foot and matchPeriod\n",
    "print(\"Unique values of league: \", events.league.unique())\n",
    "print(\"Unique values of foot: \", events.foot.unique())\n",
    "print(\"Unique values of matchPeriod: \", events.matchPeriod.unique())\n",
    "print(\"Unique values of role: \", events.role.unique())"
   ]
  },
  {
   "cell_type": "code",
   "execution_count": 421,
   "metadata": {},
   "outputs": [],
   "source": [
    "# setup a dictionary for league, foot, and matchPeriod\n",
    "league_dict = {\"england\": 1, \"spain\": 2, \"italy\": 3, \"germany\": 4, \"france\": 5}\n",
    "foot_dict = {\"right\": 1, \"left\": 2, \"both\": 3}\n",
    "matchPeriod_dict = {\"1H\": 1, \"2H\": 2}\n",
    "role_dict = {\"DEF\": 1, \"MID\": 2, \"FWD\": 3, \"GKP\": 4}"
   ]
  },
  {
   "cell_type": "code",
   "execution_count": 422,
   "metadata": {},
   "outputs": [],
   "source": [
    "# add quantified fields\n",
    "events['leagueNum'] = events['league'].map(league_dict)\n",
    "events['footNum'] = events['foot'].map(foot_dict)\n",
    "events['matchPeriodNum'] = events['matchPeriod'].map(matchPeriod_dict)\n",
    "events['roleNum'] = events['role'].map(role_dict)\n",
    "\n",
    "# add and round minutes\n",
    "events['eventMin'] = events['eventSec'].map(lambda x: x /60)\n",
    "events['eventMinRounded'] = np.ceil(events.eventMin).astype(int)"
   ]
  },
  {
   "cell_type": "markdown",
   "metadata": {},
   "source": [
    "There are 2 periods of 45 minutes (plus extra time) in a soccer match. Teams will change sides in 2nd period. Given that, I want to check if the coordinates are bi-directional or not. To check, I prefer to pick a goalkeeper in a match put in a scatter chart and observe the locations he met the ball during the match."
   ]
  },
  {
   "cell_type": "code",
   "execution_count": 423,
   "metadata": {},
   "outputs": [
    {
     "name": "stdout",
     "output_type": "stream",
     "text": [
      "['K. Schmeichel']\n"
     ]
    }
   ],
   "source": [
    "# pick a match and identify a goalkeeper\n",
    "match = 2499719\n",
    "print(events[(events.teamName == 'Leicester City') & \\\n",
    "             (events['matchId'] == 2499719) & \\\n",
    "             (events['role'] == 'GKP')]['shortName'].unique())"
   ]
  },
  {
   "cell_type": "code",
   "execution_count": 424,
   "metadata": {},
   "outputs": [
    {
     "data": {
      "image/png": "[encoded data removed]",
      "text/plain": [
       "<Figure size 432x288 with 1 Axes>"
      ]
     },
     "metadata": {
      "needs_background": "light"
     },
     "output_type": "display_data"
    }
   ],
   "source": [
    "# plot Schmeichel\n",
    "name = 'K. Schmeichel'\n",
    "ax = sns.scatterplot(events[(events.shortName == name) & (events['matchId'] == match)]['x_start'],\n",
    "                events[(events.shortName == name) & (events['matchId'] == match)]['y_start'], \n",
    "                hue=events[(events.shortName == name) & (events['matchId'] == match)]['matchPeriod']\n",
    "               )\n",
    "ax.legend(loc='best')\n",
    "plt.title('K.Schmeichel Events');"
   ]
  },
  {
   "cell_type": "markdown",
   "metadata": {},
   "source": [
    "K. Schmeichel is in his half and near his goal majority of the time. The point on the far upper right corner is probably a corner where he touched the ball in the dying minutes in the 2nd half of the match. Let's verify that by listing all the events of K. Schmeichel in the given match and analyze them according to the game minutes. \n",
    "\n",
    "Also, I sort the dataframe to make sure events will display in chornological order per match."
   ]
  },
  {
   "cell_type": "code",
   "execution_count": 425,
   "metadata": {},
   "outputs": [],
   "source": [
    "# sort\n",
    "events.sort_values(by=['league', 'gameweek', 'matchId', 'matchPeriod', 'eventSec'], inplace=True)"
   ]
  },
  {
   "cell_type": "code",
   "execution_count": 426,
   "metadata": {},
   "outputs": [
    {
     "name": "stdout",
     "output_type": "stream",
     "text": [
      "   eventSec matchPeriod\n",
      "0     2.759          1H\n",
      "1     4.947          1H\n",
      "2     6.542          1H\n",
      "3     8.143          1H\n",
      "4    10.302          1H\n",
      "         eventSec matchPeriod\n",
      "1271804  2939.077          2H\n",
      "1271805  2940.516          2H\n",
      "1271806  2942.099          2H\n",
      "1271807  2943.089          2H\n",
      "1271808  2943.669          2H\n"
     ]
    }
   ],
   "source": [
    "# sanity check\n",
    "print(events[['eventSec', 'matchPeriod']].head())\n",
    "print(events[['eventSec', 'matchPeriod']].tail())"
   ]
  },
  {
   "cell_type": "code",
   "execution_count": 427,
   "metadata": {},
   "outputs": [
    {
     "data": {
      "text/html": [
       "<div>\n",
       "<style scoped>\n",
       "    .dataframe tbody tr th:only-of-type {\n",
       "        vertical-align: middle;\n",
       "    }\n",
       "\n",
       "    .dataframe tbody tr th {\n",
       "        vertical-align: top;\n",
       "    }\n",
       "\n",
       "    .dataframe thead th {\n",
       "        text-align: right;\n",
       "    }\n",
       "</style>\n",
       "<table border=\"1\" class=\"dataframe\">\n",
       "  <thead>\n",
       "    <tr style=\"text-align: right;\">\n",
       "      <th></th>\n",
       "      <th>eventName</th>\n",
       "      <th>matchPeriod</th>\n",
       "      <th>eventMin</th>\n",
       "      <th>x_start</th>\n",
       "      <th>y_start</th>\n",
       "    </tr>\n",
       "  </thead>\n",
       "  <tbody>\n",
       "    <tr>\n",
       "      <th>1723</th>\n",
       "      <td>Pass</td>\n",
       "      <td>2H</td>\n",
       "      <td>47.122</td>\n",
       "      <td>39</td>\n",
       "      <td>78</td>\n",
       "    </tr>\n",
       "    <tr>\n",
       "      <th>1738</th>\n",
       "      <td>Pass</td>\n",
       "      <td>2H</td>\n",
       "      <td>47.706</td>\n",
       "      <td>23</td>\n",
       "      <td>65</td>\n",
       "    </tr>\n",
       "    <tr>\n",
       "      <th>1747</th>\n",
       "      <td>Free Kick</td>\n",
       "      <td>2H</td>\n",
       "      <td>48.255</td>\n",
       "      <td>29</td>\n",
       "      <td>69</td>\n",
       "    </tr>\n",
       "    <tr>\n",
       "      <th>1763</th>\n",
       "      <td>Pass</td>\n",
       "      <td>2H</td>\n",
       "      <td>49.875</td>\n",
       "      <td>7</td>\n",
       "      <td>53</td>\n",
       "    </tr>\n",
       "    <tr>\n",
       "      <th>1767</th>\n",
       "      <td>Free Kick</td>\n",
       "      <td>2H</td>\n",
       "      <td>50.111</td>\n",
       "      <td>100</td>\n",
       "      <td>100</td>\n",
       "    </tr>\n",
       "  </tbody>\n",
       "</table>\n",
       "</div>"
      ],
      "text/plain": [
       "      eventName matchPeriod  eventMin  x_start  y_start\n",
       "1723       Pass          2H    47.122       39       78\n",
       "1738       Pass          2H    47.706       23       65\n",
       "1747  Free Kick          2H    48.255       29       69\n",
       "1763       Pass          2H    49.875        7       53\n",
       "1767  Free Kick          2H    50.111      100      100"
      ]
     },
     "execution_count": 427,
     "metadata": {},
     "output_type": "execute_result"
    }
   ],
   "source": [
    "# filter and observe\n",
    "events[(events.shortName == name) & \\\n",
    "       (events['matchId'] == match) &\\\n",
    "       (events['matchPeriod'] == '2H')]\\\n",
    "[['eventName', 'matchPeriod', 'eventMin', 'x_start', 'y_start']].tail()"
   ]
  },
  {
   "cell_type": "markdown",
   "metadata": {},
   "source": [
    "As I suspected! He went up the field in 2nd half very end of the game and took the corner shot. \n",
    "\n",
    "To be exact, this particular match was between Arsenal and Leicester City in August of 2017. On the minute of this event, Arsenal was leading the match 4-3. It was expected from the goalkeeper to run up the field and support the attack for a goal to tie the game in the dying minutes. There was nothing to loose :).\n",
    "\n",
    "As a result, I verified that the attacks in this dataset are from left to right at all times. We do not need to adjust the coordinates."
   ]
  },
  {
   "cell_type": "code",
   "execution_count": 428,
   "metadata": {},
   "outputs": [
    {
     "data": {
      "text/html": [
       "<div>\n",
       "<style scoped>\n",
       "    .dataframe tbody tr th:only-of-type {\n",
       "        vertical-align: middle;\n",
       "    }\n",
       "\n",
       "    .dataframe tbody tr th {\n",
       "        vertical-align: top;\n",
       "    }\n",
       "\n",
       "    .dataframe thead th {\n",
       "        text-align: right;\n",
       "    }\n",
       "</style>\n",
       "<table border=\"1\" class=\"dataframe\">\n",
       "  <thead>\n",
       "    <tr style=\"text-align: right;\">\n",
       "      <th></th>\n",
       "      <th>id</th>\n",
       "      <th>matchId</th>\n",
       "      <th>gameweek</th>\n",
       "      <th>month</th>\n",
       "      <th>hour</th>\n",
       "      <th>teamHome</th>\n",
       "      <th>teamId</th>\n",
       "      <th>teamName</th>\n",
       "      <th>league</th>\n",
       "      <th>playerId</th>\n",
       "      <th>shortName</th>\n",
       "      <th>role</th>\n",
       "      <th>age</th>\n",
       "      <th>height</th>\n",
       "      <th>weight</th>\n",
       "      <th>foot</th>\n",
       "      <th>eventName</th>\n",
       "      <th>subEventName</th>\n",
       "      <th>matchPeriod</th>\n",
       "      <th>eventSec</th>\n",
       "      <th>x_start</th>\n",
       "      <th>y_start</th>\n",
       "      <th>x_end</th>\n",
       "      <th>y_end</th>\n",
       "      <th>leagueNum</th>\n",
       "      <th>footNum</th>\n",
       "      <th>matchPeriodNum</th>\n",
       "      <th>roleNum</th>\n",
       "      <th>eventMin</th>\n",
       "      <th>eventMinRounded</th>\n",
       "    </tr>\n",
       "  </thead>\n",
       "  <tbody>\n",
       "    <tr>\n",
       "      <th>0</th>\n",
       "      <td>177959171</td>\n",
       "      <td>2499719</td>\n",
       "      <td>1</td>\n",
       "      <td>8</td>\n",
       "      <td>18</td>\n",
       "      <td>Arsenal</td>\n",
       "      <td>1609</td>\n",
       "      <td>Arsenal</td>\n",
       "      <td>england</td>\n",
       "      <td>25413</td>\n",
       "      <td>A. Lacazette</td>\n",
       "      <td>FWD</td>\n",
       "      <td>26.599</td>\n",
       "      <td>175.0</td>\n",
       "      <td>73.0</td>\n",
       "      <td>right</td>\n",
       "      <td>Pass</td>\n",
       "      <td>Simple pass</td>\n",
       "      <td>1H</td>\n",
       "      <td>2.759</td>\n",
       "      <td>49</td>\n",
       "      <td>49</td>\n",
       "      <td>31</td>\n",
       "      <td>78</td>\n",
       "      <td>1</td>\n",
       "      <td>1</td>\n",
       "      <td>1</td>\n",
       "      <td>3</td>\n",
       "      <td>0.046</td>\n",
       "      <td>1</td>\n",
       "    </tr>\n",
       "    <tr>\n",
       "      <th>1</th>\n",
       "      <td>177959172</td>\n",
       "      <td>2499719</td>\n",
       "      <td>1</td>\n",
       "      <td>8</td>\n",
       "      <td>18</td>\n",
       "      <td>Arsenal</td>\n",
       "      <td>1609</td>\n",
       "      <td>Arsenal</td>\n",
       "      <td>england</td>\n",
       "      <td>370224</td>\n",
       "      <td>R. Holding</td>\n",
       "      <td>DEF</td>\n",
       "      <td>22.284</td>\n",
       "      <td>189.0</td>\n",
       "      <td>75.0</td>\n",
       "      <td>right</td>\n",
       "      <td>Pass</td>\n",
       "      <td>High pass</td>\n",
       "      <td>1H</td>\n",
       "      <td>4.947</td>\n",
       "      <td>31</td>\n",
       "      <td>78</td>\n",
       "      <td>51</td>\n",
       "      <td>75</td>\n",
       "      <td>1</td>\n",
       "      <td>1</td>\n",
       "      <td>1</td>\n",
       "      <td>1</td>\n",
       "      <td>0.082</td>\n",
       "      <td>1</td>\n",
       "    </tr>\n",
       "    <tr>\n",
       "      <th>2</th>\n",
       "      <td>177959173</td>\n",
       "      <td>2499719</td>\n",
       "      <td>1</td>\n",
       "      <td>8</td>\n",
       "      <td>18</td>\n",
       "      <td>Arsenal</td>\n",
       "      <td>1609</td>\n",
       "      <td>Arsenal</td>\n",
       "      <td>england</td>\n",
       "      <td>3319</td>\n",
       "      <td>M. \\u00d6zil</td>\n",
       "      <td>MID</td>\n",
       "      <td>29.213</td>\n",
       "      <td>180.0</td>\n",
       "      <td>76.0</td>\n",
       "      <td>left</td>\n",
       "      <td>Pass</td>\n",
       "      <td>Head pass</td>\n",
       "      <td>1H</td>\n",
       "      <td>6.542</td>\n",
       "      <td>51</td>\n",
       "      <td>75</td>\n",
       "      <td>35</td>\n",
       "      <td>71</td>\n",
       "      <td>1</td>\n",
       "      <td>2</td>\n",
       "      <td>1</td>\n",
       "      <td>2</td>\n",
       "      <td>0.109</td>\n",
       "      <td>1</td>\n",
       "    </tr>\n",
       "    <tr>\n",
       "      <th>3</th>\n",
       "      <td>177959174</td>\n",
       "      <td>2499719</td>\n",
       "      <td>1</td>\n",
       "      <td>8</td>\n",
       "      <td>18</td>\n",
       "      <td>Arsenal</td>\n",
       "      <td>1609</td>\n",
       "      <td>Arsenal</td>\n",
       "      <td>england</td>\n",
       "      <td>120339</td>\n",
       "      <td>Mohamed Elneny</td>\n",
       "      <td>MID</td>\n",
       "      <td>25.476</td>\n",
       "      <td>180.0</td>\n",
       "      <td>70.0</td>\n",
       "      <td>right</td>\n",
       "      <td>Pass</td>\n",
       "      <td>Head pass</td>\n",
       "      <td>1H</td>\n",
       "      <td>8.143</td>\n",
       "      <td>35</td>\n",
       "      <td>71</td>\n",
       "      <td>41</td>\n",
       "      <td>95</td>\n",
       "      <td>1</td>\n",
       "      <td>1</td>\n",
       "      <td>1</td>\n",
       "      <td>2</td>\n",
       "      <td>0.136</td>\n",
       "      <td>1</td>\n",
       "    </tr>\n",
       "    <tr>\n",
       "      <th>4</th>\n",
       "      <td>177959175</td>\n",
       "      <td>2499719</td>\n",
       "      <td>1</td>\n",
       "      <td>8</td>\n",
       "      <td>18</td>\n",
       "      <td>Arsenal</td>\n",
       "      <td>1609</td>\n",
       "      <td>Arsenal</td>\n",
       "      <td>england</td>\n",
       "      <td>167145</td>\n",
       "      <td>Beller\\u00edn</td>\n",
       "      <td>DEF</td>\n",
       "      <td>22.790</td>\n",
       "      <td>178.0</td>\n",
       "      <td>74.0</td>\n",
       "      <td>right</td>\n",
       "      <td>Pass</td>\n",
       "      <td>Simple pass</td>\n",
       "      <td>1H</td>\n",
       "      <td>10.302</td>\n",
       "      <td>41</td>\n",
       "      <td>95</td>\n",
       "      <td>72</td>\n",
       "      <td>88</td>\n",
       "      <td>1</td>\n",
       "      <td>1</td>\n",
       "      <td>1</td>\n",
       "      <td>1</td>\n",
       "      <td>0.172</td>\n",
       "      <td>1</td>\n",
       "    </tr>\n",
       "  </tbody>\n",
       "</table>\n",
       "</div>"
      ],
      "text/plain": [
       "          id  matchId  gameweek  month  hour  teamHome  teamId teamName  \\\n",
       "0  177959171  2499719         1      8    18  Arsenal     1609  Arsenal   \n",
       "1  177959172  2499719         1      8    18  Arsenal     1609  Arsenal   \n",
       "2  177959173  2499719         1      8    18  Arsenal     1609  Arsenal   \n",
       "3  177959174  2499719         1      8    18  Arsenal     1609  Arsenal   \n",
       "4  177959175  2499719         1      8    18  Arsenal     1609  Arsenal   \n",
       "\n",
       "    league  playerId       shortName role     age  height  weight   foot  \\\n",
       "0  england     25413    A. Lacazette  FWD  26.599   175.0    73.0  right   \n",
       "1  england    370224      R. Holding  DEF  22.284   189.0    75.0  right   \n",
       "2  england      3319    M. \\u00d6zil  MID  29.213   180.0    76.0   left   \n",
       "3  england    120339  Mohamed Elneny  MID  25.476   180.0    70.0  right   \n",
       "4  england    167145   Beller\\u00edn  DEF  22.790   178.0    74.0  right   \n",
       "\n",
       "  eventName subEventName matchPeriod  eventSec  x_start  y_start  x_end  \\\n",
       "0      Pass  Simple pass          1H     2.759       49       49     31   \n",
       "1      Pass    High pass          1H     4.947       31       78     51   \n",
       "2      Pass    Head pass          1H     6.542       51       75     35   \n",
       "3      Pass    Head pass          1H     8.143       35       71     41   \n",
       "4      Pass  Simple pass          1H    10.302       41       95     72   \n",
       "\n",
       "   y_end  leagueNum  footNum  matchPeriodNum  roleNum  eventMin  \\\n",
       "0     78          1        1               1        3     0.046   \n",
       "1     75          1        1               1        1     0.082   \n",
       "2     71          1        2               1        2     0.109   \n",
       "3     95          1        1               1        2     0.136   \n",
       "4     88          1        1               1        1     0.172   \n",
       "\n",
       "   eventMinRounded  \n",
       "0                1  \n",
       "1                1  \n",
       "2                1  \n",
       "3                1  \n",
       "4                1  "
      ]
     },
     "execution_count": 428,
     "metadata": {},
     "output_type": "execute_result"
    }
   ],
   "source": [
    "# final check before visualizations\n",
    "events.head()"
   ]
  },
  {
   "cell_type": "markdown",
   "metadata": {},
   "source": [
    "### Sanity Checks"
   ]
  },
  {
   "cell_type": "code",
   "execution_count": 429,
   "metadata": {
    "scrolled": false
   },
   "outputs": [
    {
     "data": {
      "text/html": [
       "<div>\n",
       "<style scoped>\n",
       "    .dataframe tbody tr th:only-of-type {\n",
       "        vertical-align: middle;\n",
       "    }\n",
       "\n",
       "    .dataframe tbody tr th {\n",
       "        vertical-align: top;\n",
       "    }\n",
       "\n",
       "    .dataframe thead th {\n",
       "        text-align: right;\n",
       "    }\n",
       "</style>\n",
       "<table border=\"1\" class=\"dataframe\">\n",
       "  <thead>\n",
       "    <tr style=\"text-align: right;\">\n",
       "      <th></th>\n",
       "      <th>id</th>\n",
       "      <th>matchId</th>\n",
       "      <th>gameweek</th>\n",
       "      <th>month</th>\n",
       "      <th>hour</th>\n",
       "      <th>teamId</th>\n",
       "      <th>playerId</th>\n",
       "      <th>age</th>\n",
       "      <th>height</th>\n",
       "      <th>weight</th>\n",
       "      <th>eventSec</th>\n",
       "      <th>x_start</th>\n",
       "      <th>y_start</th>\n",
       "      <th>x_end</th>\n",
       "      <th>y_end</th>\n",
       "      <th>leagueNum</th>\n",
       "      <th>footNum</th>\n",
       "      <th>matchPeriodNum</th>\n",
       "      <th>roleNum</th>\n",
       "      <th>eventMin</th>\n",
       "      <th>eventMinRounded</th>\n",
       "    </tr>\n",
       "  </thead>\n",
       "  <tbody>\n",
       "    <tr>\n",
       "      <th>count</th>\n",
       "      <td>2.845e+06</td>\n",
       "      <td>2.845e+06</td>\n",
       "      <td>2.845e+06</td>\n",
       "      <td>2.845e+06</td>\n",
       "      <td>2.845e+06</td>\n",
       "      <td>2.845e+06</td>\n",
       "      <td>2.845e+06</td>\n",
       "      <td>2.845e+06</td>\n",
       "      <td>2.845e+06</td>\n",
       "      <td>2.845e+06</td>\n",
       "      <td>2.845e+06</td>\n",
       "      <td>2.845e+06</td>\n",
       "      <td>2.845e+06</td>\n",
       "      <td>2.845e+06</td>\n",
       "      <td>2.845e+06</td>\n",
       "      <td>2.845e+06</td>\n",
       "      <td>2.845e+06</td>\n",
       "      <td>2.845e+06</td>\n",
       "      <td>2.845e+06</td>\n",
       "      <td>2.845e+06</td>\n",
       "      <td>2.845e+06</td>\n",
       "    </tr>\n",
       "    <tr>\n",
       "      <th>mean</th>\n",
       "      <td>2.177e+08</td>\n",
       "      <td>2.533e+06</td>\n",
       "      <td>1.921e+01</td>\n",
       "      <td>6.553e+00</td>\n",
       "      <td>1.595e+01</td>\n",
       "      <td>2.603e+03</td>\n",
       "      <td>9.087e+04</td>\n",
       "      <td>2.681e+01</td>\n",
       "      <td>1.820e+02</td>\n",
       "      <td>7.620e+01</td>\n",
       "      <td>1.392e+03</td>\n",
       "      <td>4.887e+01</td>\n",
       "      <td>4.998e+01</td>\n",
       "      <td>5.200e+01</td>\n",
       "      <td>4.969e+01</td>\n",
       "      <td>2.958e+00</td>\n",
       "      <td>1.260e+00</td>\n",
       "      <td>1.497e+00</td>\n",
       "      <td>1.877e+00</td>\n",
       "      <td>2.320e+01</td>\n",
       "      <td>2.370e+01</td>\n",
       "    </tr>\n",
       "    <tr>\n",
       "      <th>std</th>\n",
       "      <td>2.126e+07</td>\n",
       "      <td>3.313e+04</td>\n",
       "      <td>1.077e+01</td>\n",
       "      <td>3.882e+00</td>\n",
       "      <td>2.572e+00</td>\n",
       "      <td>2.219e+03</td>\n",
       "      <td>1.185e+05</td>\n",
       "      <td>3.920e+00</td>\n",
       "      <td>6.974e+00</td>\n",
       "      <td>7.145e+00</td>\n",
       "      <td>8.343e+02</td>\n",
       "      <td>2.464e+01</td>\n",
       "      <td>3.032e+01</td>\n",
       "      <td>2.509e+01</td>\n",
       "      <td>3.071e+01</td>\n",
       "      <td>1.425e+00</td>\n",
       "      <td>4.416e-01</td>\n",
       "      <td>5.000e-01</td>\n",
       "      <td>8.659e-01</td>\n",
       "      <td>1.391e+01</td>\n",
       "      <td>1.390e+01</td>\n",
       "    </tr>\n",
       "    <tr>\n",
       "      <th>min</th>\n",
       "      <td>1.761e+08</td>\n",
       "      <td>2.500e+06</td>\n",
       "      <td>1.000e+00</td>\n",
       "      <td>1.000e+00</td>\n",
       "      <td>1.000e+01</td>\n",
       "      <td>6.740e+02</td>\n",
       "      <td>3.300e+01</td>\n",
       "      <td>1.603e+01</td>\n",
       "      <td>0.000e+00</td>\n",
       "      <td>0.000e+00</td>\n",
       "      <td>0.000e+00</td>\n",
       "      <td>-1.000e+00</td>\n",
       "      <td>0.000e+00</td>\n",
       "      <td>0.000e+00</td>\n",
       "      <td>0.000e+00</td>\n",
       "      <td>1.000e+00</td>\n",
       "      <td>1.000e+00</td>\n",
       "      <td>1.000e+00</td>\n",
       "      <td>1.000e+00</td>\n",
       "      <td>0.000e+00</td>\n",
       "      <td>0.000e+00</td>\n",
       "    </tr>\n",
       "    <tr>\n",
       "      <th>25%</th>\n",
       "      <td>2.006e+08</td>\n",
       "      <td>2.501e+06</td>\n",
       "      <td>1.000e+01</td>\n",
       "      <td>3.000e+00</td>\n",
       "      <td>1.400e+01</td>\n",
       "      <td>1.612e+03</td>\n",
       "      <td>9.414e+03</td>\n",
       "      <td>2.383e+01</td>\n",
       "      <td>1.780e+02</td>\n",
       "      <td>7.200e+01</td>\n",
       "      <td>6.627e+02</td>\n",
       "      <td>3.000e+01</td>\n",
       "      <td>2.300e+01</td>\n",
       "      <td>3.300e+01</td>\n",
       "      <td>2.300e+01</td>\n",
       "      <td>2.000e+00</td>\n",
       "      <td>1.000e+00</td>\n",
       "      <td>1.000e+00</td>\n",
       "      <td>1.000e+00</td>\n",
       "      <td>1.104e+01</td>\n",
       "      <td>1.200e+01</td>\n",
       "    </tr>\n",
       "    <tr>\n",
       "      <th>50%</th>\n",
       "      <td>2.187e+08</td>\n",
       "      <td>2.517e+06</td>\n",
       "      <td>1.900e+01</td>\n",
       "      <td>5.000e+00</td>\n",
       "      <td>1.600e+01</td>\n",
       "      <td>2.454e+03</td>\n",
       "      <td>2.560e+04</td>\n",
       "      <td>2.658e+01</td>\n",
       "      <td>1.820e+02</td>\n",
       "      <td>7.600e+01</td>\n",
       "      <td>1.377e+03</td>\n",
       "      <td>4.700e+01</td>\n",
       "      <td>5.000e+01</td>\n",
       "      <td>5.400e+01</td>\n",
       "      <td>5.000e+01</td>\n",
       "      <td>3.000e+00</td>\n",
       "      <td>1.000e+00</td>\n",
       "      <td>1.000e+00</td>\n",
       "      <td>2.000e+00</td>\n",
       "      <td>2.295e+01</td>\n",
       "      <td>2.300e+01</td>\n",
       "    </tr>\n",
       "    <tr>\n",
       "      <th>75%</th>\n",
       "      <td>2.338e+08</td>\n",
       "      <td>2.566e+06</td>\n",
       "      <td>2.800e+01</td>\n",
       "      <td>1.000e+01</td>\n",
       "      <td>1.800e+01</td>\n",
       "      <td>3.197e+03</td>\n",
       "      <td>1.372e+05</td>\n",
       "      <td>2.951e+01</td>\n",
       "      <td>1.860e+02</td>\n",
       "      <td>8.100e+01</td>\n",
       "      <td>2.111e+03</td>\n",
       "      <td>6.800e+01</td>\n",
       "      <td>7.700e+01</td>\n",
       "      <td>7.100e+01</td>\n",
       "      <td>7.700e+01</td>\n",
       "      <td>4.000e+00</td>\n",
       "      <td>2.000e+00</td>\n",
       "      <td>2.000e+00</td>\n",
       "      <td>2.000e+00</td>\n",
       "      <td>3.518e+01</td>\n",
       "      <td>3.600e+01</td>\n",
       "    </tr>\n",
       "    <tr>\n",
       "      <th>max</th>\n",
       "      <td>2.562e+08</td>\n",
       "      <td>2.576e+06</td>\n",
       "      <td>3.800e+01</td>\n",
       "      <td>1.200e+01</td>\n",
       "      <td>2.000e+01</td>\n",
       "      <td>1.983e+04</td>\n",
       "      <td>5.686e+05</td>\n",
       "      <td>4.100e+01</td>\n",
       "      <td>2.030e+02</td>\n",
       "      <td>1.010e+02</td>\n",
       "      <td>3.537e+03</td>\n",
       "      <td>1.000e+02</td>\n",
       "      <td>1.010e+02</td>\n",
       "      <td>1.000e+02</td>\n",
       "      <td>1.010e+02</td>\n",
       "      <td>5.000e+00</td>\n",
       "      <td>3.000e+00</td>\n",
       "      <td>2.000e+00</td>\n",
       "      <td>4.000e+00</td>\n",
       "      <td>5.896e+01</td>\n",
       "      <td>5.900e+01</td>\n",
       "    </tr>\n",
       "  </tbody>\n",
       "</table>\n",
       "</div>"
      ],
      "text/plain": [
       "              id    matchId   gameweek      month       hour     teamId  \\\n",
       "count  2.845e+06  2.845e+06  2.845e+06  2.845e+06  2.845e+06  2.845e+06   \n",
       "mean   2.177e+08  2.533e+06  1.921e+01  6.553e+00  1.595e+01  2.603e+03   \n",
       "std    2.126e+07  3.313e+04  1.077e+01  3.882e+00  2.572e+00  2.219e+03   \n",
       "min    1.761e+08  2.500e+06  1.000e+00  1.000e+00  1.000e+01  6.740e+02   \n",
       "25%    2.006e+08  2.501e+06  1.000e+01  3.000e+00  1.400e+01  1.612e+03   \n",
       "50%    2.187e+08  2.517e+06  1.900e+01  5.000e+00  1.600e+01  2.454e+03   \n",
       "75%    2.338e+08  2.566e+06  2.800e+01  1.000e+01  1.800e+01  3.197e+03   \n",
       "max    2.562e+08  2.576e+06  3.800e+01  1.200e+01  2.000e+01  1.983e+04   \n",
       "\n",
       "        playerId        age     height     weight   eventSec    x_start  \\\n",
       "count  2.845e+06  2.845e+06  2.845e+06  2.845e+06  2.845e+06  2.845e+06   \n",
       "mean   9.087e+04  2.681e+01  1.820e+02  7.620e+01  1.392e+03  4.887e+01   \n",
       "std    1.185e+05  3.920e+00  6.974e+00  7.145e+00  8.343e+02  2.464e+01   \n",
       "min    3.300e+01  1.603e+01  0.000e+00  0.000e+00  0.000e+00 -1.000e+00   \n",
       "25%    9.414e+03  2.383e+01  1.780e+02  7.200e+01  6.627e+02  3.000e+01   \n",
       "50%    2.560e+04  2.658e+01  1.820e+02  7.600e+01  1.377e+03  4.700e+01   \n",
       "75%    1.372e+05  2.951e+01  1.860e+02  8.100e+01  2.111e+03  6.800e+01   \n",
       "max    5.686e+05  4.100e+01  2.030e+02  1.010e+02  3.537e+03  1.000e+02   \n",
       "\n",
       "         y_start      x_end      y_end  leagueNum    footNum  matchPeriodNum  \\\n",
       "count  2.845e+06  2.845e+06  2.845e+06  2.845e+06  2.845e+06       2.845e+06   \n",
       "mean   4.998e+01  5.200e+01  4.969e+01  2.958e+00  1.260e+00       1.497e+00   \n",
       "std    3.032e+01  2.509e+01  3.071e+01  1.425e+00  4.416e-01       5.000e-01   \n",
       "min    0.000e+00  0.000e+00  0.000e+00  1.000e+00  1.000e+00       1.000e+00   \n",
       "25%    2.300e+01  3.300e+01  2.300e+01  2.000e+00  1.000e+00       1.000e+00   \n",
       "50%    5.000e+01  5.400e+01  5.000e+01  3.000e+00  1.000e+00       1.000e+00   \n",
       "75%    7.700e+01  7.100e+01  7.700e+01  4.000e+00  2.000e+00       2.000e+00   \n",
       "max    1.010e+02  1.000e+02  1.010e+02  5.000e+00  3.000e+00       2.000e+00   \n",
       "\n",
       "         roleNum   eventMin  eventMinRounded  \n",
       "count  2.845e+06  2.845e+06        2.845e+06  \n",
       "mean   1.877e+00  2.320e+01        2.370e+01  \n",
       "std    8.659e-01  1.391e+01        1.390e+01  \n",
       "min    1.000e+00  0.000e+00        0.000e+00  \n",
       "25%    1.000e+00  1.104e+01        1.200e+01  \n",
       "50%    2.000e+00  2.295e+01        2.300e+01  \n",
       "75%    2.000e+00  3.518e+01        3.600e+01  \n",
       "max    4.000e+00  5.896e+01        5.900e+01  "
      ]
     },
     "execution_count": 429,
     "metadata": {},
     "output_type": "execute_result"
    }
   ],
   "source": [
    "events.describe()"
   ]
  },
  {
   "cell_type": "code",
   "execution_count": 430,
   "metadata": {},
   "outputs": [
    {
     "data": {
      "text/plain": [
       "(2845357, 30)"
      ]
     },
     "execution_count": 430,
     "metadata": {},
     "output_type": "execute_result"
    }
   ],
   "source": [
    "events.shape"
   ]
  },
  {
   "cell_type": "markdown",
   "metadata": {},
   "source": [
    "- All the minimums and maximums look fine, except `height` and `weight`. They have minimum values of 0. I can interact them and get a physical score value for each player.\n",
    "- The (x,y) coordinate values are in the defined plane with limits of 0 and 100.\n",
    "- All the means and standard deviation values look normal.\n",
    "- All the counts match\n",
    "- All good!"
   ]
  },
  {
   "cell_type": "markdown",
   "metadata": {},
   "source": [
    "An average soccer player in European leageus is around 175 cm's and 65 kg's"
   ]
  },
  {
   "cell_type": "code",
   "execution_count": 431,
   "metadata": {},
   "outputs": [],
   "source": [
    "events.loc[(events.height < 175) & (events.weight < 65), \"phyScore\"] = 1\n",
    "events.loc[(events.height < 175) & (events.weight >= 65) & (events.weight <= 75), \"phyScore\"] = 2\n",
    "events.loc[(events.height < 175) & (events.weight > 75), \"phyScore\"] = 3\n",
    "events.loc[(events.height >= 175) & (events.height <= 185) & (events.weight < 65), \"phyScore\"] = 4\n",
    "events.loc[(events.height >= 175) & (events.height <= 185) & (events.weight >= 65) & (events.weight <= 75), \"phyScore\"] = 5\n",
    "events.loc[(events.height >= 175) & (events.height <= 185) & (events.weight > 75), \"phyScore\"] = 6\n",
    "events.loc[(events.height > 185) & (events.weight < 65), \"phyScore\"] = 7\n",
    "events.loc[(events.height > 185) & (events.weight >= 65) & (events.weight <= 75), \"phyScore\"] = 8\n",
    "events.loc[(events.height > 185) & (events.weight > 75), \"phyScore\"] = 9"
   ]
  },
  {
   "cell_type": "code",
   "execution_count": 432,
   "metadata": {
    "scrolled": true
   },
   "outputs": [
    {
     "data": {
      "text/plain": [
       "5.0    880539\n",
       "9.0    791311\n",
       "6.0    716060\n",
       "2.0    254797\n",
       "1.0     92858\n",
       "8.0     85083\n",
       "4.0     16494\n",
       "3.0      7419\n",
       "7.0       796\n",
       "Name: phyScore, dtype: int64"
      ]
     },
     "execution_count": 432,
     "metadata": {},
     "output_type": "execute_result"
    }
   ],
   "source": [
    "events.phyScore.value_counts()"
   ]
  },
  {
   "cell_type": "markdown",
   "metadata": {},
   "source": [
    "This is not clear to uninitiated eyes:). Let me explain:  **hight class-weight class**"
   ]
  },
  {
   "cell_type": "code",
   "execution_count": 433,
   "metadata": {},
   "outputs": [],
   "source": [
    "phyScore_dict = {1: \"short-thin\", 2: \"short-normal\", 3: \"short-stocky\",\n",
    "                4: \"normal-thin\", 5: \"normal-normal\", 6: \"normal-stocky\",\n",
    "                7: \"tall-thin\", 8: \"tall-normal\", 9: \"tall-stocky\"}\n",
    "events['phyClass'] = events['phyScore'].map(phyScore_dict)"
   ]
  },
  {
   "cell_type": "code",
   "execution_count": 434,
   "metadata": {},
   "outputs": [
    {
     "data": {
      "text/html": [
       "<div>\n",
       "<style scoped>\n",
       "    .dataframe tbody tr th:only-of-type {\n",
       "        vertical-align: middle;\n",
       "    }\n",
       "\n",
       "    .dataframe tbody tr th {\n",
       "        vertical-align: top;\n",
       "    }\n",
       "\n",
       "    .dataframe thead th {\n",
       "        text-align: right;\n",
       "    }\n",
       "</style>\n",
       "<table border=\"1\" class=\"dataframe\">\n",
       "  <thead>\n",
       "    <tr style=\"text-align: right;\">\n",
       "      <th></th>\n",
       "      <th>id</th>\n",
       "      <th>matchId</th>\n",
       "      <th>gameweek</th>\n",
       "      <th>month</th>\n",
       "      <th>hour</th>\n",
       "      <th>teamHome</th>\n",
       "      <th>teamId</th>\n",
       "      <th>teamName</th>\n",
       "      <th>league</th>\n",
       "      <th>playerId</th>\n",
       "      <th>shortName</th>\n",
       "      <th>role</th>\n",
       "      <th>age</th>\n",
       "      <th>height</th>\n",
       "      <th>weight</th>\n",
       "      <th>foot</th>\n",
       "      <th>eventName</th>\n",
       "      <th>subEventName</th>\n",
       "      <th>matchPeriod</th>\n",
       "      <th>eventSec</th>\n",
       "      <th>x_start</th>\n",
       "      <th>y_start</th>\n",
       "      <th>x_end</th>\n",
       "      <th>y_end</th>\n",
       "      <th>leagueNum</th>\n",
       "      <th>footNum</th>\n",
       "      <th>matchPeriodNum</th>\n",
       "      <th>roleNum</th>\n",
       "      <th>eventMin</th>\n",
       "      <th>eventMinRounded</th>\n",
       "      <th>phyScore</th>\n",
       "      <th>phyClass</th>\n",
       "    </tr>\n",
       "  </thead>\n",
       "  <tbody>\n",
       "    <tr>\n",
       "      <th>0</th>\n",
       "      <td>177959171</td>\n",
       "      <td>2499719</td>\n",
       "      <td>1</td>\n",
       "      <td>8</td>\n",
       "      <td>18</td>\n",
       "      <td>Arsenal</td>\n",
       "      <td>1609</td>\n",
       "      <td>Arsenal</td>\n",
       "      <td>england</td>\n",
       "      <td>25413</td>\n",
       "      <td>A. Lacazette</td>\n",
       "      <td>FWD</td>\n",
       "      <td>26.599</td>\n",
       "      <td>175.0</td>\n",
       "      <td>73.0</td>\n",
       "      <td>right</td>\n",
       "      <td>Pass</td>\n",
       "      <td>Simple pass</td>\n",
       "      <td>1H</td>\n",
       "      <td>2.759</td>\n",
       "      <td>49</td>\n",
       "      <td>49</td>\n",
       "      <td>31</td>\n",
       "      <td>78</td>\n",
       "      <td>1</td>\n",
       "      <td>1</td>\n",
       "      <td>1</td>\n",
       "      <td>3</td>\n",
       "      <td>0.046</td>\n",
       "      <td>1</td>\n",
       "      <td>5.0</td>\n",
       "      <td>normal-normal</td>\n",
       "    </tr>\n",
       "    <tr>\n",
       "      <th>1</th>\n",
       "      <td>177959172</td>\n",
       "      <td>2499719</td>\n",
       "      <td>1</td>\n",
       "      <td>8</td>\n",
       "      <td>18</td>\n",
       "      <td>Arsenal</td>\n",
       "      <td>1609</td>\n",
       "      <td>Arsenal</td>\n",
       "      <td>england</td>\n",
       "      <td>370224</td>\n",
       "      <td>R. Holding</td>\n",
       "      <td>DEF</td>\n",
       "      <td>22.284</td>\n",
       "      <td>189.0</td>\n",
       "      <td>75.0</td>\n",
       "      <td>right</td>\n",
       "      <td>Pass</td>\n",
       "      <td>High pass</td>\n",
       "      <td>1H</td>\n",
       "      <td>4.947</td>\n",
       "      <td>31</td>\n",
       "      <td>78</td>\n",
       "      <td>51</td>\n",
       "      <td>75</td>\n",
       "      <td>1</td>\n",
       "      <td>1</td>\n",
       "      <td>1</td>\n",
       "      <td>1</td>\n",
       "      <td>0.082</td>\n",
       "      <td>1</td>\n",
       "      <td>8.0</td>\n",
       "      <td>tall-normal</td>\n",
       "    </tr>\n",
       "  </tbody>\n",
       "</table>\n",
       "</div>"
      ],
      "text/plain": [
       "          id  matchId  gameweek  month  hour  teamHome  teamId teamName  \\\n",
       "0  177959171  2499719         1      8    18  Arsenal     1609  Arsenal   \n",
       "1  177959172  2499719         1      8    18  Arsenal     1609  Arsenal   \n",
       "\n",
       "    league  playerId     shortName role     age  height  weight   foot  \\\n",
       "0  england     25413  A. Lacazette  FWD  26.599   175.0    73.0  right   \n",
       "1  england    370224    R. Holding  DEF  22.284   189.0    75.0  right   \n",
       "\n",
       "  eventName subEventName matchPeriod  eventSec  x_start  y_start  x_end  \\\n",
       "0      Pass  Simple pass          1H     2.759       49       49     31   \n",
       "1      Pass    High pass          1H     4.947       31       78     51   \n",
       "\n",
       "   y_end  leagueNum  footNum  matchPeriodNum  roleNum  eventMin  \\\n",
       "0     78          1        1               1        3     0.046   \n",
       "1     75          1        1               1        1     0.082   \n",
       "\n",
       "   eventMinRounded  phyScore       phyClass  \n",
       "0                1       5.0  normal-normal  \n",
       "1                1       8.0    tall-normal  "
      ]
     },
     "execution_count": 434,
     "metadata": {},
     "output_type": "execute_result"
    }
   ],
   "source": [
    "events.head(2)"
   ]
  },
  {
   "cell_type": "code",
   "execution_count": null,
   "metadata": {},
   "outputs": [],
   "source": []
  },
  {
   "cell_type": "code",
   "execution_count": 435,
   "metadata": {},
   "outputs": [],
   "source": [
    "# version with goalkeepers\n",
    "events.to_csv(\"../csv/02-eventsAll_wGKP.csv\")"
   ]
  },
  {
   "cell_type": "markdown",
   "metadata": {},
   "source": [
    "### Multiclass Target Construction"
   ]
  },
  {
   "cell_type": "markdown",
   "metadata": {},
   "source": [
    "The aim of the 1st part of thos project is to predict the events. To expand on that, let's check the current events."
   ]
  },
  {
   "cell_type": "code",
   "execution_count": 436,
   "metadata": {},
   "outputs": [
    {
     "data": {
      "text/plain": [
       "['Pass',\n",
       " 'Duel',\n",
       " 'Foul',\n",
       " 'Shot',\n",
       " 'Save attempt',\n",
       " 'Others on the ball',\n",
       " 'Free Kick',\n",
       " 'Goalkeeper leaving line',\n",
       " 'Offside',\n",
       " 'Interruption']"
      ]
     },
     "execution_count": 436,
     "metadata": {},
     "output_type": "execute_result"
    }
   ],
   "source": [
    "list(events.eventName.unique())"
   ]
  },
  {
   "cell_type": "markdown",
   "metadata": {},
   "source": [
    "I would like to clarify something before diving into the labeling. Soccer is a dynamic game. It is just like syncronizing a bunch of continuous activities in a timely manner. Given that, one of the main feature group effective on the prediction of events is the (x,y) coordinate group. Therefore, the data needs movement to reflect reliable information. And goalkeepers are not that active in terms of vertical and horizontal movement on the pitch. Their play is completely different from an open field player like a forward or midfielder, hence their misalignment with the purpose of the model. Consequently, I want to exclude them from the project's domain."
   ]
  },
  {
   "cell_type": "code",
   "execution_count": 437,
   "metadata": {},
   "outputs": [],
   "source": [
    "# define a new dataframe without the goalkeeper\n",
    "events = events[events.role != 'GKP']"
   ]
  },
  {
   "cell_type": "markdown",
   "metadata": {},
   "source": [
    "One important detail to watch out is the events strictly owned by the goalkeeper position. What I mean by that is as follows: In the game of football, if the player substitution limit is reached (3 subs) and the goalkkeper gets a red card punishment and forced to leave the pitch, a player have to replace him and guard the goal as a goalkeepers. This situation does not change his permanent role, but it has potential to add mode goalkeeper related sub-events such as \"Save Attempt\" or \"Hand pass\". To avoid such possibility, I decided to exclude any goalkeeper event present as well."
   ]
  },
  {
   "cell_type": "code",
   "execution_count": 438,
   "metadata": {},
   "outputs": [],
   "source": [
    "# make the list of strictly Goalkeeper related events.\n",
    "GK_subEvents = ['Goal kick', 'Hand pass', 'Reflexes', 'Save attempt', 'Goalkeeper leaving line']\n",
    "events = events[~events.subEventName.isin(GK_subEvents)]"
   ]
  },
  {
   "cell_type": "code",
   "execution_count": 439,
   "metadata": {},
   "outputs": [
    {
     "data": {
      "text/plain": [
       "(2702465, 32)"
      ]
     },
     "execution_count": 439,
     "metadata": {},
     "output_type": "execute_result"
    }
   ],
   "source": [
    "events.shape"
   ]
  },
  {
   "cell_type": "markdown",
   "metadata": {},
   "source": [
    "Next step is to define the target events.\n",
    "\n",
    "Let's check the current events and go from there."
   ]
  },
  {
   "cell_type": "code",
   "execution_count": 440,
   "metadata": {},
   "outputs": [
    {
     "data": {
      "text/plain": [
       "['Pass',\n",
       " 'Duel',\n",
       " 'Foul',\n",
       " 'Shot',\n",
       " 'Others on the ball',\n",
       " 'Free Kick',\n",
       " 'Offside',\n",
       " 'Interruption']"
      ]
     },
     "execution_count": 440,
     "metadata": {},
     "output_type": "execute_result"
    }
   ],
   "source": [
    "list(events.eventName.unique())"
   ]
  },
  {
   "cell_type": "markdown",
   "metadata": {},
   "source": [
    "I need more clarification. I decide to list the events with the related subEvents and shed some more light into the decision making."
   ]
  },
  {
   "cell_type": "code",
   "execution_count": 441,
   "metadata": {},
   "outputs": [
    {
     "data": {
      "text/html": [
       "<div>\n",
       "<style scoped>\n",
       "    .dataframe tbody tr th:only-of-type {\n",
       "        vertical-align: middle;\n",
       "    }\n",
       "\n",
       "    .dataframe tbody tr th {\n",
       "        vertical-align: top;\n",
       "    }\n",
       "\n",
       "    .dataframe thead th {\n",
       "        text-align: right;\n",
       "    }\n",
       "</style>\n",
       "<table border=\"1\" class=\"dataframe\">\n",
       "  <thead>\n",
       "    <tr style=\"text-align: right;\">\n",
       "      <th></th>\n",
       "      <th>eventName</th>\n",
       "      <th>subEventName</th>\n",
       "      <th>0</th>\n",
       "    </tr>\n",
       "  </thead>\n",
       "  <tbody>\n",
       "    <tr>\n",
       "      <th>0</th>\n",
       "      <td>Duel</td>\n",
       "      <td>Air duel</td>\n",
       "      <td>144295</td>\n",
       "    </tr>\n",
       "    <tr>\n",
       "      <th>1</th>\n",
       "      <td>Duel</td>\n",
       "      <td>Ground attacking duel</td>\n",
       "      <td>242124</td>\n",
       "    </tr>\n",
       "    <tr>\n",
       "      <th>2</th>\n",
       "      <td>Duel</td>\n",
       "      <td>Ground defending duel</td>\n",
       "      <td>234676</td>\n",
       "    </tr>\n",
       "    <tr>\n",
       "      <th>3</th>\n",
       "      <td>Duel</td>\n",
       "      <td>Ground loose ball duel</td>\n",
       "      <td>125032</td>\n",
       "    </tr>\n",
       "    <tr>\n",
       "      <th>4</th>\n",
       "      <td>Foul</td>\n",
       "      <td>Foul</td>\n",
       "      <td>43894</td>\n",
       "    </tr>\n",
       "    <tr>\n",
       "      <th>5</th>\n",
       "      <td>Foul</td>\n",
       "      <td>Hand foul</td>\n",
       "      <td>1919</td>\n",
       "    </tr>\n",
       "    <tr>\n",
       "      <th>6</th>\n",
       "      <td>Foul</td>\n",
       "      <td>Late card foul</td>\n",
       "      <td>300</td>\n",
       "    </tr>\n",
       "    <tr>\n",
       "      <th>7</th>\n",
       "      <td>Foul</td>\n",
       "      <td>Out of game foul</td>\n",
       "      <td>450</td>\n",
       "    </tr>\n",
       "    <tr>\n",
       "      <th>8</th>\n",
       "      <td>Foul</td>\n",
       "      <td>Protest</td>\n",
       "      <td>523</td>\n",
       "    </tr>\n",
       "    <tr>\n",
       "      <th>9</th>\n",
       "      <td>Foul</td>\n",
       "      <td>Simulation</td>\n",
       "      <td>108</td>\n",
       "    </tr>\n",
       "    <tr>\n",
       "      <th>10</th>\n",
       "      <td>Foul</td>\n",
       "      <td>Time lost foul</td>\n",
       "      <td>127</td>\n",
       "    </tr>\n",
       "    <tr>\n",
       "      <th>11</th>\n",
       "      <td>Foul</td>\n",
       "      <td>Violent Foul</td>\n",
       "      <td>73</td>\n",
       "    </tr>\n",
       "    <tr>\n",
       "      <th>12</th>\n",
       "      <td>Free Kick</td>\n",
       "      <td>Corner</td>\n",
       "      <td>18050</td>\n",
       "    </tr>\n",
       "    <tr>\n",
       "      <th>13</th>\n",
       "      <td>Free Kick</td>\n",
       "      <td>Free Kick</td>\n",
       "      <td>23378</td>\n",
       "    </tr>\n",
       "    <tr>\n",
       "      <th>14</th>\n",
       "      <td>Free Kick</td>\n",
       "      <td>Free kick cross</td>\n",
       "      <td>8094</td>\n",
       "    </tr>\n",
       "    <tr>\n",
       "      <th>15</th>\n",
       "      <td>Free Kick</td>\n",
       "      <td>Free kick shot</td>\n",
       "      <td>2038</td>\n",
       "    </tr>\n",
       "    <tr>\n",
       "      <th>16</th>\n",
       "      <td>Free Kick</td>\n",
       "      <td>Penalty</td>\n",
       "      <td>541</td>\n",
       "    </tr>\n",
       "    <tr>\n",
       "      <th>17</th>\n",
       "      <td>Free Kick</td>\n",
       "      <td>Throw in</td>\n",
       "      <td>78026</td>\n",
       "    </tr>\n",
       "    <tr>\n",
       "      <th>18</th>\n",
       "      <td>Interruption</td>\n",
       "      <td>Ball out of the field</td>\n",
       "      <td>19</td>\n",
       "    </tr>\n",
       "    <tr>\n",
       "      <th>19</th>\n",
       "      <td>Interruption</td>\n",
       "      <td>Whistle</td>\n",
       "      <td>2</td>\n",
       "    </tr>\n",
       "    <tr>\n",
       "      <th>20</th>\n",
       "      <td>Offside</td>\n",
       "      <td>Offside</td>\n",
       "      <td>7793</td>\n",
       "    </tr>\n",
       "    <tr>\n",
       "      <th>21</th>\n",
       "      <td>Others on the ball</td>\n",
       "      <td>Acceleration</td>\n",
       "      <td>24367</td>\n",
       "    </tr>\n",
       "    <tr>\n",
       "      <th>22</th>\n",
       "      <td>Others on the ball</td>\n",
       "      <td>Clearance</td>\n",
       "      <td>51905</td>\n",
       "    </tr>\n",
       "    <tr>\n",
       "      <th>23</th>\n",
       "      <td>Others on the ball</td>\n",
       "      <td>Touch</td>\n",
       "      <td>160184</td>\n",
       "    </tr>\n",
       "    <tr>\n",
       "      <th>24</th>\n",
       "      <td>Pass</td>\n",
       "      <td>Cross</td>\n",
       "      <td>58630</td>\n",
       "    </tr>\n",
       "    <tr>\n",
       "      <th>25</th>\n",
       "      <td>Pass</td>\n",
       "      <td>Head pass</td>\n",
       "      <td>91068</td>\n",
       "    </tr>\n",
       "    <tr>\n",
       "      <th>26</th>\n",
       "      <td>Pass</td>\n",
       "      <td>High pass</td>\n",
       "      <td>115018</td>\n",
       "    </tr>\n",
       "    <tr>\n",
       "      <th>27</th>\n",
       "      <td>Pass</td>\n",
       "      <td>Launch</td>\n",
       "      <td>19829</td>\n",
       "    </tr>\n",
       "    <tr>\n",
       "      <th>28</th>\n",
       "      <td>Pass</td>\n",
       "      <td>Simple pass</td>\n",
       "      <td>1181125</td>\n",
       "    </tr>\n",
       "    <tr>\n",
       "      <th>29</th>\n",
       "      <td>Pass</td>\n",
       "      <td>Smart pass</td>\n",
       "      <td>28426</td>\n",
       "    </tr>\n",
       "    <tr>\n",
       "      <th>30</th>\n",
       "      <td>Shot</td>\n",
       "      <td>Shot</td>\n",
       "      <td>40451</td>\n",
       "    </tr>\n",
       "  </tbody>\n",
       "</table>\n",
       "</div>"
      ],
      "text/plain": [
       "             eventName            subEventName        0\n",
       "0                 Duel                Air duel   144295\n",
       "1                 Duel   Ground attacking duel   242124\n",
       "2                 Duel   Ground defending duel   234676\n",
       "3                 Duel  Ground loose ball duel   125032\n",
       "4                 Foul                    Foul    43894\n",
       "5                 Foul               Hand foul     1919\n",
       "6                 Foul          Late card foul      300\n",
       "7                 Foul        Out of game foul      450\n",
       "8                 Foul                 Protest      523\n",
       "9                 Foul              Simulation      108\n",
       "10                Foul          Time lost foul      127\n",
       "11                Foul            Violent Foul       73\n",
       "12           Free Kick                  Corner    18050\n",
       "13           Free Kick               Free Kick    23378\n",
       "14           Free Kick         Free kick cross     8094\n",
       "15           Free Kick          Free kick shot     2038\n",
       "16           Free Kick                 Penalty      541\n",
       "17           Free Kick                Throw in    78026\n",
       "18        Interruption   Ball out of the field       19\n",
       "19        Interruption                 Whistle        2\n",
       "20             Offside                 Offside     7793\n",
       "21  Others on the ball            Acceleration    24367\n",
       "22  Others on the ball               Clearance    51905\n",
       "23  Others on the ball                   Touch   160184\n",
       "24                Pass                   Cross    58630\n",
       "25                Pass               Head pass    91068\n",
       "26                Pass               High pass   115018\n",
       "27                Pass                  Launch    19829\n",
       "28                Pass             Simple pass  1181125\n",
       "29                Pass              Smart pass    28426\n",
       "30                Shot                    Shot    40451"
      ]
     },
     "execution_count": 441,
     "metadata": {},
     "output_type": "execute_result"
    }
   ],
   "source": [
    "# temp event table\n",
    "_ = (events.groupby(['eventName', 'subEventName'])\n",
    "     .size()\n",
    "     .reset_index()\n",
    "     .sort_values(by=['eventName', 'subEventName']))\n",
    "_"
   ]
  },
  {
   "cell_type": "markdown",
   "metadata": {},
   "source": [
    "After looking at the table, here is how I justified the new events as my targets:\n",
    " - **short_pass**: Any kind of ground pass or simple pass or through pass.\n",
    " - **long_pass**: Air passes that goes more than 20 yards such as high pass or launch.\n",
    " - **shot**: As is including anything leads to potential goal scored such as free kick shots and penalty shots.\n",
    " - **control**: Events on th ball with the involvement of 1 or more opponent(s) such as duels, accelarations, touches.\n",
    " - **game_break**: Events resulting with a break in the game such as offside, hand foul, foul, whistle."
   ]
  },
  {
   "cell_type": "code",
   "execution_count": 442,
   "metadata": {},
   "outputs": [],
   "source": [
    "event_dict = {\n",
    "    'Simple pass': 'short_pass',\n",
    "    'High pass': 'long_pass',\n",
    "    'Ground defending duel': 'control',\n",
    "    'Ground attacking duel': 'control',\n",
    "    'Throw in': 'short_pass',\n",
    "    'Head pass': 'short_pass',\n",
    "    'Shot': 'shot',\n",
    "    'Touch': 'control',\n",
    "    'Clearance': 'control',\n",
    "    'Ground loose ball duel': 'control',\n",
    "    'Launch': 'long_pass',\n",
    "    'Air duel': 'control',\n",
    "    'Corner': 'long_pass',\n",
    "    'Smart pass': 'short_pass',\n",
    "    'Foul': 'game_break',\n",
    "    'Free Kick': 'long_pass',\n",
    "    'Cross': 'long_pass',\n",
    "    'Hand foul': 'game_break',\n",
    "    'Acceleration': 'control',\n",
    "    'Late card foul': 'game_break',\n",
    "    'Ball out of the field': 'game_break',\n",
    "    'Free kick cross': 'long_pass',\n",
    "    'Violent Foul': 'game_break',\n",
    "    'Penalty': 'shot',\n",
    "    'Free kick shot': 'shot',\n",
    "    'Protest': 'game_break',\n",
    "    'Time lost foul': 'game_break',\n",
    "    'Out of game foul': 'game_break',\n",
    "    'Simulation': 'game_break',\n",
    "    'Whistle': 'game_break',\n",
    "    'Offside': 'game_break'}"
   ]
  },
  {
   "cell_type": "code",
   "execution_count": 443,
   "metadata": {},
   "outputs": [
    {
     "name": "stdout",
     "output_type": "stream",
     "text": [
      "True\n",
      "short_pass    1378645\n",
      "control        982583\n",
      "long_pass      242999\n",
      "game_break      55208\n",
      "shot            43030\n",
      "Name: event, dtype: int64\n",
      "0\n"
     ]
    }
   ],
   "source": [
    "# create the target and map the events\n",
    "events['event'] = events['subEventName'].map(event_dict)\n",
    "\n",
    "# sanity checks\n",
    "print(events.event.shape[0] == events.shape[0])\n",
    "print(events.event.value_counts())\n",
    "print(events.event.isna().sum())"
   ]
  },
  {
   "cell_type": "code",
   "execution_count": null,
   "metadata": {},
   "outputs": [],
   "source": []
  },
  {
   "cell_type": "markdown",
   "metadata": {},
   "source": [
    "### Visualizations"
   ]
  },
  {
   "cell_type": "markdown",
   "metadata": {},
   "source": [
    "First I wish to check the distribution of the new events I created for labeling."
   ]
  },
  {
   "cell_type": "code",
   "execution_count": 444,
   "metadata": {},
   "outputs": [
    {
     "data": {
      "image/png": "[encoded data removed]",
      "text/plain": [
       "<Figure size 576x432 with 1 Axes>"
      ]
     },
     "metadata": {
      "needs_background": "light"
     },
     "output_type": "display_data"
    }
   ],
   "source": [
    "plt.figure(figsize=(8, 6))\n",
    "ax = sns.countplot(y=\"event\", data=events)\n",
    "plt.title(\"Total Event Counts\");"
   ]
  },
  {
   "cell_type": "code",
   "execution_count": 445,
   "metadata": {},
   "outputs": [
    {
     "name": "stdout",
     "output_type": "stream",
     "text": [
      "Short pass percentage: 51.01%\n",
      "Control percentage: 36.36%\n",
      "Average number of short passes in a match: 755.\n"
     ]
    }
   ],
   "source": [
    "print(f\"Short pass percentage:{(events[events.event == 'short_pass'].shape[0] / events.shape[0]) * 100: .2f}%\")\n",
    "print(f\"Control percentage:{(events[events.event == 'control'].shape[0] / events.shape[0]) * 100: .2f}%\")\n",
    "print(f\"Average number of short passes in a match:{events[events.event == 'short_pass'].shape[0] / events.matchId.nunique(): .0f}.\")"
   ]
  },
  {
   "cell_type": "markdown",
   "metadata": {},
   "source": [
    "The event short_pass covers 51% of the entire event set. That is normal. In a game of soccer, it is ok to see average of 755 short passes.\n",
    "\n",
    "Control takes a little over quarter of the event total. Again, soccer is a physical game and most of the competition takes place between players and ball of opposite sides.\n",
    "\n",
    "Small amount shots reminds me about how hard it is to find an opening and take shot in a professional soccer game. Also, there is a small amount of ame breaks, hence the continuously dynamic nature of soccer.\n",
    "\n",
    "What about the distribution among the different leagues?"
   ]
  },
  {
   "cell_type": "code",
   "execution_count": 446,
   "metadata": {},
   "outputs": [
    {
     "data": {
      "image/png": "[encoded data removed]",
      "text/plain": [
       "<Figure size 576x432 with 1 Axes>"
      ]
     },
     "metadata": {
      "needs_background": "light"
     },
     "output_type": "display_data"
    }
   ],
   "source": [
    "plt.figure(figsize=(8, 6))\n",
    "ax = sns.countplot(x=\"event\", data=events, hue='league')\n",
    "plt.title(\"Total Event Counts by League\");"
   ]
  },
  {
   "cell_type": "markdown",
   "metadata": {},
   "source": [
    "All the distributions look ok except Germany. I am suspecting the number of the game weeks. Let's to make sure..."
   ]
  },
  {
   "cell_type": "code",
   "execution_count": 447,
   "metadata": {},
   "outputs": [
    {
     "name": "stdout",
     "output_type": "stream",
     "text": [
      "The football league of england is 38 weeks long.\n",
      "The football league of france is 38 weeks long.\n",
      "The football league of germany is 34 weeks long.\n",
      "The football league of italy is 38 weeks long.\n",
      "The football league of spain is 38 weeks long.\n"
     ]
    }
   ],
   "source": [
    "for league in list(events['league'].unique()):\n",
    "    \n",
    "    print(\"The football league of\", league, \n",
    "          f\"is {events[events['league'] == league]['gameweek'].nunique()} weeks long.\")\n"
   ]
  },
  {
   "cell_type": "markdown",
   "metadata": {},
   "source": [
    "Yep!"
   ]
  },
  {
   "cell_type": "markdown",
   "metadata": {},
   "source": [
    "Wouldn't it be great to see the distribution of these events on an actual soccer field? First, I need to scale the coordinates to match the approximate shape of the soccer field, 120 yards by 80 yards, so I can fit them in an actual soccer pitch, AKA the heat distribution field. (please see **Pitch 2** in **Storage** section)."
   ]
  },
  {
   "cell_type": "code",
   "execution_count": 448,
   "metadata": {},
   "outputs": [],
   "source": [
    "# scale x's\n",
    "events['x_start_scaled'] = events['x_start'].map(lambda x: x * 120 / 100)\n",
    "events['x_end_scaled'] = events['x_end'].map(lambda x: x * 120 / 100)\n",
    "\n",
    "# scale y's'\n",
    "events['y_start_scaled'] = events['y_start'].map(lambda x: x * 80 / 100)\n",
    "events['y_end_scaled'] = events['y_end'].map(lambda x: x * 80 / 100)"
   ]
  },
  {
   "cell_type": "code",
   "execution_count": 449,
   "metadata": {},
   "outputs": [
    {
     "data": {
      "text/html": [
       "<div>\n",
       "<style scoped>\n",
       "    .dataframe tbody tr th:only-of-type {\n",
       "        vertical-align: middle;\n",
       "    }\n",
       "\n",
       "    .dataframe tbody tr th {\n",
       "        vertical-align: top;\n",
       "    }\n",
       "\n",
       "    .dataframe thead th {\n",
       "        text-align: right;\n",
       "    }\n",
       "</style>\n",
       "<table border=\"1\" class=\"dataframe\">\n",
       "  <thead>\n",
       "    <tr style=\"text-align: right;\">\n",
       "      <th></th>\n",
       "      <th>id</th>\n",
       "      <th>matchId</th>\n",
       "      <th>gameweek</th>\n",
       "      <th>month</th>\n",
       "      <th>hour</th>\n",
       "      <th>teamHome</th>\n",
       "      <th>teamId</th>\n",
       "      <th>teamName</th>\n",
       "      <th>league</th>\n",
       "      <th>playerId</th>\n",
       "      <th>shortName</th>\n",
       "      <th>role</th>\n",
       "      <th>age</th>\n",
       "      <th>height</th>\n",
       "      <th>weight</th>\n",
       "      <th>foot</th>\n",
       "      <th>eventName</th>\n",
       "      <th>subEventName</th>\n",
       "      <th>matchPeriod</th>\n",
       "      <th>eventSec</th>\n",
       "      <th>x_start</th>\n",
       "      <th>y_start</th>\n",
       "      <th>x_end</th>\n",
       "      <th>y_end</th>\n",
       "      <th>leagueNum</th>\n",
       "      <th>footNum</th>\n",
       "      <th>matchPeriodNum</th>\n",
       "      <th>roleNum</th>\n",
       "      <th>eventMin</th>\n",
       "      <th>eventMinRounded</th>\n",
       "      <th>phyScore</th>\n",
       "      <th>phyClass</th>\n",
       "      <th>event</th>\n",
       "      <th>x_start_scaled</th>\n",
       "      <th>x_end_scaled</th>\n",
       "      <th>y_start_scaled</th>\n",
       "      <th>y_end_scaled</th>\n",
       "    </tr>\n",
       "  </thead>\n",
       "  <tbody>\n",
       "    <tr>\n",
       "      <th>0</th>\n",
       "      <td>177959171</td>\n",
       "      <td>2499719</td>\n",
       "      <td>1</td>\n",
       "      <td>8</td>\n",
       "      <td>18</td>\n",
       "      <td>Arsenal</td>\n",
       "      <td>1609</td>\n",
       "      <td>Arsenal</td>\n",
       "      <td>england</td>\n",
       "      <td>25413</td>\n",
       "      <td>A. Lacazette</td>\n",
       "      <td>FWD</td>\n",
       "      <td>26.599</td>\n",
       "      <td>175.0</td>\n",
       "      <td>73.0</td>\n",
       "      <td>right</td>\n",
       "      <td>Pass</td>\n",
       "      <td>Simple pass</td>\n",
       "      <td>1H</td>\n",
       "      <td>2.759</td>\n",
       "      <td>49</td>\n",
       "      <td>49</td>\n",
       "      <td>31</td>\n",
       "      <td>78</td>\n",
       "      <td>1</td>\n",
       "      <td>1</td>\n",
       "      <td>1</td>\n",
       "      <td>3</td>\n",
       "      <td>0.046</td>\n",
       "      <td>1</td>\n",
       "      <td>5.0</td>\n",
       "      <td>normal-normal</td>\n",
       "      <td>short_pass</td>\n",
       "      <td>58.8</td>\n",
       "      <td>37.2</td>\n",
       "      <td>39.2</td>\n",
       "      <td>62.4</td>\n",
       "    </tr>\n",
       "    <tr>\n",
       "      <th>1</th>\n",
       "      <td>177959172</td>\n",
       "      <td>2499719</td>\n",
       "      <td>1</td>\n",
       "      <td>8</td>\n",
       "      <td>18</td>\n",
       "      <td>Arsenal</td>\n",
       "      <td>1609</td>\n",
       "      <td>Arsenal</td>\n",
       "      <td>england</td>\n",
       "      <td>370224</td>\n",
       "      <td>R. Holding</td>\n",
       "      <td>DEF</td>\n",
       "      <td>22.284</td>\n",
       "      <td>189.0</td>\n",
       "      <td>75.0</td>\n",
       "      <td>right</td>\n",
       "      <td>Pass</td>\n",
       "      <td>High pass</td>\n",
       "      <td>1H</td>\n",
       "      <td>4.947</td>\n",
       "      <td>31</td>\n",
       "      <td>78</td>\n",
       "      <td>51</td>\n",
       "      <td>75</td>\n",
       "      <td>1</td>\n",
       "      <td>1</td>\n",
       "      <td>1</td>\n",
       "      <td>1</td>\n",
       "      <td>0.082</td>\n",
       "      <td>1</td>\n",
       "      <td>8.0</td>\n",
       "      <td>tall-normal</td>\n",
       "      <td>long_pass</td>\n",
       "      <td>37.2</td>\n",
       "      <td>61.2</td>\n",
       "      <td>62.4</td>\n",
       "      <td>60.0</td>\n",
       "    </tr>\n",
       "  </tbody>\n",
       "</table>\n",
       "</div>"
      ],
      "text/plain": [
       "          id  matchId  gameweek  month  hour  teamHome  teamId teamName  \\\n",
       "0  177959171  2499719         1      8    18  Arsenal     1609  Arsenal   \n",
       "1  177959172  2499719         1      8    18  Arsenal     1609  Arsenal   \n",
       "\n",
       "    league  playerId     shortName role     age  height  weight   foot  \\\n",
       "0  england     25413  A. Lacazette  FWD  26.599   175.0    73.0  right   \n",
       "1  england    370224    R. Holding  DEF  22.284   189.0    75.0  right   \n",
       "\n",
       "  eventName subEventName matchPeriod  eventSec  x_start  y_start  x_end  \\\n",
       "0      Pass  Simple pass          1H     2.759       49       49     31   \n",
       "1      Pass    High pass          1H     4.947       31       78     51   \n",
       "\n",
       "   y_end  leagueNum  footNum  matchPeriodNum  roleNum  eventMin  \\\n",
       "0     78          1        1               1        3     0.046   \n",
       "1     75          1        1               1        1     0.082   \n",
       "\n",
       "   eventMinRounded  phyScore       phyClass       event  x_start_scaled  \\\n",
       "0                1       5.0  normal-normal  short_pass            58.8   \n",
       "1                1       8.0    tall-normal   long_pass            37.2   \n",
       "\n",
       "   x_end_scaled  y_start_scaled  y_end_scaled  \n",
       "0          37.2            39.2          62.4  \n",
       "1          61.2            62.4          60.0  "
      ]
     },
     "execution_count": 449,
     "metadata": {},
     "output_type": "execute_result"
    }
   ],
   "source": [
    "events.head(2)"
   ]
  },
  {
   "cell_type": "code",
   "execution_count": 450,
   "metadata": {},
   "outputs": [
    {
     "data": {
      "text/plain": [
       "['short_pass', 'long_pass', 'control', 'game_break', 'shot']"
      ]
     },
     "execution_count": 450,
     "metadata": {},
     "output_type": "execute_result"
    }
   ],
   "source": [
    "# create a list of events\n",
    "event_list = list(events.event.unique())\n",
    "event_list"
   ]
  },
  {
   "cell_type": "markdown",
   "metadata": {},
   "source": [
    "Since the dataset is too big for heat distribution, I will pick one team (my favorite) and cover the matches between weeks 1 & 5 and display the distributions for further analysis."
   ]
  },
  {
   "cell_type": "code",
   "execution_count": 451,
   "metadata": {},
   "outputs": [
    {
     "data": {
      "image/png": "[encoded data removed]",
      "text/plain": [
       "<Figure size 432x288 with 1 Axes>"
      ]
     },
     "metadata": {
      "needs_background": "light"
     },
     "output_type": "display_data"
    },
    {
     "data": {
      "image/png": "[encoded data removed]",
      "text/plain": [
       "<Figure size 432x288 with 1 Axes>"
      ]
     },
     "metadata": {
      "needs_background": "light"
     },
     "output_type": "display_data"
    },
    {
     "data": {
      "image/png": "[encoded data removed]",
      "text/plain": [
       "<Figure size 432x288 with 1 Axes>"
      ]
     },
     "metadata": {
      "needs_background": "light"
     },
     "output_type": "display_data"
    },
    {
     "data": {
      "image/png": "[encoded data removed]",
      "text/plain": [
       "<Figure size 432x288 with 1 Axes>"
      ]
     },
     "metadata": {
      "needs_background": "light"
     },
     "output_type": "display_data"
    },
    {
     "data": {
      "image/png": "[encoded data removed]",
      "text/plain": [
       "<Figure size 432x288 with 1 Axes>"
      ]
     },
     "metadata": {
      "needs_background": "light"
     },
     "output_type": "display_data"
    }
   ],
   "source": [
    "#loop the event_list and visualize each event\n",
    "for event in event_list:    \n",
    "    \n",
    "    # setup dataframe\n",
    "    _ = events[(events['event'] == event) & \\\n",
    "               (events['teamName'] == 'Arsenal') & \\\n",
    "               (events['gameweek'] < 6)]\n",
    "\n",
    "    # plot\n",
    "    fig, ax = plt.subplots()\n",
    "    football_pitch_2(ax)\n",
    "    plt.ylim(-2, 82)   # extend the pitch beyond goal lines\n",
    "    plt.xlim(-2, 122)  # extend the pitch beyond touch lines\n",
    "    plt.axis('on')\n",
    "\n",
    "    fig.set_size_inches(6, 4)\n",
    "\n",
    "    x_coord = [i for i in _[\"x_start_scaled\"]] + [-10, 130]    # fake data point to extend the heat \n",
    "                                                               # distribution in case of a small number of events\n",
    "\n",
    "    y_coord = [i for i in _[\"y_start_scaled\"]] + [-10, 90]     # fake data point to extend the heat \n",
    "                                                               # distribution in case of a small number of events\n",
    "\n",
    "    #shades: give us the heat map we desire\n",
    "    # n_levels: intensity of the shade\n",
    "    sns.kdeplot(x_coord, y_coord, shade = \"True\", color = \"r\", n_levels = 60)\n",
    "    plt.title(event)\n",
    "    plt.show()"
   ]
  },
  {
   "cell_type": "markdown",
   "metadata": {},
   "source": [
    "They all make sense:\n",
    " - Short passes are concetrated in the middle half of the pitch. Midfielders and defenders are the short passers of the soccer world.\n",
    " - Long passes are high in the defeding half and on the sides of the offending half of the pitch. Defenders and midfielders pull this trick with accelrating attackers as receivers to catch thedefnders off guard.\n",
    " - Game breaks happend mostly on the offensice halves and sides. A lot of the fouls are safer to commit on the sidelines than the area facing the goal directly. Also, the fast wingers are being caught offside.\n",
    " - Shots reall speak for themselves, not much to say there.\n",
    " - Control happens all over the place, hence control is the one on ones and single plays are foundation of soccer. Also, I see some movement on the sides a bit due to the dribbling and accelarations performed by attackers.\n",
    " \n",
    "All seem normal to me. The labels are ready!"
   ]
  },
  {
   "cell_type": "markdown",
   "metadata": {},
   "source": [
    "Due to the limited time I have for this project, I prefer to save some major time by taking a piece of the dataset and compare the distribution of its events to the total. What I hope to achieve in this exercise is seeing a similar distribution of event counts."
   ]
  },
  {
   "cell_type": "code",
   "execution_count": 452,
   "metadata": {},
   "outputs": [
    {
     "data": {
      "image/png": "[encoded data removed]",
      "text/plain": [
       "<Figure size 576x432 with 2 Axes>"
      ]
     },
     "metadata": {
      "needs_background": "light"
     },
     "output_type": "display_data"
    }
   ],
   "source": [
    "# there goes my favorite league\n",
    "events_eng = events[events['league'] == 'england']\n",
    "\n",
    "# figure size and spacing\n",
    "plt.figure(figsize=(8, 6))\n",
    "plt.subplots_adjust(hspace=.5)\n",
    "\n",
    "# england event chart\n",
    "plt.subplot(2,1,1)\n",
    "ax = sns.countplot(y=\"event\", data=events_eng)\n",
    "plt.title(\"Total Event Counts - England\");\n",
    "\n",
    "# total event chart for comparison\n",
    "plt.subplot(2,1,2)\n",
    "ax = sns.countplot(y=\"event\", data=events)\n",
    "plt.title(\"Total Event Counts\");"
   ]
  },
  {
   "cell_type": "markdown",
   "metadata": {},
   "source": [
    "Please do not worry about the scales, just focus on the bar lenghts. Because all I want to see is the similarity of the distributions. And they look similar! \n",
    "\n",
    "Excellent! This relevance will help in notebook 03 by saving me a lot of precious time. Because I now can use the mini-dataset (*events_eng*) to test the hyper-parameters and feature enginering in a shorter processing time. Once I am happy, I can scale it with the bigger dataset (*events*)\n",
    "\n",
    "By the way, less gamebreaks in English league is totally normal given the nature of Premier League. If you don't trust me on that, just watch a Premier League match:)."
   ]
  },
  {
   "cell_type": "markdown",
   "metadata": {},
   "source": [
    "Here are comple more pictures to feed my curiosity."
   ]
  },
  {
   "cell_type": "code",
   "execution_count": 453,
   "metadata": {},
   "outputs": [
    {
     "data": {
      "image/png": "[encoded data removed]",
      "text/plain": [
       "<Figure size 576x432 with 1 Axes>"
      ]
     },
     "metadata": {
      "needs_background": "light"
     },
     "output_type": "display_data"
    }
   ],
   "source": [
    "# just curios about the distribution of phySpec and role\n",
    "plt.figure(figsize=(8, 6))\n",
    "ax = sns.countplot(y=\"phyClass\", data=events, hue='role')\n",
    "plt.title(\"Counts by Physical Class and Role\");"
   ]
  },
  {
   "cell_type": "code",
   "execution_count": 454,
   "metadata": {},
   "outputs": [
    {
     "data": {
      "image/png": "[encoded data removed]",
      "text/plain": [
       "<Figure size 576x432 with 1 Axes>"
      ]
     },
     "metadata": {
      "needs_background": "light"
     },
     "output_type": "display_data"
    }
   ],
   "source": [
    "# what about age distribution\n",
    "plt.figure(figsize=(8, 6))\n",
    "ax = sns.distplot(events[\"age\"])\n",
    "plt.title(\"Age Distribution\");"
   ]
  },
  {
   "cell_type": "code",
   "execution_count": 455,
   "metadata": {},
   "outputs": [
    {
     "data": {
      "text/html": [
       "<div>\n",
       "<style scoped>\n",
       "    .dataframe tbody tr th:only-of-type {\n",
       "        vertical-align: middle;\n",
       "    }\n",
       "\n",
       "    .dataframe tbody tr th {\n",
       "        vertical-align: top;\n",
       "    }\n",
       "\n",
       "    .dataframe thead th {\n",
       "        text-align: right;\n",
       "    }\n",
       "</style>\n",
       "<table border=\"1\" class=\"dataframe\">\n",
       "  <thead>\n",
       "    <tr style=\"text-align: right;\">\n",
       "      <th></th>\n",
       "      <th>id</th>\n",
       "      <th>matchId</th>\n",
       "      <th>gameweek</th>\n",
       "      <th>month</th>\n",
       "      <th>hour</th>\n",
       "      <th>teamHome</th>\n",
       "      <th>teamId</th>\n",
       "      <th>teamName</th>\n",
       "      <th>league</th>\n",
       "      <th>playerId</th>\n",
       "      <th>shortName</th>\n",
       "      <th>role</th>\n",
       "      <th>age</th>\n",
       "      <th>height</th>\n",
       "      <th>weight</th>\n",
       "      <th>foot</th>\n",
       "      <th>eventName</th>\n",
       "      <th>subEventName</th>\n",
       "      <th>matchPeriod</th>\n",
       "      <th>eventSec</th>\n",
       "      <th>x_start</th>\n",
       "      <th>y_start</th>\n",
       "      <th>x_end</th>\n",
       "      <th>y_end</th>\n",
       "      <th>leagueNum</th>\n",
       "      <th>footNum</th>\n",
       "      <th>matchPeriodNum</th>\n",
       "      <th>roleNum</th>\n",
       "      <th>eventMin</th>\n",
       "      <th>eventMinRounded</th>\n",
       "      <th>phyScore</th>\n",
       "      <th>phyClass</th>\n",
       "      <th>event</th>\n",
       "      <th>x_start_scaled</th>\n",
       "      <th>x_end_scaled</th>\n",
       "      <th>y_start_scaled</th>\n",
       "      <th>y_end_scaled</th>\n",
       "    </tr>\n",
       "  </thead>\n",
       "  <tbody>\n",
       "    <tr>\n",
       "      <th>0</th>\n",
       "      <td>177959171</td>\n",
       "      <td>2499719</td>\n",
       "      <td>1</td>\n",
       "      <td>8</td>\n",
       "      <td>18</td>\n",
       "      <td>Arsenal</td>\n",
       "      <td>1609</td>\n",
       "      <td>Arsenal</td>\n",
       "      <td>england</td>\n",
       "      <td>25413</td>\n",
       "      <td>A. Lacazette</td>\n",
       "      <td>FWD</td>\n",
       "      <td>26.599</td>\n",
       "      <td>175.0</td>\n",
       "      <td>73.0</td>\n",
       "      <td>right</td>\n",
       "      <td>Pass</td>\n",
       "      <td>Simple pass</td>\n",
       "      <td>1H</td>\n",
       "      <td>2.759</td>\n",
       "      <td>49</td>\n",
       "      <td>49</td>\n",
       "      <td>31</td>\n",
       "      <td>78</td>\n",
       "      <td>1</td>\n",
       "      <td>1</td>\n",
       "      <td>1</td>\n",
       "      <td>3</td>\n",
       "      <td>0.046</td>\n",
       "      <td>1</td>\n",
       "      <td>5.0</td>\n",
       "      <td>normal-normal</td>\n",
       "      <td>short_pass</td>\n",
       "      <td>58.8</td>\n",
       "      <td>37.2</td>\n",
       "      <td>39.2</td>\n",
       "      <td>62.4</td>\n",
       "    </tr>\n",
       "    <tr>\n",
       "      <th>1</th>\n",
       "      <td>177959172</td>\n",
       "      <td>2499719</td>\n",
       "      <td>1</td>\n",
       "      <td>8</td>\n",
       "      <td>18</td>\n",
       "      <td>Arsenal</td>\n",
       "      <td>1609</td>\n",
       "      <td>Arsenal</td>\n",
       "      <td>england</td>\n",
       "      <td>370224</td>\n",
       "      <td>R. Holding</td>\n",
       "      <td>DEF</td>\n",
       "      <td>22.284</td>\n",
       "      <td>189.0</td>\n",
       "      <td>75.0</td>\n",
       "      <td>right</td>\n",
       "      <td>Pass</td>\n",
       "      <td>High pass</td>\n",
       "      <td>1H</td>\n",
       "      <td>4.947</td>\n",
       "      <td>31</td>\n",
       "      <td>78</td>\n",
       "      <td>51</td>\n",
       "      <td>75</td>\n",
       "      <td>1</td>\n",
       "      <td>1</td>\n",
       "      <td>1</td>\n",
       "      <td>1</td>\n",
       "      <td>0.082</td>\n",
       "      <td>1</td>\n",
       "      <td>8.0</td>\n",
       "      <td>tall-normal</td>\n",
       "      <td>long_pass</td>\n",
       "      <td>37.2</td>\n",
       "      <td>61.2</td>\n",
       "      <td>62.4</td>\n",
       "      <td>60.0</td>\n",
       "    </tr>\n",
       "    <tr>\n",
       "      <th>2</th>\n",
       "      <td>177959173</td>\n",
       "      <td>2499719</td>\n",
       "      <td>1</td>\n",
       "      <td>8</td>\n",
       "      <td>18</td>\n",
       "      <td>Arsenal</td>\n",
       "      <td>1609</td>\n",
       "      <td>Arsenal</td>\n",
       "      <td>england</td>\n",
       "      <td>3319</td>\n",
       "      <td>M. \\u00d6zil</td>\n",
       "      <td>MID</td>\n",
       "      <td>29.213</td>\n",
       "      <td>180.0</td>\n",
       "      <td>76.0</td>\n",
       "      <td>left</td>\n",
       "      <td>Pass</td>\n",
       "      <td>Head pass</td>\n",
       "      <td>1H</td>\n",
       "      <td>6.542</td>\n",
       "      <td>51</td>\n",
       "      <td>75</td>\n",
       "      <td>35</td>\n",
       "      <td>71</td>\n",
       "      <td>1</td>\n",
       "      <td>2</td>\n",
       "      <td>1</td>\n",
       "      <td>2</td>\n",
       "      <td>0.109</td>\n",
       "      <td>1</td>\n",
       "      <td>6.0</td>\n",
       "      <td>normal-stocky</td>\n",
       "      <td>short_pass</td>\n",
       "      <td>61.2</td>\n",
       "      <td>42.0</td>\n",
       "      <td>60.0</td>\n",
       "      <td>56.8</td>\n",
       "    </tr>\n",
       "    <tr>\n",
       "      <th>3</th>\n",
       "      <td>177959174</td>\n",
       "      <td>2499719</td>\n",
       "      <td>1</td>\n",
       "      <td>8</td>\n",
       "      <td>18</td>\n",
       "      <td>Arsenal</td>\n",
       "      <td>1609</td>\n",
       "      <td>Arsenal</td>\n",
       "      <td>england</td>\n",
       "      <td>120339</td>\n",
       "      <td>Mohamed Elneny</td>\n",
       "      <td>MID</td>\n",
       "      <td>25.476</td>\n",
       "      <td>180.0</td>\n",
       "      <td>70.0</td>\n",
       "      <td>right</td>\n",
       "      <td>Pass</td>\n",
       "      <td>Head pass</td>\n",
       "      <td>1H</td>\n",
       "      <td>8.143</td>\n",
       "      <td>35</td>\n",
       "      <td>71</td>\n",
       "      <td>41</td>\n",
       "      <td>95</td>\n",
       "      <td>1</td>\n",
       "      <td>1</td>\n",
       "      <td>1</td>\n",
       "      <td>2</td>\n",
       "      <td>0.136</td>\n",
       "      <td>1</td>\n",
       "      <td>5.0</td>\n",
       "      <td>normal-normal</td>\n",
       "      <td>short_pass</td>\n",
       "      <td>42.0</td>\n",
       "      <td>49.2</td>\n",
       "      <td>56.8</td>\n",
       "      <td>76.0</td>\n",
       "    </tr>\n",
       "    <tr>\n",
       "      <th>4</th>\n",
       "      <td>177959175</td>\n",
       "      <td>2499719</td>\n",
       "      <td>1</td>\n",
       "      <td>8</td>\n",
       "      <td>18</td>\n",
       "      <td>Arsenal</td>\n",
       "      <td>1609</td>\n",
       "      <td>Arsenal</td>\n",
       "      <td>england</td>\n",
       "      <td>167145</td>\n",
       "      <td>Beller\\u00edn</td>\n",
       "      <td>DEF</td>\n",
       "      <td>22.790</td>\n",
       "      <td>178.0</td>\n",
       "      <td>74.0</td>\n",
       "      <td>right</td>\n",
       "      <td>Pass</td>\n",
       "      <td>Simple pass</td>\n",
       "      <td>1H</td>\n",
       "      <td>10.302</td>\n",
       "      <td>41</td>\n",
       "      <td>95</td>\n",
       "      <td>72</td>\n",
       "      <td>88</td>\n",
       "      <td>1</td>\n",
       "      <td>1</td>\n",
       "      <td>1</td>\n",
       "      <td>1</td>\n",
       "      <td>0.172</td>\n",
       "      <td>1</td>\n",
       "      <td>5.0</td>\n",
       "      <td>normal-normal</td>\n",
       "      <td>short_pass</td>\n",
       "      <td>49.2</td>\n",
       "      <td>86.4</td>\n",
       "      <td>76.0</td>\n",
       "      <td>70.4</td>\n",
       "    </tr>\n",
       "  </tbody>\n",
       "</table>\n",
       "</div>"
      ],
      "text/plain": [
       "          id  matchId  gameweek  month  hour  teamHome  teamId teamName  \\\n",
       "0  177959171  2499719         1      8    18  Arsenal     1609  Arsenal   \n",
       "1  177959172  2499719         1      8    18  Arsenal     1609  Arsenal   \n",
       "2  177959173  2499719         1      8    18  Arsenal     1609  Arsenal   \n",
       "3  177959174  2499719         1      8    18  Arsenal     1609  Arsenal   \n",
       "4  177959175  2499719         1      8    18  Arsenal     1609  Arsenal   \n",
       "\n",
       "    league  playerId       shortName role     age  height  weight   foot  \\\n",
       "0  england     25413    A. Lacazette  FWD  26.599   175.0    73.0  right   \n",
       "1  england    370224      R. Holding  DEF  22.284   189.0    75.0  right   \n",
       "2  england      3319    M. \\u00d6zil  MID  29.213   180.0    76.0   left   \n",
       "3  england    120339  Mohamed Elneny  MID  25.476   180.0    70.0  right   \n",
       "4  england    167145   Beller\\u00edn  DEF  22.790   178.0    74.0  right   \n",
       "\n",
       "  eventName subEventName matchPeriod  eventSec  x_start  y_start  x_end  \\\n",
       "0      Pass  Simple pass          1H     2.759       49       49     31   \n",
       "1      Pass    High pass          1H     4.947       31       78     51   \n",
       "2      Pass    Head pass          1H     6.542       51       75     35   \n",
       "3      Pass    Head pass          1H     8.143       35       71     41   \n",
       "4      Pass  Simple pass          1H    10.302       41       95     72   \n",
       "\n",
       "   y_end  leagueNum  footNum  matchPeriodNum  roleNum  eventMin  \\\n",
       "0     78          1        1               1        3     0.046   \n",
       "1     75          1        1               1        1     0.082   \n",
       "2     71          1        2               1        2     0.109   \n",
       "3     95          1        1               1        2     0.136   \n",
       "4     88          1        1               1        1     0.172   \n",
       "\n",
       "   eventMinRounded  phyScore       phyClass       event  x_start_scaled  \\\n",
       "0                1       5.0  normal-normal  short_pass            58.8   \n",
       "1                1       8.0    tall-normal   long_pass            37.2   \n",
       "2                1       6.0  normal-stocky  short_pass            61.2   \n",
       "3                1       5.0  normal-normal  short_pass            42.0   \n",
       "4                1       5.0  normal-normal  short_pass            49.2   \n",
       "\n",
       "   x_end_scaled  y_start_scaled  y_end_scaled  \n",
       "0          37.2            39.2          62.4  \n",
       "1          61.2            62.4          60.0  \n",
       "2          42.0            60.0          56.8  \n",
       "3          49.2            56.8          76.0  \n",
       "4          86.4            76.0          70.4  "
      ]
     },
     "execution_count": 455,
     "metadata": {},
     "output_type": "execute_result"
    }
   ],
   "source": [
    "events.head()"
   ]
  },
  {
   "cell_type": "code",
   "execution_count": 456,
   "metadata": {},
   "outputs": [
    {
     "name": "stdout",
     "output_type": "stream",
     "text": [
      "/Users/atahankocak/ds/metis/project-05/notebook\r\n"
     ]
    }
   ],
   "source": [
    "# check the directory before saving\n",
    "!pwd"
   ]
  },
  {
   "cell_type": "code",
   "execution_count": 457,
   "metadata": {},
   "outputs": [],
   "source": [
    "# save the events data for modeling\n",
    "events.to_csv(\"../csv/02-eventsAll.csv\")\n",
    "events_eng.to_csv(\"../csv/02-eventsEng.csv\")"
   ]
  },
  {
   "cell_type": "markdown",
   "metadata": {},
   "source": [
    "### Storage"
   ]
  },
  {
   "cell_type": "markdown",
   "metadata": {},
   "source": [
    "#### Pitch 1"
   ]
  },
  {
   "cell_type": "code",
   "execution_count": 58,
   "metadata": {},
   "outputs": [],
   "source": [
    "# green pitch - good for scatter plots\n",
    "\n",
    "line = 'white'\n",
    "pitch = 'green'\n",
    "\n",
    "def football_pitch_1(ax):\n",
    "    fig,ax = plt.subplots(figsize=(12,8))\n",
    "    ax.axis('on')\n",
    "\n",
    "    # side and goal lines #\n",
    "    ly1 = [0,0,80,80,0]\n",
    "    lx1 = [0,120,120,0,0]\n",
    "    plt.plot(lx1,ly1,color=line,zorder=5)\n",
    "\n",
    "    # 18 yard boxes\n",
    "    ly2 = [18,18,62,62] \n",
    "    lx2 = [120,102,102,120]\n",
    "    plt.plot(lx2,ly2,color=line,zorder=5)\n",
    "\n",
    "    ly3 = [18,18,62,62] \n",
    "    lx3 = [0,18,18,0]\n",
    "    plt.plot(lx3,ly3,color=line,zorder=5)\n",
    "\n",
    "    # goals\n",
    "    ly4 = [36,36,44,44]\n",
    "    lx4 = [120,122,122,120]\n",
    "    plt.plot(lx4,ly4,color=line,zorder=5)\n",
    "\n",
    "    ly5 = [36,36,44,44]\n",
    "    lx5 = [0,-2,-2,0]\n",
    "    plt.plot(lx5,ly5,color=line,zorder=5)\n",
    "\n",
    "\n",
    "    # 6 yard boxes\n",
    "    ly6 = [30,30,50,50]\n",
    "    lx6 = [120,114,114,120]\n",
    "    plt.plot(lx6,ly6,color=line,zorder=5)\n",
    "\n",
    "    ly7 = [30,30,50,50]\n",
    "    lx7 = [0,6,6,0]\n",
    "    plt.plot(lx7,ly7,color=line,zorder=5)\n",
    "\n",
    "    # halfway line\n",
    "    ly8 = [0,80] \n",
    "    lx8 = [60,60]\n",
    "    plt.plot(lx8,ly8,color=line,zorder=5)\n",
    "\n",
    "    # penalty spot left\n",
    "    plt.scatter(108,40,color=line,zorder=5)\n",
    "    \n",
    "    # penalty spot right\n",
    "    plt.scatter(12,40,color=line,zorder=5)\n",
    "    \n",
    "    # center kickoff spot\n",
    "    plt.scatter(60,40,color=line,zorder=5)\n",
    "    \n",
    "    # right 18 yard box arc\n",
    "    circle1 = matplotlib.patches.Arc((108,40), height=20, width=20, angle=0, theta1=126, theta2=234,\n",
    "                                     color=line, lw=1.5, alpha=1)\n",
    "    \n",
    "    # left 18 yard box arc\n",
    "    circle2 = matplotlib.patches.Arc((12,40), height=20, width=20, angle=0, theta1=306, theta2=54,\n",
    "                                     color=line, lw=1.5, alpha=1)\n",
    "    # center circle\n",
    "    circle3 = plt.Circle((60, 40), 10,ls='solid',lw=1.5,color=line, fill=False, zorder=2,alpha=1)\n",
    "\n",
    "    ## Pitch rectangle\n",
    "    rec3 = plt.Rectangle((-3, -3), 126,86,ls='-',color=pitch, zorder=1,alpha=1)\n",
    "\n",
    "    ax.add_artist(rec3)\n",
    "    ax.add_artist(circle3)\n",
    "    ax.add_artist(circle2)\n",
    "    ax.add_artist(circle1)"
   ]
  },
  {
   "cell_type": "markdown",
   "metadata": {},
   "source": [
    "#### Pitch 1 - test"
   ]
  },
  {
   "cell_type": "code",
   "execution_count": 59,
   "metadata": {},
   "outputs": [],
   "source": [
    "# setup dataframes for testing\n",
    "df_team_1 = events[(events['matchId'] == 2499719) & \n",
    "               (events['teamName'] == 'Arsenal') & \n",
    "               (events['matchPeriod'] == '1H') &\n",
    "               (events['eventName'] == 'Pass')]\n",
    "\n",
    "df_team_2 = events[(events['matchId'] == 2499719) & \n",
    "               (events['teamName'] == 'Leicester City') & \n",
    "               (events['matchPeriod'] == '2H') &\n",
    "               (events['eventName'] == 'Pass')] "
   ]
  },
  {
   "cell_type": "code",
   "execution_count": 62,
   "metadata": {},
   "outputs": [
    {
     "data": {
      "image/png": "[encoded data removed]",
      "text/plain": [
       "<Figure size 864x576 with 1 Axes>"
      ]
     },
     "metadata": {
      "needs_background": "light"
     },
     "output_type": "display_data"
    }
   ],
   "source": [
    "# test\n",
    "football_pitch_1(ax)\n",
    "ax = plt.scatter(df_team_2['x_start_scaled'], df_team_2['y_start_scaled'], \n",
    "                  c='r', edgecolors=\"k\", marker ='s', linewidth=.5, zorder=12)\n",
    "\n",
    "plt.title('Arsenal Passes', fontsize=20)\n",
    "plt.legend([ax],['Arsenal', 'Leicester City'], loc='lower right', prop={'size': 10})\n",
    "plt.show()"
   ]
  },
  {
   "cell_type": "markdown",
   "metadata": {},
   "source": [
    "#### Pitch 2"
   ]
  },
  {
   "cell_type": "code",
   "execution_count": null,
   "metadata": {},
   "outputs": [],
   "source": [
    "# white pitch - good for density heat maps\n",
    "def football_pitch_2(ax):\n",
    "\n",
    "    #Pitch Outline\n",
    "    pitch = plt.Rectangle([0,0], width = 120, height = 80, fill = False)\n",
    "    \n",
    "    # midline\n",
    "    midline = matplotlib.patches.ConnectionPatch([60,0], [60,80], \"data\", \"data\")\n",
    "    \n",
    "    #Left, Right Penalty Area\n",
    "    leftPenSpot = plt.Rectangle([0,30], width = 6, height = 20, fill = False)\n",
    "    rightPenSpot = plt.Rectangle([114,30], width = 6, height = 20, fill = False)\n",
    "    \n",
    "    # left goal\n",
    "    ly4 = [36,36,44,44]\n",
    "    lx4 = [120,122,122,120]\n",
    "    plt.plot(lx4,ly4,color='black', zorder=5, lw=1.5)\n",
    "    \n",
    "    # right goal\n",
    "    ly5 = [36,36,44,44]\n",
    "    lx5 = [0,-2,-2,0]\n",
    "    plt.plot(lx5,ly5,color='black', zorder=5, lw=1.5)\n",
    "    \n",
    "    #Left, Right 18-yard Box\n",
    "    leftYard = plt.Rectangle([0,18], width = 18, height = 44, fill = False)\n",
    "    rightYard = plt.Rectangle([102,18], width = 18, height = 44, fill = False)\n",
    "    \n",
    "    # penalty spots \n",
    "    leftPenSpot = plt.Circle((12,40),0.71,color=\"black\")\n",
    "    rightPenSpot = plt.Circle((108,40),0.71,color=\"black\")\n",
    "    \n",
    "    # arcs around penalty spots\n",
    "    rightArc = matplotlib.patches.Arc((108,40), height=20, width=20, angle=0, theta1=126, theta2=234,\n",
    "                                     color='black', lw=1.5, alpha=1)\n",
    "    leftArc = matplotlib.patches.Arc((12,40), height=20, width=20, angle=0, theta1=306, theta2=54,\n",
    "                                     color='black', lw=1.5, alpha=1)\n",
    "    \n",
    "    # middle circle and spot\n",
    "    centreCircle = plt.Circle((60,40),10.5,color=\"black\", fill = False)\n",
    "    centreSpot = plt.Circle((60,40),0.71,color=\"black\")\n",
    "      \n",
    "    element = [pitch, leftPenSpot, rightPenSpot, midline, leftYard, rightYard, centreCircle, \n",
    "               centreSpot, rightPenSpot, leftPenSpot, leftArc, rightArc]\n",
    "    for i in element:\n",
    "        ax.add_patch(i)"
   ]
  },
  {
   "cell_type": "markdown",
   "metadata": {},
   "source": [
    "#### Pitch 2 - Test"
   ]
  },
  {
   "cell_type": "code",
   "execution_count": null,
   "metadata": {},
   "outputs": [],
   "source": [
    "fig, ax = plt.subplots()\n",
    "football_pitch_2(ax)\n",
    "plt.ylim(-2, 82)\n",
    "plt.xlim(-2, 122)\n",
    "plt.axis('off')\n",
    "\n",
    "fig.set_size_inches(6, 4)\n",
    "\n",
    "x_coord = [i for i in df_team_1[\"x_start\"]] + [-10, 130]\n",
    "y_coord = [i for i in df_team_1[\"y_start\"]] + [-10, 90]\n",
    "\n",
    "#shades: give us the heat map we desire\n",
    "# n_levels: draw more lines, the larger n, the more blurry it looks\n",
    "sns.kdeplot(x_coord, y_coord, shade = \"True\", color = \"r\", n_levels = 60)\n",
    "plt.show()\n",
    "\n",
    "\n",
    "fig, ax = plt.subplots()\n",
    "football_pitch_2(ax)\n",
    "plt.ylim(-2, 82)\n",
    "plt.xlim(-2, 122)\n",
    "plt.axis('off')\n",
    "\n",
    "fig.set_size_inches(6, 4)\n",
    "\n",
    "x_coord = [i for i in df_team_2[\"x_start\"]] + [-10, 130]\n",
    "y_coord = [i for i in df_team_2[\"y_start\"]] + [-10, 90]\n",
    "\n",
    "#shades: give us the heat map we desire\n",
    "# n_levels: draw more lines, the larger n, the more blurry it looks\n",
    "sns.kdeplot(x_coord, y_coord, shade = True, color = \"b\", n_levels = 30, gridsize=120)\n",
    "plt.show()"
   ]
  },
  {
   "cell_type": "code",
   "execution_count": null,
   "metadata": {},
   "outputs": [],
   "source": []
  },
  {
   "cell_type": "code",
   "execution_count": null,
   "metadata": {},
   "outputs": [],
   "source": []
  }
 ],
 "metadata": {
  "kernelspec": {
   "display_name": "Python 3",
   "language": "python",
   "name": "python3"
  },
  "language_info": {
   "codemirror_mode": {
    "name": "ipython",
    "version": 3
   },
   "file_extension": ".py",
   "mimetype": "text/x-python",
   "name": "python",
   "nbconvert_exporter": "python",
   "pygments_lexer": "ipython3",
   "version": "3.7.5"
  }
 },
 "nbformat": 4,
 "nbformat_minor": 2
}
